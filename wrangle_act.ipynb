{
 "cells": [
  {
   "cell_type": "markdown",
   "metadata": {},
   "source": [
    "# Wrangle and Analyze Data"
   ]
  },
  {
   "cell_type": "markdown",
   "metadata": {},
   "source": [
    "## Introduction\n",
    "The task in this project is to data wrangling which contents three stages:\n",
    "\n",
    "First stage: Gathering data from three resources from CVS, URL, and JSON.\n",
    "all of which relate to the famous WeRateDogs (@dog_rates) Twitter account. WeRateDogs is a Twitter account that tweets images of dogs their owners send in, along with a funny caption and a rating that almost always exceeds 10/10\"\n",
    "\n",
    "Second stage: Assessing data and define data issues of the quality and tidiness.\n",
    "\n",
    "Third stage: Cleaning data, Defied each issue and write the code to clean it then, test the clean process.\n",
    "\n",
    "Finally, after finish data-wrangling start storing, analyzing, and visualizing the data.\n",
    "\n"
   ]
  },
  {
   "cell_type": "markdown",
   "metadata": {},
   "source": [
    "## Wrangling The Data"
   ]
  },
  {
   "cell_type": "markdown",
   "metadata": {},
   "source": [
    "### First : Gathering Data "
   ]
  },
  {
   "cell_type": "code",
   "execution_count": 1,
   "metadata": {},
   "outputs": [],
   "source": [
    "#import libraries\n",
    "import pandas as pd\n",
    "import numpy as np\n",
    "import requests\n",
    "import os\n",
    "import tweepy\n",
    "from tweepy import OAuthHandler\n",
    "import json\n",
    "from timeit import default_timer as timer\n",
    "from functools import reduce\n",
    "import statistics\n",
    "import matplotlib.pyplot as plt\n",
    "%matplotlib inline"
   ]
  },
  {
   "cell_type": "code",
   "execution_count": 2,
   "metadata": {},
   "outputs": [
    {
     "data": {
      "text/html": [
       "<div>\n",
       "<style scoped>\n",
       "    .dataframe tbody tr th:only-of-type {\n",
       "        vertical-align: middle;\n",
       "    }\n",
       "\n",
       "    .dataframe tbody tr th {\n",
       "        vertical-align: top;\n",
       "    }\n",
       "\n",
       "    .dataframe thead th {\n",
       "        text-align: right;\n",
       "    }\n",
       "</style>\n",
       "<table border=\"1\" class=\"dataframe\">\n",
       "  <thead>\n",
       "    <tr style=\"text-align: right;\">\n",
       "      <th></th>\n",
       "      <th>tweet_id</th>\n",
       "      <th>in_reply_to_status_id</th>\n",
       "      <th>in_reply_to_user_id</th>\n",
       "      <th>timestamp</th>\n",
       "      <th>source</th>\n",
       "      <th>text</th>\n",
       "      <th>retweeted_status_id</th>\n",
       "      <th>retweeted_status_user_id</th>\n",
       "      <th>retweeted_status_timestamp</th>\n",
       "      <th>expanded_urls</th>\n",
       "      <th>rating_numerator</th>\n",
       "      <th>rating_denominator</th>\n",
       "      <th>name</th>\n",
       "      <th>doggo</th>\n",
       "      <th>floofer</th>\n",
       "      <th>pupper</th>\n",
       "      <th>puppo</th>\n",
       "    </tr>\n",
       "  </thead>\n",
       "  <tbody>\n",
       "    <tr>\n",
       "      <th>0</th>\n",
       "      <td>892420643555336193</td>\n",
       "      <td>NaN</td>\n",
       "      <td>NaN</td>\n",
       "      <td>2017-08-01 16:23:56 +0000</td>\n",
       "      <td>&lt;a href=\"http://twitter.com/download/iphone\" r...</td>\n",
       "      <td>This is Phineas. He's a mystical boy. Only eve...</td>\n",
       "      <td>NaN</td>\n",
       "      <td>NaN</td>\n",
       "      <td>NaN</td>\n",
       "      <td>https://twitter.com/dog_rates/status/892420643...</td>\n",
       "      <td>13</td>\n",
       "      <td>10</td>\n",
       "      <td>Phineas</td>\n",
       "      <td>None</td>\n",
       "      <td>None</td>\n",
       "      <td>None</td>\n",
       "      <td>None</td>\n",
       "    </tr>\n",
       "    <tr>\n",
       "      <th>1</th>\n",
       "      <td>892177421306343426</td>\n",
       "      <td>NaN</td>\n",
       "      <td>NaN</td>\n",
       "      <td>2017-08-01 00:17:27 +0000</td>\n",
       "      <td>&lt;a href=\"http://twitter.com/download/iphone\" r...</td>\n",
       "      <td>This is Tilly. She's just checking pup on you....</td>\n",
       "      <td>NaN</td>\n",
       "      <td>NaN</td>\n",
       "      <td>NaN</td>\n",
       "      <td>https://twitter.com/dog_rates/status/892177421...</td>\n",
       "      <td>13</td>\n",
       "      <td>10</td>\n",
       "      <td>Tilly</td>\n",
       "      <td>None</td>\n",
       "      <td>None</td>\n",
       "      <td>None</td>\n",
       "      <td>None</td>\n",
       "    </tr>\n",
       "    <tr>\n",
       "      <th>2</th>\n",
       "      <td>891815181378084864</td>\n",
       "      <td>NaN</td>\n",
       "      <td>NaN</td>\n",
       "      <td>2017-07-31 00:18:03 +0000</td>\n",
       "      <td>&lt;a href=\"http://twitter.com/download/iphone\" r...</td>\n",
       "      <td>This is Archie. He is a rare Norwegian Pouncin...</td>\n",
       "      <td>NaN</td>\n",
       "      <td>NaN</td>\n",
       "      <td>NaN</td>\n",
       "      <td>https://twitter.com/dog_rates/status/891815181...</td>\n",
       "      <td>12</td>\n",
       "      <td>10</td>\n",
       "      <td>Archie</td>\n",
       "      <td>None</td>\n",
       "      <td>None</td>\n",
       "      <td>None</td>\n",
       "      <td>None</td>\n",
       "    </tr>\n",
       "    <tr>\n",
       "      <th>3</th>\n",
       "      <td>891689557279858688</td>\n",
       "      <td>NaN</td>\n",
       "      <td>NaN</td>\n",
       "      <td>2017-07-30 15:58:51 +0000</td>\n",
       "      <td>&lt;a href=\"http://twitter.com/download/iphone\" r...</td>\n",
       "      <td>This is Darla. She commenced a snooze mid meal...</td>\n",
       "      <td>NaN</td>\n",
       "      <td>NaN</td>\n",
       "      <td>NaN</td>\n",
       "      <td>https://twitter.com/dog_rates/status/891689557...</td>\n",
       "      <td>13</td>\n",
       "      <td>10</td>\n",
       "      <td>Darla</td>\n",
       "      <td>None</td>\n",
       "      <td>None</td>\n",
       "      <td>None</td>\n",
       "      <td>None</td>\n",
       "    </tr>\n",
       "    <tr>\n",
       "      <th>4</th>\n",
       "      <td>891327558926688256</td>\n",
       "      <td>NaN</td>\n",
       "      <td>NaN</td>\n",
       "      <td>2017-07-29 16:00:24 +0000</td>\n",
       "      <td>&lt;a href=\"http://twitter.com/download/iphone\" r...</td>\n",
       "      <td>This is Franklin. He would like you to stop ca...</td>\n",
       "      <td>NaN</td>\n",
       "      <td>NaN</td>\n",
       "      <td>NaN</td>\n",
       "      <td>https://twitter.com/dog_rates/status/891327558...</td>\n",
       "      <td>12</td>\n",
       "      <td>10</td>\n",
       "      <td>Franklin</td>\n",
       "      <td>None</td>\n",
       "      <td>None</td>\n",
       "      <td>None</td>\n",
       "      <td>None</td>\n",
       "    </tr>\n",
       "  </tbody>\n",
       "</table>\n",
       "</div>"
      ],
      "text/plain": [
       "             tweet_id  in_reply_to_status_id  in_reply_to_user_id  \\\n",
       "0  892420643555336193                    NaN                  NaN   \n",
       "1  892177421306343426                    NaN                  NaN   \n",
       "2  891815181378084864                    NaN                  NaN   \n",
       "3  891689557279858688                    NaN                  NaN   \n",
       "4  891327558926688256                    NaN                  NaN   \n",
       "\n",
       "                   timestamp  \\\n",
       "0  2017-08-01 16:23:56 +0000   \n",
       "1  2017-08-01 00:17:27 +0000   \n",
       "2  2017-07-31 00:18:03 +0000   \n",
       "3  2017-07-30 15:58:51 +0000   \n",
       "4  2017-07-29 16:00:24 +0000   \n",
       "\n",
       "                                              source  \\\n",
       "0  <a href=\"http://twitter.com/download/iphone\" r...   \n",
       "1  <a href=\"http://twitter.com/download/iphone\" r...   \n",
       "2  <a href=\"http://twitter.com/download/iphone\" r...   \n",
       "3  <a href=\"http://twitter.com/download/iphone\" r...   \n",
       "4  <a href=\"http://twitter.com/download/iphone\" r...   \n",
       "\n",
       "                                                text  retweeted_status_id  \\\n",
       "0  This is Phineas. He's a mystical boy. Only eve...                  NaN   \n",
       "1  This is Tilly. She's just checking pup on you....                  NaN   \n",
       "2  This is Archie. He is a rare Norwegian Pouncin...                  NaN   \n",
       "3  This is Darla. She commenced a snooze mid meal...                  NaN   \n",
       "4  This is Franklin. He would like you to stop ca...                  NaN   \n",
       "\n",
       "   retweeted_status_user_id retweeted_status_timestamp  \\\n",
       "0                       NaN                        NaN   \n",
       "1                       NaN                        NaN   \n",
       "2                       NaN                        NaN   \n",
       "3                       NaN                        NaN   \n",
       "4                       NaN                        NaN   \n",
       "\n",
       "                                       expanded_urls  rating_numerator  \\\n",
       "0  https://twitter.com/dog_rates/status/892420643...                13   \n",
       "1  https://twitter.com/dog_rates/status/892177421...                13   \n",
       "2  https://twitter.com/dog_rates/status/891815181...                12   \n",
       "3  https://twitter.com/dog_rates/status/891689557...                13   \n",
       "4  https://twitter.com/dog_rates/status/891327558...                12   \n",
       "\n",
       "   rating_denominator      name doggo floofer pupper puppo  \n",
       "0                  10   Phineas  None    None   None  None  \n",
       "1                  10     Tilly  None    None   None  None  \n",
       "2                  10    Archie  None    None   None  None  \n",
       "3                  10     Darla  None    None   None  None  \n",
       "4                  10  Franklin  None    None   None  None  "
      ]
     },
     "execution_count": 2,
     "metadata": {},
     "output_type": "execute_result"
    }
   ],
   "source": [
    "# 1. Read CSV File\n",
    "twitter_archive = pd.read_csv('twitter-archive-enhanced.csv')\n",
    "twitter_archive.head()"
   ]
  },
  {
   "cell_type": "code",
   "execution_count": 3,
   "metadata": {},
   "outputs": [
    {
     "data": {
      "text/plain": [
       "<Response [200]>"
      ]
     },
     "execution_count": 3,
     "metadata": {},
     "output_type": "execute_result"
    }
   ],
   "source": [
    "# 2. Read From URL files (TSV)\n",
    "folder_name = 'image_folder'\n",
    "if not os.path.exists(folder_name):\n",
    "    os.makedirs(folder_name)\n",
    "\n",
    "url = 'https://d17h27t6h515a5.cloudfront.net/topher/2017/August/599fd2ad_image-predictions/image-predictions.tsv'\n",
    "response = requests.get(url)\n",
    "response"
   ]
  },
  {
   "cell_type": "code",
   "execution_count": 4,
   "metadata": {},
   "outputs": [],
   "source": [
    "with open(os.path.join(folder_name,\n",
    "                      url.split('/')[-1]) , mode='wb') as file:\n",
    "    file.write(response.content)\n",
    "image_predictions = pd.read_csv('image-predictions.tsv' , sep='\\t')\n"
   ]
  },
  {
   "cell_type": "code",
   "execution_count": 5,
   "metadata": {},
   "outputs": [
    {
     "data": {
      "text/html": [
       "<div>\n",
       "<style scoped>\n",
       "    .dataframe tbody tr th:only-of-type {\n",
       "        vertical-align: middle;\n",
       "    }\n",
       "\n",
       "    .dataframe tbody tr th {\n",
       "        vertical-align: top;\n",
       "    }\n",
       "\n",
       "    .dataframe thead th {\n",
       "        text-align: right;\n",
       "    }\n",
       "</style>\n",
       "<table border=\"1\" class=\"dataframe\">\n",
       "  <thead>\n",
       "    <tr style=\"text-align: right;\">\n",
       "      <th></th>\n",
       "      <th>tweet_id</th>\n",
       "      <th>jpg_url</th>\n",
       "      <th>img_num</th>\n",
       "      <th>p1</th>\n",
       "      <th>p1_conf</th>\n",
       "      <th>p1_dog</th>\n",
       "      <th>p2</th>\n",
       "      <th>p2_conf</th>\n",
       "      <th>p2_dog</th>\n",
       "      <th>p3</th>\n",
       "      <th>p3_conf</th>\n",
       "      <th>p3_dog</th>\n",
       "    </tr>\n",
       "  </thead>\n",
       "  <tbody>\n",
       "    <tr>\n",
       "      <th>0</th>\n",
       "      <td>666020888022790149</td>\n",
       "      <td>https://pbs.twimg.com/media/CT4udn0WwAA0aMy.jpg</td>\n",
       "      <td>1</td>\n",
       "      <td>Welsh_springer_spaniel</td>\n",
       "      <td>0.465074</td>\n",
       "      <td>True</td>\n",
       "      <td>collie</td>\n",
       "      <td>0.156665</td>\n",
       "      <td>True</td>\n",
       "      <td>Shetland_sheepdog</td>\n",
       "      <td>0.061428</td>\n",
       "      <td>True</td>\n",
       "    </tr>\n",
       "    <tr>\n",
       "      <th>1</th>\n",
       "      <td>666029285002620928</td>\n",
       "      <td>https://pbs.twimg.com/media/CT42GRgUYAA5iDo.jpg</td>\n",
       "      <td>1</td>\n",
       "      <td>redbone</td>\n",
       "      <td>0.506826</td>\n",
       "      <td>True</td>\n",
       "      <td>miniature_pinscher</td>\n",
       "      <td>0.074192</td>\n",
       "      <td>True</td>\n",
       "      <td>Rhodesian_ridgeback</td>\n",
       "      <td>0.072010</td>\n",
       "      <td>True</td>\n",
       "    </tr>\n",
       "    <tr>\n",
       "      <th>2</th>\n",
       "      <td>666033412701032449</td>\n",
       "      <td>https://pbs.twimg.com/media/CT4521TWwAEvMyu.jpg</td>\n",
       "      <td>1</td>\n",
       "      <td>German_shepherd</td>\n",
       "      <td>0.596461</td>\n",
       "      <td>True</td>\n",
       "      <td>malinois</td>\n",
       "      <td>0.138584</td>\n",
       "      <td>True</td>\n",
       "      <td>bloodhound</td>\n",
       "      <td>0.116197</td>\n",
       "      <td>True</td>\n",
       "    </tr>\n",
       "    <tr>\n",
       "      <th>3</th>\n",
       "      <td>666044226329800704</td>\n",
       "      <td>https://pbs.twimg.com/media/CT5Dr8HUEAA-lEu.jpg</td>\n",
       "      <td>1</td>\n",
       "      <td>Rhodesian_ridgeback</td>\n",
       "      <td>0.408143</td>\n",
       "      <td>True</td>\n",
       "      <td>redbone</td>\n",
       "      <td>0.360687</td>\n",
       "      <td>True</td>\n",
       "      <td>miniature_pinscher</td>\n",
       "      <td>0.222752</td>\n",
       "      <td>True</td>\n",
       "    </tr>\n",
       "    <tr>\n",
       "      <th>4</th>\n",
       "      <td>666049248165822465</td>\n",
       "      <td>https://pbs.twimg.com/media/CT5IQmsXIAAKY4A.jpg</td>\n",
       "      <td>1</td>\n",
       "      <td>miniature_pinscher</td>\n",
       "      <td>0.560311</td>\n",
       "      <td>True</td>\n",
       "      <td>Rottweiler</td>\n",
       "      <td>0.243682</td>\n",
       "      <td>True</td>\n",
       "      <td>Doberman</td>\n",
       "      <td>0.154629</td>\n",
       "      <td>True</td>\n",
       "    </tr>\n",
       "  </tbody>\n",
       "</table>\n",
       "</div>"
      ],
      "text/plain": [
       "             tweet_id                                          jpg_url  \\\n",
       "0  666020888022790149  https://pbs.twimg.com/media/CT4udn0WwAA0aMy.jpg   \n",
       "1  666029285002620928  https://pbs.twimg.com/media/CT42GRgUYAA5iDo.jpg   \n",
       "2  666033412701032449  https://pbs.twimg.com/media/CT4521TWwAEvMyu.jpg   \n",
       "3  666044226329800704  https://pbs.twimg.com/media/CT5Dr8HUEAA-lEu.jpg   \n",
       "4  666049248165822465  https://pbs.twimg.com/media/CT5IQmsXIAAKY4A.jpg   \n",
       "\n",
       "   img_num                      p1   p1_conf  p1_dog                  p2  \\\n",
       "0        1  Welsh_springer_spaniel  0.465074    True              collie   \n",
       "1        1                 redbone  0.506826    True  miniature_pinscher   \n",
       "2        1         German_shepherd  0.596461    True            malinois   \n",
       "3        1     Rhodesian_ridgeback  0.408143    True             redbone   \n",
       "4        1      miniature_pinscher  0.560311    True          Rottweiler   \n",
       "\n",
       "    p2_conf  p2_dog                   p3   p3_conf  p3_dog  \n",
       "0  0.156665    True    Shetland_sheepdog  0.061428    True  \n",
       "1  0.074192    True  Rhodesian_ridgeback  0.072010    True  \n",
       "2  0.138584    True           bloodhound  0.116197    True  \n",
       "3  0.360687    True   miniature_pinscher  0.222752    True  \n",
       "4  0.243682    True             Doberman  0.154629    True  "
      ]
     },
     "execution_count": 5,
     "metadata": {},
     "output_type": "execute_result"
    }
   ],
   "source": [
    "image_predictions.head()"
   ]
  },
  {
   "cell_type": "code",
   "execution_count": 6,
   "metadata": {},
   "outputs": [],
   "source": [
    "# 3. Read JSON File\n",
    "with open('tweet-json.txt') as file:\n",
    "    tweet_info = pd.DataFrame(columns = ['tweet_id','favorites','retweets'])\n",
    "    \n",
    "    for line in file:\n",
    "        tweet = json.loads(line)\n",
    "        info = {'tweet_id': tweet['id'],'favorites': tweet['favorite_count'],\n",
    "                                      'retweets': tweet['retweet_count']}\n",
    "        ser = pd.Series(info)\n",
    "        tweet_info = tweet_info.append(info,ignore_index=True)\n"
   ]
  },
  {
   "cell_type": "code",
   "execution_count": 7,
   "metadata": {},
   "outputs": [
    {
     "data": {
      "text/html": [
       "<div>\n",
       "<style scoped>\n",
       "    .dataframe tbody tr th:only-of-type {\n",
       "        vertical-align: middle;\n",
       "    }\n",
       "\n",
       "    .dataframe tbody tr th {\n",
       "        vertical-align: top;\n",
       "    }\n",
       "\n",
       "    .dataframe thead th {\n",
       "        text-align: right;\n",
       "    }\n",
       "</style>\n",
       "<table border=\"1\" class=\"dataframe\">\n",
       "  <thead>\n",
       "    <tr style=\"text-align: right;\">\n",
       "      <th></th>\n",
       "      <th>tweet_id</th>\n",
       "      <th>favorites</th>\n",
       "      <th>retweets</th>\n",
       "    </tr>\n",
       "  </thead>\n",
       "  <tbody>\n",
       "    <tr>\n",
       "      <th>0</th>\n",
       "      <td>892420643555336193</td>\n",
       "      <td>39467</td>\n",
       "      <td>8853</td>\n",
       "    </tr>\n",
       "    <tr>\n",
       "      <th>1</th>\n",
       "      <td>892177421306343426</td>\n",
       "      <td>33819</td>\n",
       "      <td>6514</td>\n",
       "    </tr>\n",
       "    <tr>\n",
       "      <th>2</th>\n",
       "      <td>891815181378084864</td>\n",
       "      <td>25461</td>\n",
       "      <td>4328</td>\n",
       "    </tr>\n",
       "    <tr>\n",
       "      <th>3</th>\n",
       "      <td>891689557279858688</td>\n",
       "      <td>42908</td>\n",
       "      <td>8964</td>\n",
       "    </tr>\n",
       "    <tr>\n",
       "      <th>4</th>\n",
       "      <td>891327558926688256</td>\n",
       "      <td>41048</td>\n",
       "      <td>9774</td>\n",
       "    </tr>\n",
       "  </tbody>\n",
       "</table>\n",
       "</div>"
      ],
      "text/plain": [
       "             tweet_id favorites retweets\n",
       "0  892420643555336193     39467     8853\n",
       "1  892177421306343426     33819     6514\n",
       "2  891815181378084864     25461     4328\n",
       "3  891689557279858688     42908     8964\n",
       "4  891327558926688256     41048     9774"
      ]
     },
     "execution_count": 7,
     "metadata": {},
     "output_type": "execute_result"
    }
   ],
   "source": [
    "tweet_info.head()"
   ]
  },
  {
   "cell_type": "code",
   "execution_count": 8,
   "metadata": {},
   "outputs": [],
   "source": [
    "# The code that I would use if Twitter provides an API"
   ]
  },
  {
   "cell_type": "raw",
   "metadata": {},
   "source": [
    "\n",
    "# Query Twitter API for each tweet in the Twitter archive and save JSON in a text file\n",
    "# These are hidden to comply with Twitter's API terms and conditions\n",
    "consumer_key = 'HIDDEN'\n",
    "consumer_secret = 'HIDDEN'\n",
    "access_token = 'HIDDEN'\n",
    "access_secret = 'HIDDEN'\n",
    "\n",
    "auth = OAuthHandler(consumer_key, consumer_secret)\n",
    "auth.set_access_token(access_token, access_secret)\n",
    "\n",
    "api = tweepy.API(auth, wait_on_rate_limit=True)\n",
    "\n",
    "# NOTE TO STUDENT WITH MOBILE VERIFICATION ISSUES:\n",
    "# df_1 is a DataFrame with the twitter_archive_enhanced.csv file. You may have to\n",
    "# change line 17 to match the name of your DataFrame with twitter_archive_enhanced.csv\n",
    "# NOTE TO REVIEWER: this student had mobile verification issues so the following\n",
    "# Twitter API code was sent to this student from a Udacity instructor\n",
    "# Tweet IDs for which to gather additional data via Twitter's API\n",
    "tweet_ids = df_1.tweet_id.values\n",
    "len(tweet_ids)\n",
    "\n",
    "# Query Twitter's API for JSON data for each tweet ID in the Twitter archive\n",
    "count = 0\n",
    "fails_dict = {}\n",
    "start = timer()\n",
    "# Save each tweet's returned JSON as a new line in a .txt file\n",
    "with open('tweet_json.txt', 'w') as outfile:\n",
    "    # This loop will likely take 20-30 minutes to run because of Twitter's rate limit\n",
    "    for tweet_id in tweet_ids:\n",
    "        count += 1\n",
    "        print(str(count) + \": \" + str(tweet_id))\n",
    "        try:\n",
    "            tweet = api.get_status(tweet_id, tweet_mode='extended')\n",
    "            print(\"Success\")\n",
    "            json.dump(tweet._json, outfile)\n",
    "            outfile.write('\\n')\n",
    "        except tweepy.TweepError as e:\n",
    "            print(\"Fail\")\n",
    "            fails_dict[tweet_id] = e\n",
    "            pass\n",
    "end = timer()\n",
    "print(end - start)\n",
    "print(fails_dict)"
   ]
  },
  {
   "cell_type": "markdown",
   "metadata": {},
   "source": [
    "### Second : Assising Data"
   ]
  },
  {
   "cell_type": "markdown",
   "metadata": {},
   "source": [
    "#### 1.twitter_archive"
   ]
  },
  {
   "cell_type": "code",
   "execution_count": 9,
   "metadata": {},
   "outputs": [
    {
     "data": {
      "text/html": [
       "<div>\n",
       "<style scoped>\n",
       "    .dataframe tbody tr th:only-of-type {\n",
       "        vertical-align: middle;\n",
       "    }\n",
       "\n",
       "    .dataframe tbody tr th {\n",
       "        vertical-align: top;\n",
       "    }\n",
       "\n",
       "    .dataframe thead th {\n",
       "        text-align: right;\n",
       "    }\n",
       "</style>\n",
       "<table border=\"1\" class=\"dataframe\">\n",
       "  <thead>\n",
       "    <tr style=\"text-align: right;\">\n",
       "      <th></th>\n",
       "      <th>tweet_id</th>\n",
       "      <th>in_reply_to_status_id</th>\n",
       "      <th>in_reply_to_user_id</th>\n",
       "      <th>timestamp</th>\n",
       "      <th>source</th>\n",
       "      <th>text</th>\n",
       "      <th>retweeted_status_id</th>\n",
       "      <th>retweeted_status_user_id</th>\n",
       "      <th>retweeted_status_timestamp</th>\n",
       "      <th>expanded_urls</th>\n",
       "      <th>rating_numerator</th>\n",
       "      <th>rating_denominator</th>\n",
       "      <th>name</th>\n",
       "      <th>doggo</th>\n",
       "      <th>floofer</th>\n",
       "      <th>pupper</th>\n",
       "      <th>puppo</th>\n",
       "    </tr>\n",
       "  </thead>\n",
       "  <tbody>\n",
       "    <tr>\n",
       "      <th>453</th>\n",
       "      <td>818588835076603904</td>\n",
       "      <td>NaN</td>\n",
       "      <td>NaN</td>\n",
       "      <td>2017-01-09 22:42:41 +0000</td>\n",
       "      <td>&lt;a href=\"http://twitter.com/download/iphone\" r...</td>\n",
       "      <td>RT @dog_rates: This is Chelsea. She forgot how...</td>\n",
       "      <td>7.735476e+17</td>\n",
       "      <td>4.196984e+09</td>\n",
       "      <td>2016-09-07 15:44:53 +0000</td>\n",
       "      <td>https://twitter.com/dog_rates/status/773547596...</td>\n",
       "      <td>11</td>\n",
       "      <td>10</td>\n",
       "      <td>Chelsea</td>\n",
       "      <td>None</td>\n",
       "      <td>None</td>\n",
       "      <td>pupper</td>\n",
       "      <td>None</td>\n",
       "    </tr>\n",
       "    <tr>\n",
       "      <th>641</th>\n",
       "      <td>793226087023144960</td>\n",
       "      <td>NaN</td>\n",
       "      <td>NaN</td>\n",
       "      <td>2016-10-31 23:00:11 +0000</td>\n",
       "      <td>&lt;a href=\"http://twitter.com/download/iphone\" r...</td>\n",
       "      <td>This is Juno. She spooked me up real good, but...</td>\n",
       "      <td>NaN</td>\n",
       "      <td>NaN</td>\n",
       "      <td>NaN</td>\n",
       "      <td>https://twitter.com/dog_rates/status/793226087...</td>\n",
       "      <td>11</td>\n",
       "      <td>10</td>\n",
       "      <td>Juno</td>\n",
       "      <td>None</td>\n",
       "      <td>None</td>\n",
       "      <td>None</td>\n",
       "      <td>None</td>\n",
       "    </tr>\n",
       "    <tr>\n",
       "      <th>564</th>\n",
       "      <td>802323869084381190</td>\n",
       "      <td>NaN</td>\n",
       "      <td>NaN</td>\n",
       "      <td>2016-11-26 01:31:31 +0000</td>\n",
       "      <td>&lt;a href=\"http://twitter.com/download/iphone\" r...</td>\n",
       "      <td>This is Severus. He's here to fix your cable. ...</td>\n",
       "      <td>NaN</td>\n",
       "      <td>NaN</td>\n",
       "      <td>NaN</td>\n",
       "      <td>https://twitter.com/dog_rates/status/802323869...</td>\n",
       "      <td>13</td>\n",
       "      <td>10</td>\n",
       "      <td>Severus</td>\n",
       "      <td>None</td>\n",
       "      <td>None</td>\n",
       "      <td>None</td>\n",
       "      <td>None</td>\n",
       "    </tr>\n",
       "    <tr>\n",
       "      <th>581</th>\n",
       "      <td>800443802682937345</td>\n",
       "      <td>NaN</td>\n",
       "      <td>NaN</td>\n",
       "      <td>2016-11-20 21:00:48 +0000</td>\n",
       "      <td>&lt;a href=\"http://twitter.com/download/iphone\" r...</td>\n",
       "      <td>RT @dog_rates: This is Sampson. He's about to ...</td>\n",
       "      <td>7.761133e+17</td>\n",
       "      <td>4.196984e+09</td>\n",
       "      <td>2016-09-14 17:40:06 +0000</td>\n",
       "      <td>https://twitter.com/dog_rates/status/776113305...</td>\n",
       "      <td>11</td>\n",
       "      <td>10</td>\n",
       "      <td>Sampson</td>\n",
       "      <td>None</td>\n",
       "      <td>None</td>\n",
       "      <td>pupper</td>\n",
       "      <td>None</td>\n",
       "    </tr>\n",
       "    <tr>\n",
       "      <th>1016</th>\n",
       "      <td>746906459439529985</td>\n",
       "      <td>7.468859e+17</td>\n",
       "      <td>4.196984e+09</td>\n",
       "      <td>2016-06-26 03:22:31 +0000</td>\n",
       "      <td>&lt;a href=\"http://twitter.com/download/iphone\" r...</td>\n",
       "      <td>PUPDATE: can't see any. Even if I could, I cou...</td>\n",
       "      <td>NaN</td>\n",
       "      <td>NaN</td>\n",
       "      <td>NaN</td>\n",
       "      <td>https://twitter.com/dog_rates/status/746906459...</td>\n",
       "      <td>0</td>\n",
       "      <td>10</td>\n",
       "      <td>None</td>\n",
       "      <td>None</td>\n",
       "      <td>None</td>\n",
       "      <td>None</td>\n",
       "      <td>None</td>\n",
       "    </tr>\n",
       "  </tbody>\n",
       "</table>\n",
       "</div>"
      ],
      "text/plain": [
       "                tweet_id  in_reply_to_status_id  in_reply_to_user_id  \\\n",
       "453   818588835076603904                    NaN                  NaN   \n",
       "641   793226087023144960                    NaN                  NaN   \n",
       "564   802323869084381190                    NaN                  NaN   \n",
       "581   800443802682937345                    NaN                  NaN   \n",
       "1016  746906459439529985           7.468859e+17         4.196984e+09   \n",
       "\n",
       "                      timestamp  \\\n",
       "453   2017-01-09 22:42:41 +0000   \n",
       "641   2016-10-31 23:00:11 +0000   \n",
       "564   2016-11-26 01:31:31 +0000   \n",
       "581   2016-11-20 21:00:48 +0000   \n",
       "1016  2016-06-26 03:22:31 +0000   \n",
       "\n",
       "                                                 source  \\\n",
       "453   <a href=\"http://twitter.com/download/iphone\" r...   \n",
       "641   <a href=\"http://twitter.com/download/iphone\" r...   \n",
       "564   <a href=\"http://twitter.com/download/iphone\" r...   \n",
       "581   <a href=\"http://twitter.com/download/iphone\" r...   \n",
       "1016  <a href=\"http://twitter.com/download/iphone\" r...   \n",
       "\n",
       "                                                   text  retweeted_status_id  \\\n",
       "453   RT @dog_rates: This is Chelsea. She forgot how...         7.735476e+17   \n",
       "641   This is Juno. She spooked me up real good, but...                  NaN   \n",
       "564   This is Severus. He's here to fix your cable. ...                  NaN   \n",
       "581   RT @dog_rates: This is Sampson. He's about to ...         7.761133e+17   \n",
       "1016  PUPDATE: can't see any. Even if I could, I cou...                  NaN   \n",
       "\n",
       "      retweeted_status_user_id retweeted_status_timestamp  \\\n",
       "453               4.196984e+09  2016-09-07 15:44:53 +0000   \n",
       "641                        NaN                        NaN   \n",
       "564                        NaN                        NaN   \n",
       "581               4.196984e+09  2016-09-14 17:40:06 +0000   \n",
       "1016                       NaN                        NaN   \n",
       "\n",
       "                                          expanded_urls  rating_numerator  \\\n",
       "453   https://twitter.com/dog_rates/status/773547596...                11   \n",
       "641   https://twitter.com/dog_rates/status/793226087...                11   \n",
       "564   https://twitter.com/dog_rates/status/802323869...                13   \n",
       "581   https://twitter.com/dog_rates/status/776113305...                11   \n",
       "1016  https://twitter.com/dog_rates/status/746906459...                 0   \n",
       "\n",
       "      rating_denominator     name doggo floofer  pupper puppo  \n",
       "453                   10  Chelsea  None    None  pupper  None  \n",
       "641                   10     Juno  None    None    None  None  \n",
       "564                   10  Severus  None    None    None  None  \n",
       "581                   10  Sampson  None    None  pupper  None  \n",
       "1016                  10     None  None    None    None  None  "
      ]
     },
     "execution_count": 9,
     "metadata": {},
     "output_type": "execute_result"
    }
   ],
   "source": [
    "twitter_archive.sample(5)"
   ]
  },
  {
   "cell_type": "code",
   "execution_count": 10,
   "metadata": {},
   "outputs": [
    {
     "data": {
      "text/plain": [
       "(2356, 17)"
      ]
     },
     "execution_count": 10,
     "metadata": {},
     "output_type": "execute_result"
    }
   ],
   "source": [
    "twitter_archive.shape"
   ]
  },
  {
   "cell_type": "code",
   "execution_count": 11,
   "metadata": {},
   "outputs": [
    {
     "name": "stdout",
     "output_type": "stream",
     "text": [
      "<class 'pandas.core.frame.DataFrame'>\n",
      "RangeIndex: 2356 entries, 0 to 2355\n",
      "Data columns (total 17 columns):\n",
      " #   Column                      Non-Null Count  Dtype  \n",
      "---  ------                      --------------  -----  \n",
      " 0   tweet_id                    2356 non-null   int64  \n",
      " 1   in_reply_to_status_id       78 non-null     float64\n",
      " 2   in_reply_to_user_id         78 non-null     float64\n",
      " 3   timestamp                   2356 non-null   object \n",
      " 4   source                      2356 non-null   object \n",
      " 5   text                        2356 non-null   object \n",
      " 6   retweeted_status_id         181 non-null    float64\n",
      " 7   retweeted_status_user_id    181 non-null    float64\n",
      " 8   retweeted_status_timestamp  181 non-null    object \n",
      " 9   expanded_urls               2297 non-null   object \n",
      " 10  rating_numerator            2356 non-null   int64  \n",
      " 11  rating_denominator          2356 non-null   int64  \n",
      " 12  name                        2356 non-null   object \n",
      " 13  doggo                       2356 non-null   object \n",
      " 14  floofer                     2356 non-null   object \n",
      " 15  pupper                      2356 non-null   object \n",
      " 16  puppo                       2356 non-null   object \n",
      "dtypes: float64(4), int64(3), object(10)\n",
      "memory usage: 313.0+ KB\n"
     ]
    }
   ],
   "source": [
    "twitter_archive.info()"
   ]
  },
  {
   "cell_type": "code",
   "execution_count": 12,
   "metadata": {},
   "outputs": [
    {
     "data": {
      "text/html": [
       "<div>\n",
       "<style scoped>\n",
       "    .dataframe tbody tr th:only-of-type {\n",
       "        vertical-align: middle;\n",
       "    }\n",
       "\n",
       "    .dataframe tbody tr th {\n",
       "        vertical-align: top;\n",
       "    }\n",
       "\n",
       "    .dataframe thead th {\n",
       "        text-align: right;\n",
       "    }\n",
       "</style>\n",
       "<table border=\"1\" class=\"dataframe\">\n",
       "  <thead>\n",
       "    <tr style=\"text-align: right;\">\n",
       "      <th></th>\n",
       "      <th>tweet_id</th>\n",
       "      <th>in_reply_to_status_id</th>\n",
       "      <th>in_reply_to_user_id</th>\n",
       "      <th>retweeted_status_id</th>\n",
       "      <th>retweeted_status_user_id</th>\n",
       "      <th>rating_numerator</th>\n",
       "      <th>rating_denominator</th>\n",
       "    </tr>\n",
       "  </thead>\n",
       "  <tbody>\n",
       "    <tr>\n",
       "      <th>count</th>\n",
       "      <td>2.356000e+03</td>\n",
       "      <td>7.800000e+01</td>\n",
       "      <td>7.800000e+01</td>\n",
       "      <td>1.810000e+02</td>\n",
       "      <td>1.810000e+02</td>\n",
       "      <td>2356.000000</td>\n",
       "      <td>2356.000000</td>\n",
       "    </tr>\n",
       "    <tr>\n",
       "      <th>mean</th>\n",
       "      <td>7.427716e+17</td>\n",
       "      <td>7.455079e+17</td>\n",
       "      <td>2.014171e+16</td>\n",
       "      <td>7.720400e+17</td>\n",
       "      <td>1.241698e+16</td>\n",
       "      <td>13.126486</td>\n",
       "      <td>10.455433</td>\n",
       "    </tr>\n",
       "    <tr>\n",
       "      <th>std</th>\n",
       "      <td>6.856705e+16</td>\n",
       "      <td>7.582492e+16</td>\n",
       "      <td>1.252797e+17</td>\n",
       "      <td>6.236928e+16</td>\n",
       "      <td>9.599254e+16</td>\n",
       "      <td>45.876648</td>\n",
       "      <td>6.745237</td>\n",
       "    </tr>\n",
       "    <tr>\n",
       "      <th>min</th>\n",
       "      <td>6.660209e+17</td>\n",
       "      <td>6.658147e+17</td>\n",
       "      <td>1.185634e+07</td>\n",
       "      <td>6.661041e+17</td>\n",
       "      <td>7.832140e+05</td>\n",
       "      <td>0.000000</td>\n",
       "      <td>0.000000</td>\n",
       "    </tr>\n",
       "    <tr>\n",
       "      <th>25%</th>\n",
       "      <td>6.783989e+17</td>\n",
       "      <td>6.757419e+17</td>\n",
       "      <td>3.086374e+08</td>\n",
       "      <td>7.186315e+17</td>\n",
       "      <td>4.196984e+09</td>\n",
       "      <td>10.000000</td>\n",
       "      <td>10.000000</td>\n",
       "    </tr>\n",
       "    <tr>\n",
       "      <th>50%</th>\n",
       "      <td>7.196279e+17</td>\n",
       "      <td>7.038708e+17</td>\n",
       "      <td>4.196984e+09</td>\n",
       "      <td>7.804657e+17</td>\n",
       "      <td>4.196984e+09</td>\n",
       "      <td>11.000000</td>\n",
       "      <td>10.000000</td>\n",
       "    </tr>\n",
       "    <tr>\n",
       "      <th>75%</th>\n",
       "      <td>7.993373e+17</td>\n",
       "      <td>8.257804e+17</td>\n",
       "      <td>4.196984e+09</td>\n",
       "      <td>8.203146e+17</td>\n",
       "      <td>4.196984e+09</td>\n",
       "      <td>12.000000</td>\n",
       "      <td>10.000000</td>\n",
       "    </tr>\n",
       "    <tr>\n",
       "      <th>max</th>\n",
       "      <td>8.924206e+17</td>\n",
       "      <td>8.862664e+17</td>\n",
       "      <td>8.405479e+17</td>\n",
       "      <td>8.874740e+17</td>\n",
       "      <td>7.874618e+17</td>\n",
       "      <td>1776.000000</td>\n",
       "      <td>170.000000</td>\n",
       "    </tr>\n",
       "  </tbody>\n",
       "</table>\n",
       "</div>"
      ],
      "text/plain": [
       "           tweet_id  in_reply_to_status_id  in_reply_to_user_id  \\\n",
       "count  2.356000e+03           7.800000e+01         7.800000e+01   \n",
       "mean   7.427716e+17           7.455079e+17         2.014171e+16   \n",
       "std    6.856705e+16           7.582492e+16         1.252797e+17   \n",
       "min    6.660209e+17           6.658147e+17         1.185634e+07   \n",
       "25%    6.783989e+17           6.757419e+17         3.086374e+08   \n",
       "50%    7.196279e+17           7.038708e+17         4.196984e+09   \n",
       "75%    7.993373e+17           8.257804e+17         4.196984e+09   \n",
       "max    8.924206e+17           8.862664e+17         8.405479e+17   \n",
       "\n",
       "       retweeted_status_id  retweeted_status_user_id  rating_numerator  \\\n",
       "count         1.810000e+02              1.810000e+02       2356.000000   \n",
       "mean          7.720400e+17              1.241698e+16         13.126486   \n",
       "std           6.236928e+16              9.599254e+16         45.876648   \n",
       "min           6.661041e+17              7.832140e+05          0.000000   \n",
       "25%           7.186315e+17              4.196984e+09         10.000000   \n",
       "50%           7.804657e+17              4.196984e+09         11.000000   \n",
       "75%           8.203146e+17              4.196984e+09         12.000000   \n",
       "max           8.874740e+17              7.874618e+17       1776.000000   \n",
       "\n",
       "       rating_denominator  \n",
       "count         2356.000000  \n",
       "mean            10.455433  \n",
       "std              6.745237  \n",
       "min              0.000000  \n",
       "25%             10.000000  \n",
       "50%             10.000000  \n",
       "75%             10.000000  \n",
       "max            170.000000  "
      ]
     },
     "execution_count": 12,
     "metadata": {},
     "output_type": "execute_result"
    }
   ],
   "source": [
    "twitter_archive.describe()"
   ]
  },
  {
   "cell_type": "code",
   "execution_count": 13,
   "metadata": {},
   "outputs": [
    {
     "data": {
      "text/plain": [
       "tweet_id                         0\n",
       "in_reply_to_status_id         2278\n",
       "in_reply_to_user_id           2278\n",
       "timestamp                        0\n",
       "source                           0\n",
       "text                             0\n",
       "retweeted_status_id           2175\n",
       "retweeted_status_user_id      2175\n",
       "retweeted_status_timestamp    2175\n",
       "expanded_urls                   59\n",
       "rating_numerator                 0\n",
       "rating_denominator               0\n",
       "name                             0\n",
       "doggo                            0\n",
       "floofer                          0\n",
       "pupper                           0\n",
       "puppo                            0\n",
       "dtype: int64"
      ]
     },
     "execution_count": 13,
     "metadata": {},
     "output_type": "execute_result"
    }
   ],
   "source": [
    "twitter_archive.isnull().sum()"
   ]
  },
  {
   "cell_type": "code",
   "execution_count": 14,
   "metadata": {},
   "outputs": [
    {
     "data": {
      "text/plain": [
       "0"
      ]
     },
     "execution_count": 14,
     "metadata": {},
     "output_type": "execute_result"
    }
   ],
   "source": [
    "twitter_archive.duplicated().sum()"
   ]
  },
  {
   "cell_type": "code",
   "execution_count": 15,
   "metadata": {},
   "outputs": [
    {
     "data": {
      "text/plain": [
       "0"
      ]
     },
     "execution_count": 15,
     "metadata": {},
     "output_type": "execute_result"
    }
   ],
   "source": [
    "twitter_archive['tweet_id'].duplicated().sum()"
   ]
  },
  {
   "cell_type": "code",
   "execution_count": 16,
   "metadata": {},
   "outputs": [],
   "source": [
    "pd.options.display.max_rows = None"
   ]
  },
  {
   "cell_type": "code",
   "execution_count": 17,
   "metadata": {},
   "outputs": [
    {
     "data": {
      "text/plain": [
       "None              745\n",
       "a                  55\n",
       "Charlie            12\n",
       "Oliver             11\n",
       "Cooper             11\n",
       "Lucy               11\n",
       "Penny              10\n",
       "Tucker             10\n",
       "Lola               10\n",
       "Winston             9\n",
       "Bo                  9\n",
       "Sadie               8\n",
       "the                 8\n",
       "an                  7\n",
       "Toby                7\n",
       "Bailey              7\n",
       "Daisy               7\n",
       "Buddy               7\n",
       "Dave                6\n",
       "Milo                6\n",
       "Oscar               6\n",
       "Koda                6\n",
       "Bella               6\n",
       "Jax                 6\n",
       "Scout               6\n",
       "Jack                6\n",
       "Stanley             6\n",
       "Leo                 6\n",
       "Rusty               6\n",
       "Finn                5\n",
       "Sunny               5\n",
       "Oakley              5\n",
       "Gus                 5\n",
       "George              5\n",
       "Phil                5\n",
       "Alfie               5\n",
       "Larry               5\n",
       "Sammy               5\n",
       "Chester             5\n",
       "very                5\n",
       "Louis               5\n",
       "Bentley             5\n",
       "Walter              4\n",
       "Maggie              4\n",
       "Archie              4\n",
       "just                4\n",
       "Sampson             4\n",
       "Derek               4\n",
       "Brody               4\n",
       "Chip                4\n",
       "Clark               4\n",
       "Bear                4\n",
       "Bruce               4\n",
       "Boomer              4\n",
       "Moose               4\n",
       "Cassie              4\n",
       "Clarence            4\n",
       "Gerald              4\n",
       "Carl                4\n",
       "Reginald            4\n",
       "Duke                4\n",
       "Ruby                4\n",
       "Hank                4\n",
       "Jerry               4\n",
       "Sophie              4\n",
       "Maddie              4\n",
       "Dexter              4\n",
       "Maximus             4\n",
       "Loki                4\n",
       "Reggie              4\n",
       "Jeffrey             4\n",
       "one                 4\n",
       "Riley               4\n",
       "Winnie              4\n",
       "Beau                4\n",
       "Scooter             4\n",
       "Gary                4\n",
       "quite               4\n",
       "Shadow              4\n",
       "Luna                4\n",
       "Kyle                3\n",
       "Gizmo               3\n",
       "Peaches             3\n",
       "Sebastian           3\n",
       "Lily                3\n",
       "Mia                 3\n",
       "Samson              3\n",
       "Vincent             3\n",
       "Calvin              3\n",
       "Colby               3\n",
       "Earl                3\n",
       "Rory                3\n",
       "Coco                3\n",
       "Zeke                3\n",
       "Rosie               3\n",
       "Nala                3\n",
       "Steven              3\n",
       "Jimothy             3\n",
       "Louie               3\n",
       "Malcolm             3\n",
       "Ted                 3\n",
       "Wyatt               3\n",
       "Doug                3\n",
       "Otis                3\n",
       "Paisley             3\n",
       "Frankie             3\n",
       "Zoey                3\n",
       "Reese               3\n",
       "Arnie               3\n",
       "Olive               3\n",
       "Wallace             3\n",
       "Max                 3\n",
       "Waffles             3\n",
       "Klevin              3\n",
       "Ellie               3\n",
       "Wilson              3\n",
       "Lorenzo             3\n",
       "Benedict            2\n",
       "Rocky               2\n",
       "Coops               2\n",
       "Hobbes              2\n",
       "Sam                 2\n",
       "Keurig              2\n",
       "Hercules            2\n",
       "Bisquick            2\n",
       "Jeph                2\n",
       "Churlie             2\n",
       "Thumas              2\n",
       "Paull               2\n",
       "Theodore            2\n",
       "Sarge               2\n",
       "Kreg                2\n",
       "Django              2\n",
       "Leela               2\n",
       "Emmy                2\n",
       "Terry               2\n",
       "Raymond             2\n",
       "Ollie               2\n",
       "Yogi                2\n",
       "Terrance            2\n",
       "Anakin              2\n",
       "Layla               2\n",
       "Chuckles            2\n",
       "Opal                2\n",
       "Percy               2\n",
       "Betty               2\n",
       "Harper              2\n",
       "Bernie              2\n",
       "Gabe                2\n",
       "Mattie              2\n",
       "CeCe                2\n",
       "Lenny               2\n",
       "Meyer               2\n",
       "Alice               2\n",
       "Levi                2\n",
       "Titan               2\n",
       "Lilly               2\n",
       "Jamesy              2\n",
       "Phineas             2\n",
       "Romeo               2\n",
       "Belle               2\n",
       "Canela              2\n",
       "Fred                2\n",
       "Kreggory            2\n",
       "Chelsea             2\n",
       "Davey               2\n",
       "Bob                 2\n",
       "Ash                 2\n",
       "Pablo               2\n",
       "Keith               2\n",
       "Moreton             2\n",
       "Dawn                2\n",
       "Curtis              2\n",
       "Dakota              2\n",
       "Panda               2\n",
       "Flávio              2\n",
       "Bubbles             2\n",
       "Kevin               2\n",
       "Cali                2\n",
       "Lou                 2\n",
       "not                 2\n",
       "Quinn               2\n",
       "Penelope            2\n",
       "Juno                2\n",
       "Luca                2\n",
       "Sansa               2\n",
       "Charles             2\n",
       "Jesse               2\n",
       "Sugar               2\n",
       "Nollie              2\n",
       "Fizz                2\n",
       "Linda               2\n",
       "Hammond             2\n",
       "Herm                2\n",
       "Moe                 2\n",
       "Cash                2\n",
       "Misty               2\n",
       "Roosevelt           2\n",
       "Ken                 2\n",
       "Odie                2\n",
       "Herald              2\n",
       "Brad                2\n",
       "Philbert            2\n",
       "Stephan             2\n",
       "Bungalo             2\n",
       "Watson              2\n",
       "Olivia              2\n",
       "Albert              2\n",
       "Gidget              2\n",
       "actually            2\n",
       "Hurley              2\n",
       "Frank               2\n",
       "Baloo               2\n",
       "Pickles             2\n",
       "Stubert             2\n",
       "Balto               2\n",
       "Indie               2\n",
       "Ozzy                2\n",
       "Rizzy               2\n",
       "Chompsky            2\n",
       "Rubio               2\n",
       "Cody                2\n",
       "Baxter              2\n",
       "Franklin            2\n",
       "Kirby               2\n",
       "Griffin             2\n",
       "Fiona               2\n",
       "Happy               2\n",
       "Logan               2\n",
       "Kenneth             2\n",
       "Maxaroni            2\n",
       "Atticus             2\n",
       "Solomon             2\n",
       "Smokey              2\n",
       "Jiminy              2\n",
       "Albus               2\n",
       "Abby                2\n",
       "Wally               2\n",
       "getting             2\n",
       "Lincoln             2\n",
       "Chipson             2\n",
       "Gromit              2\n",
       "Doc                 2\n",
       "Mister              2\n",
       "Tyr                 2\n",
       "Kilo                2\n",
       "Lennon              2\n",
       "Elliot              2\n",
       "Eve                 2\n",
       "Kyro                2\n",
       "Rufus               2\n",
       "Eli                 2\n",
       "Carly               2\n",
       "Finley              2\n",
       "Seamus              2\n",
       "Axel                2\n",
       "Patrick             2\n",
       "Harold              2\n",
       "Crystal             2\n",
       "Timison             2\n",
       "Pipsy               2\n",
       "Pippa               2\n",
       "Jackson             2\n",
       "Cupcake             2\n",
       "Hunter              2\n",
       "Marley              2\n",
       "Sandy               2\n",
       "Klein               2\n",
       "Kenny               2\n",
       "Herschel            2\n",
       "Ava                 2\n",
       "Tyrone              2\n",
       "Astrid              2\n",
       "Calbert             2\n",
       "Sierra              2\n",
       "mad                 2\n",
       "Atlas               2\n",
       "Blitz               2\n",
       "Dash                2\n",
       "Rocco               2\n",
       "Benji               2\n",
       "Nelly               2\n",
       "Oliviér             2\n",
       "Piper               2\n",
       "Butter              2\n",
       "Neptune             2\n",
       "Trooper             2\n",
       "Remington           2\n",
       "Aspen               2\n",
       "Phred               2\n",
       "Shaggy              2\n",
       "Oshie               2\n",
       "Chet                2\n",
       "Bell                2\n",
       "Jimison             2\n",
       "Dietrich            1\n",
       "Tyrus               1\n",
       "Lillie              1\n",
       "Jarvis              1\n",
       "Striker             1\n",
       "Apollo              1\n",
       "Monster             1\n",
       "Bodie               1\n",
       "Trigger             1\n",
       "Chesney             1\n",
       "Pinot               1\n",
       "Tedders             1\n",
       "Lucia               1\n",
       "Danny               1\n",
       "Leonard             1\n",
       "Sailer              1\n",
       "Deacon              1\n",
       "Pubert              1\n",
       "Chloe               1\n",
       "Bayley              1\n",
       "Mary                1\n",
       "Jerome              1\n",
       "Biden               1\n",
       "Georgie             1\n",
       "Rolf                1\n",
       "Stefan              1\n",
       "Staniel             1\n",
       "Tuco                1\n",
       "Tilly               1\n",
       "Grady               1\n",
       "all                 1\n",
       "by                  1\n",
       "Kirk                1\n",
       "Sully               1\n",
       "Anthony             1\n",
       "Mollie              1\n",
       "Walker              1\n",
       "Bobby               1\n",
       "Sprinkles           1\n",
       "Horace              1\n",
       "Miguel              1\n",
       "Michelangelope      1\n",
       "Dunkin              1\n",
       "Huck                1\n",
       "Maisey              1\n",
       "Blipson             1\n",
       "Jersey              1\n",
       "Lili                1\n",
       "Clarq               1\n",
       "Genevieve           1\n",
       "Carper              1\n",
       "Perry               1\n",
       "Timber              1\n",
       "Devón               1\n",
       "Lizzie              1\n",
       "Nida                1\n",
       "Aqua                1\n",
       "Leonidas            1\n",
       "Richie              1\n",
       "Snoopy              1\n",
       "Monkey              1\n",
       "Beebop              1\n",
       "Angel               1\n",
       "Tonks               1\n",
       "Tino                1\n",
       "Tommy               1\n",
       "Carter              1\n",
       "Willem              1\n",
       "Ben                 1\n",
       "Hermione            1\n",
       "Jett                1\n",
       "Rey                 1\n",
       "Berb                1\n",
       "Donny               1\n",
       "Shadoe              1\n",
       "Clybe               1\n",
       "Mojo                1\n",
       "Craig               1\n",
       "Buddah              1\n",
       "Ridley              1\n",
       "Mutt                1\n",
       "Suki                1\n",
       "Hall                1\n",
       "Henry               1\n",
       "Pip                 1\n",
       "Tove                1\n",
       "Stark               1\n",
       "Frönq               1\n",
       "Jimbo               1\n",
       "Obi                 1\n",
       "Ralphus             1\n",
       "Margo               1\n",
       "Rizzo               1\n",
       "Bauer               1\n",
       "Sage                1\n",
       "Marlee              1\n",
       "Jeffri              1\n",
       "Chuck               1\n",
       "Maxwell             1\n",
       "Scruffers           1\n",
       "Shnuggles           1\n",
       "Kayla               1\n",
       "Snicku              1\n",
       "Blue                1\n",
       "Andy                1\n",
       "Creg                1\n",
       "Coleman             1\n",
       "Sweet               1\n",
       "Schnozz             1\n",
       "Rambo               1\n",
       "Iggy                1\n",
       "Noosh               1\n",
       "Sojourner           1\n",
       "Siba                1\n",
       "Jiminus             1\n",
       "Bloo                1\n",
       "Baron               1\n",
       "Tug                 1\n",
       "Cecil               1\n",
       "Simba               1\n",
       "Vinnie              1\n",
       "Kevon               1\n",
       "Maya                1\n",
       "Gunner              1\n",
       "Schnitzel           1\n",
       "Brockly             1\n",
       "Swagger             1\n",
       "Bilbo               1\n",
       "Sweets              1\n",
       "Diogi               1\n",
       "Stewie              1\n",
       "Poppy               1\n",
       "Stephanus           1\n",
       "Sephie              1\n",
       "Howie               1\n",
       "Terrenth            1\n",
       "Sid                 1\n",
       "Ulysses             1\n",
       "Mairi               1\n",
       "Geno                1\n",
       "Rinna               1\n",
       "Sunshine            1\n",
       "Lacy                1\n",
       "Herb                1\n",
       "Grizzie             1\n",
       "Cora                1\n",
       "Shiloh              1\n",
       "Pepper              1\n",
       "Kathmandu           1\n",
       "Philippe            1\n",
       "Shikha              1\n",
       "Sobe                1\n",
       "Superpup            1\n",
       "Zoe                 1\n",
       "Chef                1\n",
       "Crawford            1\n",
       "Marty               1\n",
       "Buckley             1\n",
       "Rueben              1\n",
       "Nimbus              1\n",
       "Ralphie             1\n",
       "Bloop               1\n",
       "Clyde               1\n",
       "Wesley              1\n",
       "Fwed                1\n",
       "Nugget              1\n",
       "Cannon              1\n",
       "Edd                 1\n",
       "Dot                 1\n",
       "Tobi                1\n",
       "Ginger              1\n",
       "Bones               1\n",
       "Callie              1\n",
       "Kaiya               1\n",
       "Stuart              1\n",
       "Caryl               1\n",
       "Jockson             1\n",
       "Thor                1\n",
       "Joshwa              1\n",
       "Dylan               1\n",
       "Pilot               1\n",
       "Travis              1\n",
       "Jeffrie             1\n",
       "Ole                 1\n",
       "Snickers            1\n",
       "Dotsy               1\n",
       "Milky               1\n",
       "Jonah               1\n",
       "Chuq                1\n",
       "Kuyu                1\n",
       "Spencer             1\n",
       "Pupcasso            1\n",
       "Ike                 1\n",
       "Rascal              1\n",
       "Patch               1\n",
       "Brian               1\n",
       "Ralphé              1\n",
       "Noah                1\n",
       "Lorelei             1\n",
       "Bobbay              1\n",
       "Wafer               1\n",
       "Brooks              1\n",
       "Durg                1\n",
       "Geoff               1\n",
       "Grizzwald           1\n",
       "Gòrdón              1\n",
       "Shooter             1\n",
       "Ziva                1\n",
       "Saydee              1\n",
       "Torque              1\n",
       "O                   1\n",
       "officially          1\n",
       "Acro                1\n",
       "Samsom              1\n",
       "Jareld              1\n",
       "Alexander           1\n",
       "Lolo                1\n",
       "Jessifer            1\n",
       "Traviss             1\n",
       "Rodman              1\n",
       "Darby               1\n",
       "Antony              1\n",
       "Binky               1\n",
       "Blakely             1\n",
       "Opie                1\n",
       "Spanky              1\n",
       "Olaf                1\n",
       "Duddles             1\n",
       "Arnold              1\n",
       "Carll               1\n",
       "Laika               1\n",
       "Timofy              1\n",
       "Tito                1\n",
       "Edmund              1\n",
       "Obie                1\n",
       "Raphael             1\n",
       "Nigel               1\n",
       "Farfle              1\n",
       "Zooey               1\n",
       "Barney              1\n",
       "Dudley              1\n",
       "Grizz               1\n",
       "Augie               1\n",
       "Cermet              1\n",
       "Billl               1\n",
       "Robin               1\n",
       "Jackie              1\n",
       "Strider             1\n",
       "Hamrick             1\n",
       "Humphrey            1\n",
       "Bertson             1\n",
       "Scott               1\n",
       "Jameson             1\n",
       "Linus               1\n",
       "Pherb               1\n",
       "Kramer              1\n",
       "Rose                1\n",
       "Jazz                1\n",
       "Loomis              1\n",
       "Hubertson           1\n",
       "unacceptable        1\n",
       "Barry               1\n",
       "Mimosa              1\n",
       "Gin                 1\n",
       "Aja                 1\n",
       "Brudge              1\n",
       "Akumi               1\n",
       "Zeus                1\n",
       "Rooney              1\n",
       "Bookstore           1\n",
       "Lupe                1\n",
       "Pippin              1\n",
       "Emmie               1\n",
       "Enchilada           1\n",
       "Ester               1\n",
       "Brandonald          1\n",
       "DayZ                1\n",
       "Beya                1\n",
       "Sundance            1\n",
       "Stella              1\n",
       "Zuzu                1\n",
       "Teddy               1\n",
       "Jangle              1\n",
       "Naphaniel           1\n",
       "Mack                1\n",
       "Bobb                1\n",
       "Rumpole             1\n",
       "Taz                 1\n",
       "Millie              1\n",
       "Venti               1\n",
       "Corey               1\n",
       "Longfellow          1\n",
       "Ralphy              1\n",
       "Kota                1\n",
       "Franq               1\n",
       "Brat                1\n",
       "Eazy                1\n",
       "Fabio               1\n",
       "Pete                1\n",
       "Kawhi               1\n",
       "Bobble              1\n",
       "such                1\n",
       "Hazel               1\n",
       "Christoper          1\n",
       "Gilbert             1\n",
       "Karll               1\n",
       "Freddery            1\n",
       "Ron                 1\n",
       "Chevy               1\n",
       "Trip                1\n",
       "Mitch               1\n",
       "Ralpher             1\n",
       "Pancake             1\n",
       "Mo                  1\n",
       "space               1\n",
       "Barclay             1\n",
       "Kara                1\n",
       "Halo                1\n",
       "Fido                1\n",
       "Cheesy              1\n",
       "Cedrick             1\n",
       "Darrel              1\n",
       "Socks               1\n",
       "Cilantro            1\n",
       "Hero                1\n",
       "Mona                1\n",
       "Mauve               1\n",
       "Remy                1\n",
       "Willie              1\n",
       "Jaspers             1\n",
       "Griswold            1\n",
       "Daniel              1\n",
       "Ito                 1\n",
       "Tupawc              1\n",
       "Duchess             1\n",
       "Banjo               1\n",
       "Kody                1\n",
       "Gustaf              1\n",
       "Iroh                1\n",
       "Theo                1\n",
       "Jessiga             1\n",
       "Malikai             1\n",
       "Florence            1\n",
       "Rufio               1\n",
       "Cheryl              1\n",
       "Ebby                1\n",
       "Amélie              1\n",
       "Furzey              1\n",
       "Major               1\n",
       "Sonny               1\n",
       "Smiley              1\n",
       "Dook                1\n",
       "Amber               1\n",
       "Dale                1\n",
       "Vinscent            1\n",
       "Zara                1\n",
       "Aiden               1\n",
       "Dutch               1\n",
       "Jed                 1\n",
       "Toffee              1\n",
       "Beckham             1\n",
       "Bradley             1\n",
       "Chubbs              1\n",
       "Tango               1\n",
       "Goliath             1\n",
       "Strudel             1\n",
       "Pumpkin             1\n",
       "Kane                1\n",
       "Wiggles             1\n",
       "Burt                1\n",
       "Monty               1\n",
       "Pluto               1\n",
       "Bubba               1\n",
       "Comet               1\n",
       "Coopson             1\n",
       "Ember               1\n",
       "old                 1\n",
       "Willow              1\n",
       "Koko                1\n",
       "Eriq                1\n",
       "Rontu               1\n",
       "JD                  1\n",
       "Norman              1\n",
       "Meatball            1\n",
       "Izzy                1\n",
       "Spark               1\n",
       "Carbon              1\n",
       "Eevee               1\n",
       "Napolean            1\n",
       "my                  1\n",
       "Tanner              1\n",
       "Julio               1\n",
       "Kendall             1\n",
       "Chaz                1\n",
       "Pavlov              1\n",
       "Skittles            1\n",
       "Chadrick            1\n",
       "Tedrick             1\n",
       "Beemo               1\n",
       "Rodney              1\n",
       "Alf                 1\n",
       "Fillup              1\n",
       "Lulu                1\n",
       "Fynn                1\n",
       "Cal                 1\n",
       "Kellogg             1\n",
       "Arlen               1\n",
       "Laela               1\n",
       "Tessa               1\n",
       "Autumn              1\n",
       "Peanut              1\n",
       "Holly               1\n",
       "Bonaparte           1\n",
       "Link                1\n",
       "Lucky               1\n",
       "Katie               1\n",
       "Rudy                1\n",
       "Kloey               1\n",
       "Boots               1\n",
       "Jay                 1\n",
       "Jennifur            1\n",
       "Charleson           1\n",
       "Dixie               1\n",
       "Livvie              1\n",
       "Crumpet             1\n",
       "Winifred            1\n",
       "Heinrich            1\n",
       "Harrison            1\n",
       "Tripp               1\n",
       "Nico                1\n",
       "Reptar              1\n",
       "Lassie              1\n",
       "Jaycob              1\n",
       "Molly               1\n",
       "Bert                1\n",
       "Gert                1\n",
       "Juckson             1\n",
       "Gustav              1\n",
       "Crouton             1\n",
       "Bowie               1\n",
       "Sailor              1\n",
       "Bode                1\n",
       "Crimson             1\n",
       "Andru               1\n",
       "Einstein            1\n",
       "Karl                1\n",
       "Vince               1\n",
       "Asher               1\n",
       "Bruno               1\n",
       "Brandy              1\n",
       "Ashleigh            1\n",
       "Harnold             1\n",
       "Lance               1\n",
       "Timmy               1\n",
       "BeBe                1\n",
       "Al                  1\n",
       "Rhino               1\n",
       "Butters             1\n",
       "Harlso              1\n",
       "Jazzy               1\n",
       "Grey                1\n",
       "Brady               1\n",
       "Meera               1\n",
       "Eugene              1\n",
       "Jarod               1\n",
       "Champ               1\n",
       "Lenox               1\n",
       "Finnegus            1\n",
       "Shawwn              1\n",
       "Benny               1\n",
       "Blanket             1\n",
       "Harvey              1\n",
       "Yukon               1\n",
       "Sparky              1\n",
       "Jebberson           1\n",
       "Dobby               1\n",
       "Tater               1\n",
       "light               1\n",
       "Tayzie              1\n",
       "Dewey               1\n",
       "Tess                1\n",
       "Skye                1\n",
       "Anna                1\n",
       "William             1\n",
       "Amy                 1\n",
       "Mac                 1\n",
       "Emanuel             1\n",
       "Alexanderson        1\n",
       "Billy               1\n",
       "Mookie              1\n",
       "Fiji                1\n",
       "Charl               1\n",
       "Blu                 1\n",
       "Jordy               1\n",
       "Lilli               1\n",
       "Evy                 1\n",
       "Tom                 1\n",
       "Gabby               1\n",
       "Ferg                1\n",
       "Kanu                1\n",
       "Ronnie              1\n",
       "Ed                  1\n",
       "Orion               1\n",
       "Sora                1\n",
       "Pawnd               1\n",
       "Glenn               1\n",
       "Stu                 1\n",
       "Oddie               1\n",
       "Roscoe              1\n",
       "Stormy              1\n",
       "Maks                1\n",
       "Mabel               1\n",
       "Bradlay             1\n",
       "Glacier             1\n",
       "Godi                1\n",
       "Randall             1\n",
       "Rilo                1\n",
       "Cleopatricia        1\n",
       "Brandi              1\n",
       "Cupid               1\n",
       "Lilah               1\n",
       "Batdog              1\n",
       "Jomathan            1\n",
       "Dwight              1\n",
       "Alejandro           1\n",
       "Adele               1\n",
       "Bronte              1\n",
       "Eleanor             1\n",
       "Marvin              1\n",
       "Karma               1\n",
       "Sprout              1\n",
       "Vixen               1\n",
       "Goose               1\n",
       "Luther              1\n",
       "Damon               1\n",
       "General             1\n",
       "Flurpson            1\n",
       "Shakespeare         1\n",
       "Aubie               1\n",
       "Miley               1\n",
       "Dex                 1\n",
       "Moofasa             1\n",
       "Tebow               1\n",
       "Berkeley            1\n",
       "Liam                1\n",
       "Murphy              1\n",
       "Clifford            1\n",
       "Maude               1\n",
       "Dug                 1\n",
       "Jeremy              1\n",
       "Mosby               1\n",
       "Boston              1\n",
       "Ralph               1\n",
       "Dido                1\n",
       "Snoop               1\n",
       "Filup               1\n",
       "Joey                1\n",
       "Erik                1\n",
       "Dallas              1\n",
       "Kaia                1\n",
       "Storkson            1\n",
       "Newt                1\n",
       "this                1\n",
       "Mingus              1\n",
       "Hanz                1\n",
       "Edgar               1\n",
       "Ricky               1\n",
       "Yoda                1\n",
       "Kobe                1\n",
       "Ace                 1\n",
       "Ambrose             1\n",
       "Emma                1\n",
       "Clarkus             1\n",
       "Arya                1\n",
       "Zeek                1\n",
       "Ronduh              1\n",
       "Godzilla            1\n",
       "Claude              1\n",
       "Reagan              1\n",
       "Derby               1\n",
       "Shelby              1\n",
       "Tuck                1\n",
       "Mason               1\n",
       "Fletcher            1\n",
       "Mya                 1\n",
       "Chesterson          1\n",
       "Tiger               1\n",
       "Kollin              1\n",
       "Jeb                 1\n",
       "Bluebert            1\n",
       "Skittle             1\n",
       "Banditt             1\n",
       "Dante               1\n",
       "Kingsley            1\n",
       "Jo                  1\n",
       "Rorie               1\n",
       "Todo                1\n",
       "Covach              1\n",
       "Marq                1\n",
       "Kial                1\n",
       "Bruiser             1\n",
       "Rover               1\n",
       "Mark                1\n",
       "Kulet               1\n",
       "Lambeau             1\n",
       "DonDon              1\n",
       "Steve               1\n",
       "Lipton              1\n",
       "Harry               1\n",
       "Puff                1\n",
       "Chase               1\n",
       "Remus               1\n",
       "incredibly          1\n",
       "Mike                1\n",
       "Cuddles             1\n",
       "Rupert              1\n",
       "Aldrick             1\n",
       "life                1\n",
       "Sandra              1\n",
       "Kenzie              1\n",
       "Birf                1\n",
       "Colin               1\n",
       "Alfy                1\n",
       "infuriating         1\n",
       "Ruffles             1\n",
       "Kallie              1\n",
       "Keet                1\n",
       "Brownie             1\n",
       "Oreo                1\n",
       "Arlo                1\n",
       "Ozzie               1\n",
       "Ralphson            1\n",
       "Severus             1\n",
       "Josep               1\n",
       "River               1\n",
       "Brutus              1\n",
       "Lugan               1\n",
       "Huxley              1\n",
       "Divine              1\n",
       "Ivar                1\n",
       "Kona                1\n",
       "Odin                1\n",
       "Willy               1\n",
       "Julius              1\n",
       "Rumble              1\n",
       "Combo               1\n",
       "Taco                1\n",
       "Doobert             1\n",
       "Sky                 1\n",
       "Hector              1\n",
       "Darla               1\n",
       "Tassy               1\n",
       "Flash               1\n",
       "Tycho               1\n",
       "Wishes              1\n",
       "Gordon              1\n",
       "his                 1\n",
       "Trevith             1\n",
       "Gerbald             1\n",
       "Petrick             1\n",
       "Jim                 1\n",
       "Ralf                1\n",
       "Name: name, dtype: int64"
      ]
     },
     "execution_count": 17,
     "metadata": {},
     "output_type": "execute_result"
    }
   ],
   "source": [
    "twitter_archive.name.value_counts()"
   ]
  },
  {
   "cell_type": "code",
   "execution_count": 18,
   "metadata": {},
   "outputs": [
    {
     "name": "stdout",
     "output_type": "stream",
     "text": [
      "such\n",
      "a\n",
      "quite\n",
      "quite\n",
      "quite\n",
      "not\n",
      "one\n",
      "incredibly\n",
      "a\n",
      "mad\n",
      "an\n",
      "very\n",
      "a\n",
      "very\n",
      "just\n",
      "my\n",
      "one\n",
      "not\n",
      "his\n",
      "one\n",
      "a\n",
      "a\n",
      "a\n",
      "an\n",
      "very\n",
      "actually\n",
      "a\n",
      "just\n",
      "getting\n",
      "mad\n",
      "very\n",
      "this\n",
      "unacceptable\n",
      "all\n",
      "a\n",
      "old\n",
      "a\n",
      "infuriating\n",
      "a\n",
      "a\n",
      "a\n",
      "an\n",
      "a\n",
      "a\n",
      "very\n",
      "getting\n",
      "just\n",
      "a\n",
      "the\n",
      "the\n",
      "actually\n",
      "by\n",
      "a\n",
      "officially\n",
      "a\n",
      "the\n",
      "the\n",
      "a\n",
      "a\n",
      "a\n",
      "a\n",
      "life\n",
      "a\n",
      "one\n",
      "a\n",
      "a\n",
      "a\n",
      "light\n",
      "just\n",
      "space\n",
      "a\n",
      "the\n",
      "a\n",
      "a\n",
      "a\n",
      "a\n",
      "a\n",
      "a\n",
      "a\n",
      "a\n",
      "a\n",
      "an\n",
      "a\n",
      "the\n",
      "a\n",
      "a\n",
      "a\n",
      "a\n",
      "a\n",
      "a\n",
      "a\n",
      "a\n",
      "a\n",
      "a\n",
      "a\n",
      "quite\n",
      "a\n",
      "an\n",
      "a\n",
      "an\n",
      "the\n",
      "the\n",
      "a\n",
      "a\n",
      "an\n",
      "a\n",
      "a\n",
      "a\n",
      "a\n"
     ]
    }
   ],
   "source": [
    "for i in list(twitter_archive.name):\n",
    "    if i[0].islower():\n",
    "        print(i)"
   ]
  },
  {
   "cell_type": "code",
   "execution_count": 19,
   "metadata": {},
   "outputs": [
    {
     "data": {
      "text/plain": [
       "10     2333\n",
       "11        3\n",
       "50        3\n",
       "80        2\n",
       "20        2\n",
       "2         1\n",
       "16        1\n",
       "40        1\n",
       "70        1\n",
       "15        1\n",
       "90        1\n",
       "110       1\n",
       "120       1\n",
       "130       1\n",
       "150       1\n",
       "170       1\n",
       "7         1\n",
       "0         1\n",
       "Name: rating_denominator, dtype: int64"
      ]
     },
     "execution_count": 19,
     "metadata": {},
     "output_type": "execute_result"
    }
   ],
   "source": [
    "twitter_archive['rating_denominator'].value_counts()"
   ]
  },
  {
   "cell_type": "markdown",
   "metadata": {},
   "source": [
    "#### 2. image_predictions"
   ]
  },
  {
   "cell_type": "code",
   "execution_count": 20,
   "metadata": {},
   "outputs": [
    {
     "data": {
      "text/html": [
       "<div>\n",
       "<style scoped>\n",
       "    .dataframe tbody tr th:only-of-type {\n",
       "        vertical-align: middle;\n",
       "    }\n",
       "\n",
       "    .dataframe tbody tr th {\n",
       "        vertical-align: top;\n",
       "    }\n",
       "\n",
       "    .dataframe thead th {\n",
       "        text-align: right;\n",
       "    }\n",
       "</style>\n",
       "<table border=\"1\" class=\"dataframe\">\n",
       "  <thead>\n",
       "    <tr style=\"text-align: right;\">\n",
       "      <th></th>\n",
       "      <th>tweet_id</th>\n",
       "      <th>jpg_url</th>\n",
       "      <th>img_num</th>\n",
       "      <th>p1</th>\n",
       "      <th>p1_conf</th>\n",
       "      <th>p1_dog</th>\n",
       "      <th>p2</th>\n",
       "      <th>p2_conf</th>\n",
       "      <th>p2_dog</th>\n",
       "      <th>p3</th>\n",
       "      <th>p3_conf</th>\n",
       "      <th>p3_dog</th>\n",
       "    </tr>\n",
       "  </thead>\n",
       "  <tbody>\n",
       "    <tr>\n",
       "      <th>2050</th>\n",
       "      <td>887343217045368832</td>\n",
       "      <td>https://pbs.twimg.com/ext_tw_video_thumb/88734...</td>\n",
       "      <td>1</td>\n",
       "      <td>Mexican_hairless</td>\n",
       "      <td>0.330741</td>\n",
       "      <td>True</td>\n",
       "      <td>sea_lion</td>\n",
       "      <td>0.275645</td>\n",
       "      <td>False</td>\n",
       "      <td>Weimaraner</td>\n",
       "      <td>0.134203</td>\n",
       "      <td>True</td>\n",
       "    </tr>\n",
       "    <tr>\n",
       "      <th>1073</th>\n",
       "      <td>716802964044845056</td>\n",
       "      <td>https://pbs.twimg.com/media/CfKYfeBXIAAopp2.jpg</td>\n",
       "      <td>2</td>\n",
       "      <td>malinois</td>\n",
       "      <td>0.619577</td>\n",
       "      <td>True</td>\n",
       "      <td>Leonberg</td>\n",
       "      <td>0.118089</td>\n",
       "      <td>True</td>\n",
       "      <td>bull_mastiff</td>\n",
       "      <td>0.066508</td>\n",
       "      <td>True</td>\n",
       "    </tr>\n",
       "    <tr>\n",
       "      <th>472</th>\n",
       "      <td>675145476954566656</td>\n",
       "      <td>https://pbs.twimg.com/media/CV6ZOPqWsAA20Uj.jpg</td>\n",
       "      <td>1</td>\n",
       "      <td>Labrador_retriever</td>\n",
       "      <td>0.458746</td>\n",
       "      <td>True</td>\n",
       "      <td>Great_Dane</td>\n",
       "      <td>0.235504</td>\n",
       "      <td>True</td>\n",
       "      <td>Staffordshire_bullterrier</td>\n",
       "      <td>0.116864</td>\n",
       "      <td>True</td>\n",
       "    </tr>\n",
       "    <tr>\n",
       "      <th>2070</th>\n",
       "      <td>891327558926688256</td>\n",
       "      <td>https://pbs.twimg.com/media/DF6hr6BUMAAzZgT.jpg</td>\n",
       "      <td>2</td>\n",
       "      <td>basset</td>\n",
       "      <td>0.555712</td>\n",
       "      <td>True</td>\n",
       "      <td>English_springer</td>\n",
       "      <td>0.225770</td>\n",
       "      <td>True</td>\n",
       "      <td>German_short-haired_pointer</td>\n",
       "      <td>0.175219</td>\n",
       "      <td>True</td>\n",
       "    </tr>\n",
       "    <tr>\n",
       "      <th>101</th>\n",
       "      <td>667793409583771648</td>\n",
       "      <td>https://pbs.twimg.com/media/CUR6jqVWsAEgGot.jpg</td>\n",
       "      <td>1</td>\n",
       "      <td>dalmatian</td>\n",
       "      <td>0.535073</td>\n",
       "      <td>True</td>\n",
       "      <td>English_setter</td>\n",
       "      <td>0.451219</td>\n",
       "      <td>True</td>\n",
       "      <td>Great_Dane</td>\n",
       "      <td>0.008164</td>\n",
       "      <td>True</td>\n",
       "    </tr>\n",
       "  </tbody>\n",
       "</table>\n",
       "</div>"
      ],
      "text/plain": [
       "                tweet_id                                            jpg_url  \\\n",
       "2050  887343217045368832  https://pbs.twimg.com/ext_tw_video_thumb/88734...   \n",
       "1073  716802964044845056    https://pbs.twimg.com/media/CfKYfeBXIAAopp2.jpg   \n",
       "472   675145476954566656    https://pbs.twimg.com/media/CV6ZOPqWsAA20Uj.jpg   \n",
       "2070  891327558926688256    https://pbs.twimg.com/media/DF6hr6BUMAAzZgT.jpg   \n",
       "101   667793409583771648    https://pbs.twimg.com/media/CUR6jqVWsAEgGot.jpg   \n",
       "\n",
       "      img_num                  p1   p1_conf  p1_dog                p2  \\\n",
       "2050        1    Mexican_hairless  0.330741    True          sea_lion   \n",
       "1073        2            malinois  0.619577    True          Leonberg   \n",
       "472         1  Labrador_retriever  0.458746    True        Great_Dane   \n",
       "2070        2              basset  0.555712    True  English_springer   \n",
       "101         1           dalmatian  0.535073    True    English_setter   \n",
       "\n",
       "       p2_conf  p2_dog                           p3   p3_conf  p3_dog  \n",
       "2050  0.275645   False                   Weimaraner  0.134203    True  \n",
       "1073  0.118089    True                 bull_mastiff  0.066508    True  \n",
       "472   0.235504    True    Staffordshire_bullterrier  0.116864    True  \n",
       "2070  0.225770    True  German_short-haired_pointer  0.175219    True  \n",
       "101   0.451219    True                   Great_Dane  0.008164    True  "
      ]
     },
     "execution_count": 20,
     "metadata": {},
     "output_type": "execute_result"
    }
   ],
   "source": [
    "image_predictions.sample(5)"
   ]
  },
  {
   "cell_type": "code",
   "execution_count": 21,
   "metadata": {},
   "outputs": [
    {
     "data": {
      "text/plain": [
       "(2075, 12)"
      ]
     },
     "execution_count": 21,
     "metadata": {},
     "output_type": "execute_result"
    }
   ],
   "source": [
    "image_predictions.shape"
   ]
  },
  {
   "cell_type": "code",
   "execution_count": 22,
   "metadata": {},
   "outputs": [
    {
     "name": "stdout",
     "output_type": "stream",
     "text": [
      "<class 'pandas.core.frame.DataFrame'>\n",
      "RangeIndex: 2075 entries, 0 to 2074\n",
      "Data columns (total 12 columns):\n",
      " #   Column    Non-Null Count  Dtype  \n",
      "---  ------    --------------  -----  \n",
      " 0   tweet_id  2075 non-null   int64  \n",
      " 1   jpg_url   2075 non-null   object \n",
      " 2   img_num   2075 non-null   int64  \n",
      " 3   p1        2075 non-null   object \n",
      " 4   p1_conf   2075 non-null   float64\n",
      " 5   p1_dog    2075 non-null   bool   \n",
      " 6   p2        2075 non-null   object \n",
      " 7   p2_conf   2075 non-null   float64\n",
      " 8   p2_dog    2075 non-null   bool   \n",
      " 9   p3        2075 non-null   object \n",
      " 10  p3_conf   2075 non-null   float64\n",
      " 11  p3_dog    2075 non-null   bool   \n",
      "dtypes: bool(3), float64(3), int64(2), object(4)\n",
      "memory usage: 152.1+ KB\n"
     ]
    }
   ],
   "source": [
    "image_predictions.info()"
   ]
  },
  {
   "cell_type": "code",
   "execution_count": 23,
   "metadata": {},
   "outputs": [
    {
     "data": {
      "text/html": [
       "<div>\n",
       "<style scoped>\n",
       "    .dataframe tbody tr th:only-of-type {\n",
       "        vertical-align: middle;\n",
       "    }\n",
       "\n",
       "    .dataframe tbody tr th {\n",
       "        vertical-align: top;\n",
       "    }\n",
       "\n",
       "    .dataframe thead th {\n",
       "        text-align: right;\n",
       "    }\n",
       "</style>\n",
       "<table border=\"1\" class=\"dataframe\">\n",
       "  <thead>\n",
       "    <tr style=\"text-align: right;\">\n",
       "      <th></th>\n",
       "      <th>tweet_id</th>\n",
       "      <th>img_num</th>\n",
       "      <th>p1_conf</th>\n",
       "      <th>p2_conf</th>\n",
       "      <th>p3_conf</th>\n",
       "    </tr>\n",
       "  </thead>\n",
       "  <tbody>\n",
       "    <tr>\n",
       "      <th>count</th>\n",
       "      <td>2.075000e+03</td>\n",
       "      <td>2075.000000</td>\n",
       "      <td>2075.000000</td>\n",
       "      <td>2.075000e+03</td>\n",
       "      <td>2.075000e+03</td>\n",
       "    </tr>\n",
       "    <tr>\n",
       "      <th>mean</th>\n",
       "      <td>7.384514e+17</td>\n",
       "      <td>1.203855</td>\n",
       "      <td>0.594548</td>\n",
       "      <td>1.345886e-01</td>\n",
       "      <td>6.032417e-02</td>\n",
       "    </tr>\n",
       "    <tr>\n",
       "      <th>std</th>\n",
       "      <td>6.785203e+16</td>\n",
       "      <td>0.561875</td>\n",
       "      <td>0.271174</td>\n",
       "      <td>1.006657e-01</td>\n",
       "      <td>5.090593e-02</td>\n",
       "    </tr>\n",
       "    <tr>\n",
       "      <th>min</th>\n",
       "      <td>6.660209e+17</td>\n",
       "      <td>1.000000</td>\n",
       "      <td>0.044333</td>\n",
       "      <td>1.011300e-08</td>\n",
       "      <td>1.740170e-10</td>\n",
       "    </tr>\n",
       "    <tr>\n",
       "      <th>25%</th>\n",
       "      <td>6.764835e+17</td>\n",
       "      <td>1.000000</td>\n",
       "      <td>0.364412</td>\n",
       "      <td>5.388625e-02</td>\n",
       "      <td>1.622240e-02</td>\n",
       "    </tr>\n",
       "    <tr>\n",
       "      <th>50%</th>\n",
       "      <td>7.119988e+17</td>\n",
       "      <td>1.000000</td>\n",
       "      <td>0.588230</td>\n",
       "      <td>1.181810e-01</td>\n",
       "      <td>4.944380e-02</td>\n",
       "    </tr>\n",
       "    <tr>\n",
       "      <th>75%</th>\n",
       "      <td>7.932034e+17</td>\n",
       "      <td>1.000000</td>\n",
       "      <td>0.843855</td>\n",
       "      <td>1.955655e-01</td>\n",
       "      <td>9.180755e-02</td>\n",
       "    </tr>\n",
       "    <tr>\n",
       "      <th>max</th>\n",
       "      <td>8.924206e+17</td>\n",
       "      <td>4.000000</td>\n",
       "      <td>1.000000</td>\n",
       "      <td>4.880140e-01</td>\n",
       "      <td>2.734190e-01</td>\n",
       "    </tr>\n",
       "  </tbody>\n",
       "</table>\n",
       "</div>"
      ],
      "text/plain": [
       "           tweet_id      img_num      p1_conf       p2_conf       p3_conf\n",
       "count  2.075000e+03  2075.000000  2075.000000  2.075000e+03  2.075000e+03\n",
       "mean   7.384514e+17     1.203855     0.594548  1.345886e-01  6.032417e-02\n",
       "std    6.785203e+16     0.561875     0.271174  1.006657e-01  5.090593e-02\n",
       "min    6.660209e+17     1.000000     0.044333  1.011300e-08  1.740170e-10\n",
       "25%    6.764835e+17     1.000000     0.364412  5.388625e-02  1.622240e-02\n",
       "50%    7.119988e+17     1.000000     0.588230  1.181810e-01  4.944380e-02\n",
       "75%    7.932034e+17     1.000000     0.843855  1.955655e-01  9.180755e-02\n",
       "max    8.924206e+17     4.000000     1.000000  4.880140e-01  2.734190e-01"
      ]
     },
     "execution_count": 23,
     "metadata": {},
     "output_type": "execute_result"
    }
   ],
   "source": [
    "image_predictions.describe()"
   ]
  },
  {
   "cell_type": "code",
   "execution_count": 24,
   "metadata": {},
   "outputs": [
    {
     "data": {
      "text/plain": [
       "tweet_id    0\n",
       "jpg_url     0\n",
       "img_num     0\n",
       "p1          0\n",
       "p1_conf     0\n",
       "p1_dog      0\n",
       "p2          0\n",
       "p2_conf     0\n",
       "p2_dog      0\n",
       "p3          0\n",
       "p3_conf     0\n",
       "p3_dog      0\n",
       "dtype: int64"
      ]
     },
     "execution_count": 24,
     "metadata": {},
     "output_type": "execute_result"
    }
   ],
   "source": [
    "image_predictions.isnull().sum()"
   ]
  },
  {
   "cell_type": "code",
   "execution_count": 25,
   "metadata": {},
   "outputs": [
    {
     "data": {
      "text/plain": [
       "0"
      ]
     },
     "execution_count": 25,
     "metadata": {},
     "output_type": "execute_result"
    }
   ],
   "source": [
    "image_predictions.duplicated().sum()"
   ]
  },
  {
   "cell_type": "code",
   "execution_count": 26,
   "metadata": {},
   "outputs": [
    {
     "data": {
      "text/plain": [
       "0"
      ]
     },
     "execution_count": 26,
     "metadata": {},
     "output_type": "execute_result"
    }
   ],
   "source": [
    "image_predictions.tweet_id.duplicated().sum()"
   ]
  },
  {
   "cell_type": "code",
   "execution_count": 27,
   "metadata": {},
   "outputs": [
    {
     "data": {
      "text/plain": [
       "378"
      ]
     },
     "execution_count": 27,
     "metadata": {},
     "output_type": "execute_result"
    }
   ],
   "source": [
    "image_predictions['p1'].nunique()"
   ]
  },
  {
   "cell_type": "code",
   "execution_count": 28,
   "metadata": {},
   "outputs": [
    {
     "data": {
      "text/plain": [
       "405"
      ]
     },
     "execution_count": 28,
     "metadata": {},
     "output_type": "execute_result"
    }
   ],
   "source": [
    "image_predictions['p2'].nunique()"
   ]
  },
  {
   "cell_type": "code",
   "execution_count": 29,
   "metadata": {},
   "outputs": [
    {
     "data": {
      "text/plain": [
       "408"
      ]
     },
     "execution_count": 29,
     "metadata": {},
     "output_type": "execute_result"
    }
   ],
   "source": [
    "image_predictions['p3'].nunique()"
   ]
  },
  {
   "cell_type": "code",
   "execution_count": 30,
   "metadata": {},
   "outputs": [
    {
     "data": {
      "text/plain": [
       "True     1532\n",
       "False     543\n",
       "Name: p1_dog, dtype: int64"
      ]
     },
     "execution_count": 30,
     "metadata": {},
     "output_type": "execute_result"
    }
   ],
   "source": [
    "image_predictions['p1_dog'].value_counts()"
   ]
  },
  {
   "cell_type": "code",
   "execution_count": 31,
   "metadata": {},
   "outputs": [
    {
     "data": {
      "text/plain": [
       "True     1553\n",
       "False     522\n",
       "Name: p2_dog, dtype: int64"
      ]
     },
     "execution_count": 31,
     "metadata": {},
     "output_type": "execute_result"
    }
   ],
   "source": [
    "image_predictions['p2_dog'].value_counts()"
   ]
  },
  {
   "cell_type": "code",
   "execution_count": 32,
   "metadata": {},
   "outputs": [
    {
     "data": {
      "text/plain": [
       "True     1499\n",
       "False     576\n",
       "Name: p3_dog, dtype: int64"
      ]
     },
     "execution_count": 32,
     "metadata": {},
     "output_type": "execute_result"
    }
   ],
   "source": [
    "image_predictions['p3_dog'].value_counts()"
   ]
  },
  {
   "cell_type": "markdown",
   "metadata": {},
   "source": [
    "#### 3.tweet_info"
   ]
  },
  {
   "cell_type": "code",
   "execution_count": 33,
   "metadata": {},
   "outputs": [
    {
     "data": {
      "text/html": [
       "<div>\n",
       "<style scoped>\n",
       "    .dataframe tbody tr th:only-of-type {\n",
       "        vertical-align: middle;\n",
       "    }\n",
       "\n",
       "    .dataframe tbody tr th {\n",
       "        vertical-align: top;\n",
       "    }\n",
       "\n",
       "    .dataframe thead th {\n",
       "        text-align: right;\n",
       "    }\n",
       "</style>\n",
       "<table border=\"1\" class=\"dataframe\">\n",
       "  <thead>\n",
       "    <tr style=\"text-align: right;\">\n",
       "      <th></th>\n",
       "      <th>tweet_id</th>\n",
       "      <th>favorites</th>\n",
       "      <th>retweets</th>\n",
       "    </tr>\n",
       "  </thead>\n",
       "  <tbody>\n",
       "    <tr>\n",
       "      <th>1941</th>\n",
       "      <td>673709992831262724</td>\n",
       "      <td>908</td>\n",
       "      <td>306</td>\n",
       "    </tr>\n",
       "    <tr>\n",
       "      <th>959</th>\n",
       "      <td>751132876104687617</td>\n",
       "      <td>5610</td>\n",
       "      <td>1480</td>\n",
       "    </tr>\n",
       "    <tr>\n",
       "      <th>1373</th>\n",
       "      <td>701889187134500865</td>\n",
       "      <td>3905</td>\n",
       "      <td>1558</td>\n",
       "    </tr>\n",
       "    <tr>\n",
       "      <th>1103</th>\n",
       "      <td>734912297295085568</td>\n",
       "      <td>2993</td>\n",
       "      <td>572</td>\n",
       "    </tr>\n",
       "    <tr>\n",
       "      <th>164</th>\n",
       "      <td>860177593139703809</td>\n",
       "      <td>0</td>\n",
       "      <td>33421</td>\n",
       "    </tr>\n",
       "  </tbody>\n",
       "</table>\n",
       "</div>"
      ],
      "text/plain": [
       "                tweet_id favorites retweets\n",
       "1941  673709992831262724       908      306\n",
       "959   751132876104687617      5610     1480\n",
       "1373  701889187134500865      3905     1558\n",
       "1103  734912297295085568      2993      572\n",
       "164   860177593139703809         0    33421"
      ]
     },
     "execution_count": 33,
     "metadata": {},
     "output_type": "execute_result"
    }
   ],
   "source": [
    "tweet_info.sample(5)"
   ]
  },
  {
   "cell_type": "code",
   "execution_count": 34,
   "metadata": {},
   "outputs": [
    {
     "data": {
      "text/plain": [
       "(2354, 3)"
      ]
     },
     "execution_count": 34,
     "metadata": {},
     "output_type": "execute_result"
    }
   ],
   "source": [
    "tweet_info.shape"
   ]
  },
  {
   "cell_type": "code",
   "execution_count": 35,
   "metadata": {},
   "outputs": [
    {
     "name": "stdout",
     "output_type": "stream",
     "text": [
      "<class 'pandas.core.frame.DataFrame'>\n",
      "RangeIndex: 2354 entries, 0 to 2353\n",
      "Data columns (total 3 columns):\n",
      " #   Column     Non-Null Count  Dtype \n",
      "---  ------     --------------  ----- \n",
      " 0   tweet_id   2354 non-null   object\n",
      " 1   favorites  2354 non-null   object\n",
      " 2   retweets   2354 non-null   object\n",
      "dtypes: object(3)\n",
      "memory usage: 55.3+ KB\n"
     ]
    }
   ],
   "source": [
    "tweet_info.info()"
   ]
  },
  {
   "cell_type": "code",
   "execution_count": 36,
   "metadata": {},
   "outputs": [
    {
     "data": {
      "text/html": [
       "<div>\n",
       "<style scoped>\n",
       "    .dataframe tbody tr th:only-of-type {\n",
       "        vertical-align: middle;\n",
       "    }\n",
       "\n",
       "    .dataframe tbody tr th {\n",
       "        vertical-align: top;\n",
       "    }\n",
       "\n",
       "    .dataframe thead th {\n",
       "        text-align: right;\n",
       "    }\n",
       "</style>\n",
       "<table border=\"1\" class=\"dataframe\">\n",
       "  <thead>\n",
       "    <tr style=\"text-align: right;\">\n",
       "      <th></th>\n",
       "      <th>tweet_id</th>\n",
       "      <th>favorites</th>\n",
       "      <th>retweets</th>\n",
       "    </tr>\n",
       "  </thead>\n",
       "  <tbody>\n",
       "    <tr>\n",
       "      <th>count</th>\n",
       "      <td>2354</td>\n",
       "      <td>2354</td>\n",
       "      <td>2354</td>\n",
       "    </tr>\n",
       "    <tr>\n",
       "      <th>unique</th>\n",
       "      <td>2354</td>\n",
       "      <td>2007</td>\n",
       "      <td>1724</td>\n",
       "    </tr>\n",
       "    <tr>\n",
       "      <th>top</th>\n",
       "      <td>667495797102141441</td>\n",
       "      <td>0</td>\n",
       "      <td>3652</td>\n",
       "    </tr>\n",
       "    <tr>\n",
       "      <th>freq</th>\n",
       "      <td>1</td>\n",
       "      <td>179</td>\n",
       "      <td>5</td>\n",
       "    </tr>\n",
       "  </tbody>\n",
       "</table>\n",
       "</div>"
      ],
      "text/plain": [
       "                  tweet_id  favorites  retweets\n",
       "count                 2354       2354      2354\n",
       "unique                2354       2007      1724\n",
       "top     667495797102141441          0      3652\n",
       "freq                     1        179         5"
      ]
     },
     "execution_count": 36,
     "metadata": {},
     "output_type": "execute_result"
    }
   ],
   "source": [
    "tweet_info.describe()"
   ]
  },
  {
   "cell_type": "code",
   "execution_count": 37,
   "metadata": {},
   "outputs": [
    {
     "data": {
      "text/plain": [
       "tweet_id     0\n",
       "favorites    0\n",
       "retweets     0\n",
       "dtype: int64"
      ]
     },
     "execution_count": 37,
     "metadata": {},
     "output_type": "execute_result"
    }
   ],
   "source": [
    "tweet_info.isnull().sum()"
   ]
  },
  {
   "cell_type": "code",
   "execution_count": 38,
   "metadata": {},
   "outputs": [
    {
     "data": {
      "text/plain": [
       "0"
      ]
     },
     "execution_count": 38,
     "metadata": {},
     "output_type": "execute_result"
    }
   ],
   "source": [
    "tweet_info.duplicated().sum()"
   ]
  },
  {
   "cell_type": "code",
   "execution_count": 39,
   "metadata": {},
   "outputs": [
    {
     "data": {
      "text/plain": [
       "0"
      ]
     },
     "execution_count": 39,
     "metadata": {},
     "output_type": "execute_result"
    }
   ],
   "source": [
    "tweet_info['tweet_id'].duplicated().sum()"
   ]
  },
  {
   "cell_type": "code",
   "execution_count": 40,
   "metadata": {},
   "outputs": [
    {
     "data": {
      "text/plain": [
       "(132810, 0)"
      ]
     },
     "execution_count": 40,
     "metadata": {},
     "output_type": "execute_result"
    }
   ],
   "source": [
    "tweet_info['favorites'].max() , tweet_info['favorites'].min() "
   ]
  },
  {
   "cell_type": "code",
   "execution_count": 41,
   "metadata": {},
   "outputs": [
    {
     "data": {
      "text/plain": [
       "(79515, 0)"
      ]
     },
     "execution_count": 41,
     "metadata": {},
     "output_type": "execute_result"
    }
   ],
   "source": [
    "tweet_info['retweets'].max() , tweet_info['retweets'].min() "
   ]
  },
  {
   "cell_type": "code",
   "execution_count": 42,
   "metadata": {},
   "outputs": [
    {
     "data": {
      "text/plain": [
       "17    tweet_id\n",
       "29    tweet_id\n",
       "dtype: object"
      ]
     },
     "execution_count": 42,
     "metadata": {},
     "output_type": "execute_result"
    }
   ],
   "source": [
    "df = pd.Series(list(twitter_archive) + list(image_predictions) + list(tweet_info))\n",
    "df[df.duplicated()]"
   ]
  },
  {
   "cell_type": "markdown",
   "metadata": {},
   "source": [
    "#### Assessing Issues\n",
    "##### Quality Issues :\n",
    "`twitter_archive `\n",
    "\n",
    "• The type of tweet_id column is int, should convert to str type.\n",
    "• The type of timestamp column is object, should convert to datetime type.\n",
    "• The type of rating_numerator and rating_denominator columns are int, should convert to float type.\n",
    "• Many columns have no related to the main goal of the project  and have many missing values such as (retweeted_status_id, retweeted_status_user_id) have 2278 missing values, and ( retweeted_status_timestamp ,in_reply_to_status_id, in_reply_to_user_id) have 2175 missing values of 2356 row in the dataframe.\n",
    "• The expanded_urls column has 59 missing values.\n",
    "• The column name, there many incorrect  names such as (None , such , a , quite , not , one , incredibly ,mad , an ,very , just , my , his , actually , getting , mad , this , unacceptable, all , old , infuriating , the , by , officially , life , light, space)  \n",
    "• The rating_denominator column have some values that are more than 10.\n",
    "\n",
    "`image_predictions `\n",
    "\n",
    "• The type of tweet_id is an integer, should convert to string.\n",
    "\n",
    "`tweets_info `\n",
    "\n",
    "• The type of favorites column is object, should convert to integer.\n",
    "• The type of retweets column is object, should convert to integer.\n",
    "\n",
    "\n",
    "##### Tidiness Issues \n",
    "• There are three DataFrame, should merge into one master DataFrame.\n",
    "• In `twitter_archive`, there are four columns for dogs describe (doggo, floofer, pupper, puppo) , should be in one column."
   ]
  },
  {
   "cell_type": "markdown",
   "metadata": {},
   "source": [
    "### Third: Cleaning Data"
   ]
  },
  {
   "cell_type": "markdown",
   "metadata": {},
   "source": [
    "#### Copy All DataFrames\n",
    "The first thing to do before start cleaning  data is to copy each of the DataFrame. So, any change will not affect the original DataFrame"
   ]
  },
  {
   "cell_type": "code",
   "execution_count": 43,
   "metadata": {},
   "outputs": [],
   "source": [
    "twitter_archive_copy = twitter_archive.copy()\n",
    "image_predictions_copy = image_predictions.copy()\n",
    "tweet_info_copy = tweet_info.copy()"
   ]
  },
  {
   "cell_type": "markdown",
   "metadata": {},
   "source": [
    "#### Cleaning"
   ]
  },
  {
   "cell_type": "markdown",
   "metadata": {},
   "source": [
    "#####   First Issue (Missing data)"
   ]
  },
  {
   "cell_type": "markdown",
   "metadata": {},
   "source": [
    "##### Define :\n",
    "delete unuseful columns from `twitter_archive_copy`"
   ]
  },
  {
   "cell_type": "markdown",
   "metadata": {},
   "source": [
    "##### Code"
   ]
  },
  {
   "cell_type": "code",
   "execution_count": 44,
   "metadata": {},
   "outputs": [],
   "source": [
    "twitter_archive_copy.drop(['retweeted_status_id', 'retweeted_status_user_id' ,'retweeted_status_timestamp' ,\n",
    "                           'in_reply_to_user_id' ,'in_reply_to_user_id' , 'in_reply_to_status_id'] ,\n",
    "                          axis = 1 , inplace=True )"
   ]
  },
  {
   "cell_type": "markdown",
   "metadata": {},
   "source": [
    "##### Test"
   ]
  },
  {
   "cell_type": "code",
   "execution_count": 45,
   "metadata": {},
   "outputs": [
    {
     "name": "stdout",
     "output_type": "stream",
     "text": [
      "<class 'pandas.core.frame.DataFrame'>\n",
      "RangeIndex: 2356 entries, 0 to 2355\n",
      "Data columns (total 12 columns):\n",
      " #   Column              Non-Null Count  Dtype \n",
      "---  ------              --------------  ----- \n",
      " 0   tweet_id            2356 non-null   int64 \n",
      " 1   timestamp           2356 non-null   object\n",
      " 2   source              2356 non-null   object\n",
      " 3   text                2356 non-null   object\n",
      " 4   expanded_urls       2297 non-null   object\n",
      " 5   rating_numerator    2356 non-null   int64 \n",
      " 6   rating_denominator  2356 non-null   int64 \n",
      " 7   name                2356 non-null   object\n",
      " 8   doggo               2356 non-null   object\n",
      " 9   floofer             2356 non-null   object\n",
      " 10  pupper              2356 non-null   object\n",
      " 11  puppo               2356 non-null   object\n",
      "dtypes: int64(3), object(9)\n",
      "memory usage: 221.0+ KB\n"
     ]
    }
   ],
   "source": [
    "twitter_archive_copy.info()"
   ]
  },
  {
   "cell_type": "markdown",
   "metadata": {},
   "source": [
    "#### Second Issue (Tidiness)"
   ]
  },
  {
   "cell_type": "markdown",
   "metadata": {},
   "source": [
    "#### Tidiness Issue #1\n",
    "##### Define :\n",
    "Merge the three DataFrame into one DataFrame (master)  , use tweet_id as the key"
   ]
  },
  {
   "cell_type": "markdown",
   "metadata": {},
   "source": [
    "##### Code"
   ]
  },
  {
   "cell_type": "code",
   "execution_count": 46,
   "metadata": {},
   "outputs": [],
   "source": [
    "all_df = [twitter_archive_copy , image_predictions_copy , tweet_info_copy]\n",
    "master = reduce(lambda left,right: pd.merge(left,right,on='tweet_id' , how='inner'), all_df)\n"
   ]
  },
  {
   "cell_type": "markdown",
   "metadata": {},
   "source": [
    "##### Test :"
   ]
  },
  {
   "cell_type": "code",
   "execution_count": 47,
   "metadata": {},
   "outputs": [],
   "source": [
    "pd.options.display.max_columns = None"
   ]
  },
  {
   "cell_type": "code",
   "execution_count": 48,
   "metadata": {},
   "outputs": [
    {
     "data": {
      "text/html": [
       "<div>\n",
       "<style scoped>\n",
       "    .dataframe tbody tr th:only-of-type {\n",
       "        vertical-align: middle;\n",
       "    }\n",
       "\n",
       "    .dataframe tbody tr th {\n",
       "        vertical-align: top;\n",
       "    }\n",
       "\n",
       "    .dataframe thead th {\n",
       "        text-align: right;\n",
       "    }\n",
       "</style>\n",
       "<table border=\"1\" class=\"dataframe\">\n",
       "  <thead>\n",
       "    <tr style=\"text-align: right;\">\n",
       "      <th></th>\n",
       "      <th>tweet_id</th>\n",
       "      <th>timestamp</th>\n",
       "      <th>source</th>\n",
       "      <th>text</th>\n",
       "      <th>expanded_urls</th>\n",
       "      <th>rating_numerator</th>\n",
       "      <th>rating_denominator</th>\n",
       "      <th>name</th>\n",
       "      <th>doggo</th>\n",
       "      <th>floofer</th>\n",
       "      <th>pupper</th>\n",
       "      <th>puppo</th>\n",
       "      <th>jpg_url</th>\n",
       "      <th>img_num</th>\n",
       "      <th>p1</th>\n",
       "      <th>p1_conf</th>\n",
       "      <th>p1_dog</th>\n",
       "      <th>p2</th>\n",
       "      <th>p2_conf</th>\n",
       "      <th>p2_dog</th>\n",
       "      <th>p3</th>\n",
       "      <th>p3_conf</th>\n",
       "      <th>p3_dog</th>\n",
       "      <th>favorites</th>\n",
       "      <th>retweets</th>\n",
       "    </tr>\n",
       "  </thead>\n",
       "  <tbody>\n",
       "  </tbody>\n",
       "</table>\n",
       "</div>"
      ],
      "text/plain": [
       "Empty DataFrame\n",
       "Columns: [tweet_id, timestamp, source, text, expanded_urls, rating_numerator, rating_denominator, name, doggo, floofer, pupper, puppo, jpg_url, img_num, p1, p1_conf, p1_dog, p2, p2_conf, p2_dog, p3, p3_conf, p3_dog, favorites, retweets]\n",
       "Index: []"
      ]
     },
     "execution_count": 48,
     "metadata": {},
     "output_type": "execute_result"
    }
   ],
   "source": [
    "master.head(0)"
   ]
  },
  {
   "cell_type": "code",
   "execution_count": 49,
   "metadata": {},
   "outputs": [
    {
     "data": {
      "text/plain": [
       "(2073, 25)"
      ]
     },
     "execution_count": 49,
     "metadata": {},
     "output_type": "execute_result"
    }
   ],
   "source": [
    "master.shape"
   ]
  },
  {
   "cell_type": "code",
   "execution_count": 50,
   "metadata": {},
   "outputs": [
    {
     "name": "stdout",
     "output_type": "stream",
     "text": [
      "<class 'pandas.core.frame.DataFrame'>\n",
      "Int64Index: 2073 entries, 0 to 2072\n",
      "Data columns (total 25 columns):\n",
      " #   Column              Non-Null Count  Dtype  \n",
      "---  ------              --------------  -----  \n",
      " 0   tweet_id            2073 non-null   object \n",
      " 1   timestamp           2073 non-null   object \n",
      " 2   source              2073 non-null   object \n",
      " 3   text                2073 non-null   object \n",
      " 4   expanded_urls       2073 non-null   object \n",
      " 5   rating_numerator    2073 non-null   int64  \n",
      " 6   rating_denominator  2073 non-null   int64  \n",
      " 7   name                2073 non-null   object \n",
      " 8   doggo               2073 non-null   object \n",
      " 9   floofer             2073 non-null   object \n",
      " 10  pupper              2073 non-null   object \n",
      " 11  puppo               2073 non-null   object \n",
      " 12  jpg_url             2073 non-null   object \n",
      " 13  img_num             2073 non-null   int64  \n",
      " 14  p1                  2073 non-null   object \n",
      " 15  p1_conf             2073 non-null   float64\n",
      " 16  p1_dog              2073 non-null   bool   \n",
      " 17  p2                  2073 non-null   object \n",
      " 18  p2_conf             2073 non-null   float64\n",
      " 19  p2_dog              2073 non-null   bool   \n",
      " 20  p3                  2073 non-null   object \n",
      " 21  p3_conf             2073 non-null   float64\n",
      " 22  p3_dog              2073 non-null   bool   \n",
      " 23  favorites           2073 non-null   object \n",
      " 24  retweets            2073 non-null   object \n",
      "dtypes: bool(3), float64(3), int64(3), object(16)\n",
      "memory usage: 378.6+ KB\n"
     ]
    }
   ],
   "source": [
    "master.info()"
   ]
  },
  {
   "cell_type": "code",
   "execution_count": 51,
   "metadata": {},
   "outputs": [
    {
     "data": {
      "text/plain": [
       "tweet_id              0\n",
       "timestamp             0\n",
       "source                0\n",
       "text                  0\n",
       "expanded_urls         0\n",
       "rating_numerator      0\n",
       "rating_denominator    0\n",
       "name                  0\n",
       "doggo                 0\n",
       "floofer               0\n",
       "pupper                0\n",
       "puppo                 0\n",
       "jpg_url               0\n",
       "img_num               0\n",
       "p1                    0\n",
       "p1_conf               0\n",
       "p1_dog                0\n",
       "p2                    0\n",
       "p2_conf               0\n",
       "p2_dog                0\n",
       "p3                    0\n",
       "p3_conf               0\n",
       "p3_dog                0\n",
       "favorites             0\n",
       "retweets              0\n",
       "dtype: int64"
      ]
     },
     "execution_count": 51,
     "metadata": {},
     "output_type": "execute_result"
    }
   ],
   "source": [
    "master.isnull().sum()"
   ]
  },
  {
   "cell_type": "code",
   "execution_count": 52,
   "metadata": {},
   "outputs": [
    {
     "data": {
      "text/plain": [
       "0"
      ]
     },
     "execution_count": 52,
     "metadata": {},
     "output_type": "execute_result"
    }
   ],
   "source": [
    "master.duplicated().sum()"
   ]
  },
  {
   "cell_type": "code",
   "execution_count": 53,
   "metadata": {},
   "outputs": [
    {
     "data": {
      "text/plain": [
       "2073"
      ]
     },
     "execution_count": 53,
     "metadata": {},
     "output_type": "execute_result"
    }
   ],
   "source": [
    "master.tweet_id.nunique()"
   ]
  },
  {
   "cell_type": "markdown",
   "metadata": {},
   "source": [
    "#### Tidiness Issue #2\n",
    "##### Define :\n",
    "Merge the four columns of dogs describe(doggo, floofer, pupper, puppo) into one column(dog_describe)"
   ]
  },
  {
   "cell_type": "markdown",
   "metadata": {},
   "source": [
    "##### Code :"
   ]
  },
  {
   "cell_type": "code",
   "execution_count": 54,
   "metadata": {},
   "outputs": [
    {
     "data": {
      "text/plain": [
       "None     1993\n",
       "doggo      80\n",
       "Name: doggo, dtype: int64"
      ]
     },
     "execution_count": 54,
     "metadata": {},
     "output_type": "execute_result"
    }
   ],
   "source": [
    "master['doggo'].value_counts()"
   ]
  },
  {
   "cell_type": "code",
   "execution_count": 55,
   "metadata": {},
   "outputs": [
    {
     "data": {
      "text/plain": [
       "None       2065\n",
       "floofer       8\n",
       "Name: floofer, dtype: int64"
      ]
     },
     "execution_count": 55,
     "metadata": {},
     "output_type": "execute_result"
    }
   ],
   "source": [
    "master['floofer'].value_counts()"
   ]
  },
  {
   "cell_type": "code",
   "execution_count": 56,
   "metadata": {},
   "outputs": [
    {
     "data": {
      "text/plain": [
       "None      1852\n",
       "pupper     221\n",
       "Name: pupper, dtype: int64"
      ]
     },
     "execution_count": 56,
     "metadata": {},
     "output_type": "execute_result"
    }
   ],
   "source": [
    "master['pupper'].value_counts()"
   ]
  },
  {
   "cell_type": "code",
   "execution_count": 57,
   "metadata": {},
   "outputs": [
    {
     "data": {
      "text/plain": [
       "None     2049\n",
       "puppo      24\n",
       "Name: puppo, dtype: int64"
      ]
     },
     "execution_count": 57,
     "metadata": {},
     "output_type": "execute_result"
    }
   ],
   "source": [
    "master['puppo'].value_counts()"
   ]
  },
  {
   "cell_type": "code",
   "execution_count": 58,
   "metadata": {},
   "outputs": [
    {
     "data": {
      "text/plain": [
       "                 1753\n",
       "pupper            210\n",
       "doggo              67\n",
       "puppo              23\n",
       "doggo,pupper       11\n",
       "floofer             7\n",
       "doggo,floofer       1\n",
       "doggo,puppo         1\n",
       "Name: dog_stage, dtype: int64"
      ]
     },
     "execution_count": 58,
     "metadata": {},
     "output_type": "execute_result"
    }
   ],
   "source": [
    "dog_stages=['doggo','floofer','pupper','puppo']\n",
    "master[dog_stages]=master[dog_stages].replace('None',np.nan)\n",
    "master['dog_stage']=master[dog_stages].apply(lambda x: ','.join(x[x.notnull()]),axis=1)\n",
    "master.dog_stage.value_counts()"
   ]
  },
  {
   "cell_type": "markdown",
   "metadata": {},
   "source": [
    "##### Test :"
   ]
  },
  {
   "cell_type": "code",
   "execution_count": 59,
   "metadata": {},
   "outputs": [
    {
     "data": {
      "text/html": [
       "<div>\n",
       "<style scoped>\n",
       "    .dataframe tbody tr th:only-of-type {\n",
       "        vertical-align: middle;\n",
       "    }\n",
       "\n",
       "    .dataframe tbody tr th {\n",
       "        vertical-align: top;\n",
       "    }\n",
       "\n",
       "    .dataframe thead th {\n",
       "        text-align: right;\n",
       "    }\n",
       "</style>\n",
       "<table border=\"1\" class=\"dataframe\">\n",
       "  <thead>\n",
       "    <tr style=\"text-align: right;\">\n",
       "      <th></th>\n",
       "      <th>tweet_id</th>\n",
       "      <th>timestamp</th>\n",
       "      <th>source</th>\n",
       "      <th>text</th>\n",
       "      <th>expanded_urls</th>\n",
       "      <th>rating_numerator</th>\n",
       "      <th>rating_denominator</th>\n",
       "      <th>name</th>\n",
       "      <th>doggo</th>\n",
       "      <th>floofer</th>\n",
       "      <th>pupper</th>\n",
       "      <th>puppo</th>\n",
       "      <th>jpg_url</th>\n",
       "      <th>img_num</th>\n",
       "      <th>p1</th>\n",
       "      <th>p1_conf</th>\n",
       "      <th>p1_dog</th>\n",
       "      <th>p2</th>\n",
       "      <th>p2_conf</th>\n",
       "      <th>p2_dog</th>\n",
       "      <th>p3</th>\n",
       "      <th>p3_conf</th>\n",
       "      <th>p3_dog</th>\n",
       "      <th>favorites</th>\n",
       "      <th>retweets</th>\n",
       "      <th>dog_stage</th>\n",
       "    </tr>\n",
       "  </thead>\n",
       "  <tbody>\n",
       "    <tr>\n",
       "      <th>879</th>\n",
       "      <td>740214038584557568</td>\n",
       "      <td>2016-06-07 16:09:13 +0000</td>\n",
       "      <td>&lt;a href=\"http://twitter.com/download/iphone\" r...</td>\n",
       "      <td>This is getting incredibly frustrating. This i...</td>\n",
       "      <td>https://twitter.com/dog_rates/status/740214038...</td>\n",
       "      <td>10</td>\n",
       "      <td>10</td>\n",
       "      <td>getting</td>\n",
       "      <td>NaN</td>\n",
       "      <td>NaN</td>\n",
       "      <td>NaN</td>\n",
       "      <td>NaN</td>\n",
       "      <td>https://pbs.twimg.com/media/CkXEu2OUoAAs8yU.jpg</td>\n",
       "      <td>1</td>\n",
       "      <td>Chesapeake_Bay_retriever</td>\n",
       "      <td>0.586414</td>\n",
       "      <td>True</td>\n",
       "      <td>Labrador_retriever</td>\n",
       "      <td>0.189782</td>\n",
       "      <td>True</td>\n",
       "      <td>vizsla</td>\n",
       "      <td>0.067607</td>\n",
       "      <td>True</td>\n",
       "      <td>7335</td>\n",
       "      <td>2220</td>\n",
       "      <td></td>\n",
       "    </tr>\n",
       "    <tr>\n",
       "      <th>677</th>\n",
       "      <td>767754930266464257</td>\n",
       "      <td>2016-08-22 16:06:54 +0000</td>\n",
       "      <td>&lt;a href=\"http://twitter.com/download/iphone\" r...</td>\n",
       "      <td>This is Philbert. His toilet broke and he does...</td>\n",
       "      <td>https://twitter.com/dog_rates/status/767754930...</td>\n",
       "      <td>11</td>\n",
       "      <td>10</td>\n",
       "      <td>Philbert</td>\n",
       "      <td>NaN</td>\n",
       "      <td>NaN</td>\n",
       "      <td>NaN</td>\n",
       "      <td>NaN</td>\n",
       "      <td>https://pbs.twimg.com/media/CqedCQWWgAIab9L.jpg</td>\n",
       "      <td>1</td>\n",
       "      <td>vizsla</td>\n",
       "      <td>0.307794</td>\n",
       "      <td>True</td>\n",
       "      <td>fountain</td>\n",
       "      <td>0.142185</td>\n",
       "      <td>False</td>\n",
       "      <td>Chesapeake_Bay_retriever</td>\n",
       "      <td>0.113903</td>\n",
       "      <td>True</td>\n",
       "      <td>17814</td>\n",
       "      <td>6221</td>\n",
       "      <td></td>\n",
       "    </tr>\n",
       "    <tr>\n",
       "      <th>1492</th>\n",
       "      <td>678767140346941444</td>\n",
       "      <td>2015-12-21 02:41:11 +0000</td>\n",
       "      <td>&lt;a href=\"http://twitter.com/download/iphone\" r...</td>\n",
       "      <td>This is Mia. She makes awful decisions. 8/10 h...</td>\n",
       "      <td>https://twitter.com/dog_rates/status/678767140...</td>\n",
       "      <td>8</td>\n",
       "      <td>10</td>\n",
       "      <td>Mia</td>\n",
       "      <td>NaN</td>\n",
       "      <td>NaN</td>\n",
       "      <td>NaN</td>\n",
       "      <td>NaN</td>\n",
       "      <td>https://pbs.twimg.com/media/CWt3G6EVEAIGEPr.jpg</td>\n",
       "      <td>1</td>\n",
       "      <td>harp</td>\n",
       "      <td>0.821120</td>\n",
       "      <td>False</td>\n",
       "      <td>window_screen</td>\n",
       "      <td>0.025121</td>\n",
       "      <td>False</td>\n",
       "      <td>mosquito_net</td>\n",
       "      <td>0.016716</td>\n",
       "      <td>False</td>\n",
       "      <td>3864</td>\n",
       "      <td>1553</td>\n",
       "      <td></td>\n",
       "    </tr>\n",
       "    <tr>\n",
       "      <th>279</th>\n",
       "      <td>831309418084069378</td>\n",
       "      <td>2017-02-14 01:09:44 +0000</td>\n",
       "      <td>&lt;a href=\"http://twitter.com/download/iphone\" r...</td>\n",
       "      <td>This is Scooter and his son Montoya.  Scooter ...</td>\n",
       "      <td>https://twitter.com/dog_rates/status/831309418...</td>\n",
       "      <td>12</td>\n",
       "      <td>10</td>\n",
       "      <td>Scooter</td>\n",
       "      <td>NaN</td>\n",
       "      <td>NaN</td>\n",
       "      <td>NaN</td>\n",
       "      <td>NaN</td>\n",
       "      <td>https://pbs.twimg.com/media/C4lngK5VUAEVrNO.jpg</td>\n",
       "      <td>1</td>\n",
       "      <td>Doberman</td>\n",
       "      <td>0.369389</td>\n",
       "      <td>True</td>\n",
       "      <td>kelpie</td>\n",
       "      <td>0.132449</td>\n",
       "      <td>True</td>\n",
       "      <td>Labrador_retriever</td>\n",
       "      <td>0.074727</td>\n",
       "      <td>True</td>\n",
       "      <td>12819</td>\n",
       "      <td>2786</td>\n",
       "      <td></td>\n",
       "    </tr>\n",
       "    <tr>\n",
       "      <th>811</th>\n",
       "      <td>748932637671223296</td>\n",
       "      <td>2016-07-01 17:33:49 +0000</td>\n",
       "      <td>&lt;a href=\"http://twitter.com/download/iphone\" r...</td>\n",
       "      <td>Say hello to Divine Doggo. Must be magical af....</td>\n",
       "      <td>https://twitter.com/dog_rates/status/748932637...</td>\n",
       "      <td>13</td>\n",
       "      <td>10</td>\n",
       "      <td>Divine</td>\n",
       "      <td>doggo</td>\n",
       "      <td>NaN</td>\n",
       "      <td>NaN</td>\n",
       "      <td>NaN</td>\n",
       "      <td>https://pbs.twimg.com/media/CmS-QkQWAAAkUa-.jpg</td>\n",
       "      <td>1</td>\n",
       "      <td>borzoi</td>\n",
       "      <td>0.742912</td>\n",
       "      <td>True</td>\n",
       "      <td>wire-haired_fox_terrier</td>\n",
       "      <td>0.204082</td>\n",
       "      <td>True</td>\n",
       "      <td>English_setter</td>\n",
       "      <td>0.021032</td>\n",
       "      <td>True</td>\n",
       "      <td>6461</td>\n",
       "      <td>2564</td>\n",
       "      <td>doggo</td>\n",
       "    </tr>\n",
       "  </tbody>\n",
       "</table>\n",
       "</div>"
      ],
      "text/plain": [
       "                tweet_id                  timestamp  \\\n",
       "879   740214038584557568  2016-06-07 16:09:13 +0000   \n",
       "677   767754930266464257  2016-08-22 16:06:54 +0000   \n",
       "1492  678767140346941444  2015-12-21 02:41:11 +0000   \n",
       "279   831309418084069378  2017-02-14 01:09:44 +0000   \n",
       "811   748932637671223296  2016-07-01 17:33:49 +0000   \n",
       "\n",
       "                                                 source  \\\n",
       "879   <a href=\"http://twitter.com/download/iphone\" r...   \n",
       "677   <a href=\"http://twitter.com/download/iphone\" r...   \n",
       "1492  <a href=\"http://twitter.com/download/iphone\" r...   \n",
       "279   <a href=\"http://twitter.com/download/iphone\" r...   \n",
       "811   <a href=\"http://twitter.com/download/iphone\" r...   \n",
       "\n",
       "                                                   text  \\\n",
       "879   This is getting incredibly frustrating. This i...   \n",
       "677   This is Philbert. His toilet broke and he does...   \n",
       "1492  This is Mia. She makes awful decisions. 8/10 h...   \n",
       "279   This is Scooter and his son Montoya.  Scooter ...   \n",
       "811   Say hello to Divine Doggo. Must be magical af....   \n",
       "\n",
       "                                          expanded_urls  rating_numerator  \\\n",
       "879   https://twitter.com/dog_rates/status/740214038...                10   \n",
       "677   https://twitter.com/dog_rates/status/767754930...                11   \n",
       "1492  https://twitter.com/dog_rates/status/678767140...                 8   \n",
       "279   https://twitter.com/dog_rates/status/831309418...                12   \n",
       "811   https://twitter.com/dog_rates/status/748932637...                13   \n",
       "\n",
       "      rating_denominator      name  doggo floofer pupper puppo  \\\n",
       "879                   10   getting    NaN     NaN    NaN   NaN   \n",
       "677                   10  Philbert    NaN     NaN    NaN   NaN   \n",
       "1492                  10       Mia    NaN     NaN    NaN   NaN   \n",
       "279                   10   Scooter    NaN     NaN    NaN   NaN   \n",
       "811                   10    Divine  doggo     NaN    NaN   NaN   \n",
       "\n",
       "                                              jpg_url  img_num  \\\n",
       "879   https://pbs.twimg.com/media/CkXEu2OUoAAs8yU.jpg        1   \n",
       "677   https://pbs.twimg.com/media/CqedCQWWgAIab9L.jpg        1   \n",
       "1492  https://pbs.twimg.com/media/CWt3G6EVEAIGEPr.jpg        1   \n",
       "279   https://pbs.twimg.com/media/C4lngK5VUAEVrNO.jpg        1   \n",
       "811   https://pbs.twimg.com/media/CmS-QkQWAAAkUa-.jpg        1   \n",
       "\n",
       "                            p1   p1_conf  p1_dog                       p2  \\\n",
       "879   Chesapeake_Bay_retriever  0.586414    True       Labrador_retriever   \n",
       "677                     vizsla  0.307794    True                 fountain   \n",
       "1492                      harp  0.821120   False            window_screen   \n",
       "279                   Doberman  0.369389    True                   kelpie   \n",
       "811                     borzoi  0.742912    True  wire-haired_fox_terrier   \n",
       "\n",
       "       p2_conf  p2_dog                        p3   p3_conf  p3_dog favorites  \\\n",
       "879   0.189782    True                    vizsla  0.067607    True      7335   \n",
       "677   0.142185   False  Chesapeake_Bay_retriever  0.113903    True     17814   \n",
       "1492  0.025121   False              mosquito_net  0.016716   False      3864   \n",
       "279   0.132449    True        Labrador_retriever  0.074727    True     12819   \n",
       "811   0.204082    True            English_setter  0.021032    True      6461   \n",
       "\n",
       "     retweets dog_stage  \n",
       "879      2220            \n",
       "677      6221            \n",
       "1492     1553            \n",
       "279      2786            \n",
       "811      2564     doggo  "
      ]
     },
     "execution_count": 59,
     "metadata": {},
     "output_type": "execute_result"
    }
   ],
   "source": [
    "master.sample(5)"
   ]
  },
  {
   "cell_type": "code",
   "execution_count": 60,
   "metadata": {},
   "outputs": [
    {
     "data": {
      "text/plain": [
       "                 1753\n",
       "pupper            210\n",
       "doggo              67\n",
       "puppo              23\n",
       "doggo,pupper       11\n",
       "floofer             7\n",
       "doggo,floofer       1\n",
       "doggo,puppo         1\n",
       "Name: dog_stage, dtype: int64"
      ]
     },
     "execution_count": 60,
     "metadata": {},
     "output_type": "execute_result"
    }
   ],
   "source": [
    "master['dog_stage'].value_counts()"
   ]
  },
  {
   "cell_type": "code",
   "execution_count": 61,
   "metadata": {},
   "outputs": [
    {
     "data": {
      "text/plain": [
       "0"
      ]
     },
     "execution_count": 61,
     "metadata": {},
     "output_type": "execute_result"
    }
   ],
   "source": [
    "master['dog_stage'].isnull().sum()"
   ]
  },
  {
   "cell_type": "markdown",
   "metadata": {},
   "source": [
    "#### Third Issue (Quality )"
   ]
  },
  {
   "cell_type": "markdown",
   "metadata": {},
   "source": [
    "##### Quality Issue #1\n",
    "###### Define :\n",
    "convert tweet_id column into Str"
   ]
  },
  {
   "cell_type": "markdown",
   "metadata": {},
   "source": [
    "##### Code"
   ]
  },
  {
   "cell_type": "code",
   "execution_count": 62,
   "metadata": {},
   "outputs": [],
   "source": [
    "master['tweet_id'] = master['tweet_id'].astype(str)"
   ]
  },
  {
   "cell_type": "markdown",
   "metadata": {},
   "source": [
    "##### Test"
   ]
  },
  {
   "cell_type": "code",
   "execution_count": 63,
   "metadata": {},
   "outputs": [
    {
     "data": {
      "text/plain": [
       "dtype('O')"
      ]
     },
     "execution_count": 63,
     "metadata": {},
     "output_type": "execute_result"
    }
   ],
   "source": [
    "master['tweet_id'].dtype"
   ]
  },
  {
   "cell_type": "markdown",
   "metadata": {},
   "source": [
    "##### Quality Issues #2\n",
    "##### Define :\n",
    "convert timestamp column into datetime"
   ]
  },
  {
   "cell_type": "markdown",
   "metadata": {},
   "source": [
    "##### Code"
   ]
  },
  {
   "cell_type": "code",
   "execution_count": 64,
   "metadata": {},
   "outputs": [],
   "source": [
    "master['timestamp'] = pd.to_datetime(master['timestamp'])\n"
   ]
  },
  {
   "cell_type": "markdown",
   "metadata": {},
   "source": [
    "##### Test"
   ]
  },
  {
   "cell_type": "code",
   "execution_count": 65,
   "metadata": {},
   "outputs": [
    {
     "data": {
      "text/plain": [
       "datetime64[ns, UTC]"
      ]
     },
     "execution_count": 65,
     "metadata": {},
     "output_type": "execute_result"
    }
   ],
   "source": [
    "master['timestamp'].dtype"
   ]
  },
  {
   "cell_type": "markdown",
   "metadata": {},
   "source": [
    "##### Quality Issue #3\n",
    "###### Define :\n",
    "convert retweets , favorites columns into int"
   ]
  },
  {
   "cell_type": "markdown",
   "metadata": {},
   "source": [
    "###### Code :"
   ]
  },
  {
   "cell_type": "code",
   "execution_count": 66,
   "metadata": {},
   "outputs": [],
   "source": [
    "master['retweets'] = master['retweets'].astype(int)\n",
    "master['favorites'] = master['favorites'].astype(int)"
   ]
  },
  {
   "cell_type": "markdown",
   "metadata": {},
   "source": [
    "###### Test :"
   ]
  },
  {
   "cell_type": "code",
   "execution_count": 67,
   "metadata": {},
   "outputs": [
    {
     "data": {
      "text/plain": [
       "(dtype('int64'), dtype('int64'))"
      ]
     },
     "execution_count": 67,
     "metadata": {},
     "output_type": "execute_result"
    }
   ],
   "source": [
    "master['retweets'].dtype , master['favorites'].dtype"
   ]
  },
  {
   "cell_type": "code",
   "execution_count": 68,
   "metadata": {},
   "outputs": [
    {
     "name": "stdout",
     "output_type": "stream",
     "text": [
      "<class 'pandas.core.frame.DataFrame'>\n",
      "Int64Index: 2073 entries, 0 to 2072\n",
      "Data columns (total 26 columns):\n",
      " #   Column              Non-Null Count  Dtype              \n",
      "---  ------              --------------  -----              \n",
      " 0   tweet_id            2073 non-null   object             \n",
      " 1   timestamp           2073 non-null   datetime64[ns, UTC]\n",
      " 2   source              2073 non-null   object             \n",
      " 3   text                2073 non-null   object             \n",
      " 4   expanded_urls       2073 non-null   object             \n",
      " 5   rating_numerator    2073 non-null   int64              \n",
      " 6   rating_denominator  2073 non-null   int64              \n",
      " 7   name                2073 non-null   object             \n",
      " 8   doggo               80 non-null     object             \n",
      " 9   floofer             8 non-null      object             \n",
      " 10  pupper              221 non-null    object             \n",
      " 11  puppo               24 non-null     object             \n",
      " 12  jpg_url             2073 non-null   object             \n",
      " 13  img_num             2073 non-null   int64              \n",
      " 14  p1                  2073 non-null   object             \n",
      " 15  p1_conf             2073 non-null   float64            \n",
      " 16  p1_dog              2073 non-null   bool               \n",
      " 17  p2                  2073 non-null   object             \n",
      " 18  p2_conf             2073 non-null   float64            \n",
      " 19  p2_dog              2073 non-null   bool               \n",
      " 20  p3                  2073 non-null   object             \n",
      " 21  p3_conf             2073 non-null   float64            \n",
      " 22  p3_dog              2073 non-null   bool               \n",
      " 23  favorites           2073 non-null   int64              \n",
      " 24  retweets            2073 non-null   int64              \n",
      " 25  dog_stage           2073 non-null   object             \n",
      "dtypes: bool(3), datetime64[ns, UTC](1), float64(3), int64(5), object(14)\n",
      "memory usage: 394.8+ KB\n"
     ]
    }
   ],
   "source": [
    "master.info()"
   ]
  },
  {
   "cell_type": "markdown",
   "metadata": {},
   "source": [
    "##### Quality Issue #4\n",
    "###### Define :\n",
    "convert rating_numerator , rating_denominator columns into float"
   ]
  },
  {
   "cell_type": "markdown",
   "metadata": {},
   "source": [
    "###### Code :"
   ]
  },
  {
   "cell_type": "code",
   "execution_count": 69,
   "metadata": {},
   "outputs": [],
   "source": [
    "master['rating_numerator'] = master['rating_numerator'].astype(float)\n",
    "master['rating_denominator'] = master['rating_denominator'].astype(float)"
   ]
  },
  {
   "cell_type": "markdown",
   "metadata": {},
   "source": [
    "###### Test :"
   ]
  },
  {
   "cell_type": "code",
   "execution_count": 70,
   "metadata": {},
   "outputs": [
    {
     "data": {
      "text/plain": [
       "(dtype('float64'), dtype('float64'))"
      ]
     },
     "execution_count": 70,
     "metadata": {},
     "output_type": "execute_result"
    }
   ],
   "source": [
    "master['rating_numerator'].dtype , master['rating_denominator'].dtype"
   ]
  },
  {
   "cell_type": "markdown",
   "metadata": {},
   "source": [
    "##### Quality Issue #5\n",
    "###### Define :\n",
    " Change the dog_describe , img_num columns into  category"
   ]
  },
  {
   "cell_type": "markdown",
   "metadata": {},
   "source": [
    "###### Code :"
   ]
  },
  {
   "cell_type": "code",
   "execution_count": 71,
   "metadata": {},
   "outputs": [],
   "source": [
    "master['dog_stage'] = master['dog_stage'].astype('category')\n",
    "master['img_num'] = master['img_num'].astype('category')\n"
   ]
  },
  {
   "cell_type": "markdown",
   "metadata": {},
   "source": [
    "###### Test :"
   ]
  },
  {
   "cell_type": "code",
   "execution_count": 72,
   "metadata": {},
   "outputs": [
    {
     "data": {
      "text/plain": [
       "(CategoricalDtype(categories=['', 'doggo', 'doggo,floofer', 'doggo,pupper', 'doggo,puppo',\n",
       "                   'floofer', 'pupper', 'puppo'],\n",
       "                  ordered=False),\n",
       " CategoricalDtype(categories=[1, 2, 3, 4], ordered=False))"
      ]
     },
     "execution_count": 72,
     "metadata": {},
     "output_type": "execute_result"
    }
   ],
   "source": [
    "master['dog_stage'].dtype , master['img_num'].dtype"
   ]
  },
  {
   "cell_type": "markdown",
   "metadata": {},
   "source": [
    "##### Quality Issue #6\n",
    "###### Define :\n",
    "Change the incorrect names(None , and all name which it first letter is lowercase) in name column to be Nan"
   ]
  },
  {
   "cell_type": "markdown",
   "metadata": {},
   "source": [
    "###### Code :"
   ]
  },
  {
   "cell_type": "code",
   "execution_count": 73,
   "metadata": {},
   "outputs": [],
   "source": [
    "master['name'].replace(('None' , 'such' , 'a' , 'quite' , 'not' , 'one' , 'incredibly' ,'mad' , 'an' ,'very' ,\n",
    "                        'just' , 'my' , 'his' , 'actually' , 'getting' , 'mad' , 'this' , 'unacceptable', 'all' ,\n",
    "                        'old' , 'infuriating' , 'the' , 'by' , 'officially' , 'life' , 'light', 'space' ) ,\n",
    "                       np.nan, inplace = True)\n"
   ]
  },
  {
   "cell_type": "markdown",
   "metadata": {},
   "source": [
    "###### Test : "
   ]
  },
  {
   "cell_type": "code",
   "execution_count": 74,
   "metadata": {},
   "outputs": [
    {
     "data": {
      "text/plain": [
       "Charlie           11\n",
       "Penny             10\n",
       "Oliver            10\n",
       "Lucy              10\n",
       "Cooper            10\n",
       "Tucker            10\n",
       "Bo                 8\n",
       "Winston            8\n",
       "Lola               8\n",
       "Sadie              8\n",
       "Toby               7\n",
       "Daisy              7\n",
       "Stanley            6\n",
       "Bella              6\n",
       "Milo               6\n",
       "Dave               6\n",
       "Jax                6\n",
       "Bailey             6\n",
       "Scout              6\n",
       "Koda               6\n",
       "Rusty              6\n",
       "Buddy              5\n",
       "Louis              5\n",
       "Larry              5\n",
       "Leo                5\n",
       "Alfie              5\n",
       "Oscar              5\n",
       "Chester            5\n",
       "Archie             4\n",
       "Maggie             4\n",
       "George             4\n",
       "Bentley            4\n",
       "Loki               4\n",
       "Gary               4\n",
       "Sophie             4\n",
       "Chip               4\n",
       "Dexter             4\n",
       "Clark              4\n",
       "Phil               4\n",
       "Walter             4\n",
       "Sunny              4\n",
       "Winnie             4\n",
       "Jerry              4\n",
       "Bear               4\n",
       "Ruby               4\n",
       "Reggie             4\n",
       "Finn               4\n",
       "Gus                4\n",
       "Cassie             4\n",
       "Scooter            4\n",
       "Jack               4\n",
       "Clarence           4\n",
       "Oakley             4\n",
       "Brody              4\n",
       "Bruce              4\n",
       "Derek              4\n",
       "Duke               4\n",
       "Gerald             3\n",
       "Wilson             3\n",
       "Mia                3\n",
       "Boomer             3\n",
       "Samson             3\n",
       "Hank               3\n",
       "Colby              3\n",
       "Paisley            3\n",
       "Gizmo              3\n",
       "Otis               3\n",
       "Kyle               3\n",
       "Olive              3\n",
       "Peaches            3\n",
       "Louie              3\n",
       "Waffles            3\n",
       "Moose              3\n",
       "Steven             3\n",
       "Beau               3\n",
       "Reese              3\n",
       "Malcolm            3\n",
       "Rosie              3\n",
       "Shadow             3\n",
       "Zoey               3\n",
       "Wallace            3\n",
       "Zeke               3\n",
       "Maximus            3\n",
       "Jeffrey            3\n",
       "Sebastian          3\n",
       "Max                3\n",
       "Sampson            3\n",
       "Riley              3\n",
       "Ellie              3\n",
       "Lily               3\n",
       "Wyatt              3\n",
       "Frankie            3\n",
       "Nala               3\n",
       "Earl               3\n",
       "Vincent            3\n",
       "Jimothy            3\n",
       "Calvin             3\n",
       "Sammy              3\n",
       "Belle              2\n",
       "Yogi               2\n",
       "Bob                2\n",
       "Chuckles           2\n",
       "Gabe               2\n",
       "Penelope           2\n",
       "Phred              2\n",
       "Roosevelt          2\n",
       "Charles            2\n",
       "Neptune            2\n",
       "Dakota             2\n",
       "Cash               2\n",
       "Butter             2\n",
       "Atlas              2\n",
       "Sugar              2\n",
       "Moe                2\n",
       "Kreg               2\n",
       "Ted                2\n",
       "Harold             2\n",
       "Curtis             2\n",
       "Benedict           2\n",
       "Sam                2\n",
       "Crystal            2\n",
       "Linda              2\n",
       "Oliviér            2\n",
       "Chelsea            2\n",
       "Odie               2\n",
       "Alice              2\n",
       "Kreggory           2\n",
       "Kevin              2\n",
       "Percy              2\n",
       "Flávio             2\n",
       "Coco               2\n",
       "Opal               2\n",
       "Titan              2\n",
       "Misty              2\n",
       "Jesse              2\n",
       "Luca               2\n",
       "Hammond            2\n",
       "Panda              2\n",
       "Sarge              2\n",
       "Coops              2\n",
       "Lilly              2\n",
       "Carl               2\n",
       "Phineas            2\n",
       "Bubbles            2\n",
       "Terry              2\n",
       "Bisquick           2\n",
       "Hercules           2\n",
       "Moreton            2\n",
       "Cali               2\n",
       "Davey              2\n",
       "Romeo              2\n",
       "Reginald           2\n",
       "Keith              2\n",
       "Herm               2\n",
       "Churlie            2\n",
       "Lorenzo            2\n",
       "Klein              2\n",
       "Solomon            2\n",
       "Finley             2\n",
       "Doug               2\n",
       "Lennon             2\n",
       "Smokey             2\n",
       "Jiminy             2\n",
       "Lincoln            2\n",
       "Herald             2\n",
       "Ollie              2\n",
       "Doc                2\n",
       "Mister             2\n",
       "Aspen              2\n",
       "Kilo               2\n",
       "Arnie              2\n",
       "Happy              2\n",
       "Django             2\n",
       "Raymond            2\n",
       "Rufus              2\n",
       "Albus              2\n",
       "Calbert            2\n",
       "Albert             2\n",
       "Fiona              2\n",
       "Tyr                2\n",
       "Klevin             2\n",
       "Brad               2\n",
       "Abby               2\n",
       "Lou                2\n",
       "Bell               2\n",
       "Cupcake            2\n",
       "Dash               2\n",
       "Piper              2\n",
       "Stubert            2\n",
       "Ken                2\n",
       "Betty              2\n",
       "Trooper            2\n",
       "Watson             2\n",
       "Pickles            2\n",
       "Elliot             2\n",
       "Chipson            2\n",
       "Stephan            2\n",
       "Olivia             2\n",
       "Harper             2\n",
       "Maxaroni           2\n",
       "Eli                2\n",
       "Bernie             2\n",
       "Gromit             2\n",
       "Atticus            2\n",
       "Griffin            2\n",
       "Wally              2\n",
       "Juno               2\n",
       "Kenneth            2\n",
       "Pippa              2\n",
       "Sandy              2\n",
       "Baxter             2\n",
       "Hunter             2\n",
       "Kirby              2\n",
       "CeCe               2\n",
       "Rubio              2\n",
       "Benji              2\n",
       "Jackson            2\n",
       "Lenny              2\n",
       "Jeph               2\n",
       "Chet               2\n",
       "Axel               2\n",
       "Jimison            2\n",
       "Remington          2\n",
       "Astrid             2\n",
       "Rocky              2\n",
       "Cody               2\n",
       "Kenny              2\n",
       "Chompsky           2\n",
       "Frank              2\n",
       "Paull              2\n",
       "Sansa              2\n",
       "Thumas             2\n",
       "Theodore           2\n",
       "Rory               2\n",
       "Patrick            2\n",
       "Hobbes             2\n",
       "Rizzy              2\n",
       "Ava                2\n",
       "Franklin           2\n",
       "Indie              2\n",
       "Marley             2\n",
       "Luna               2\n",
       "Nelly              2\n",
       "Ash                2\n",
       "Billy              1\n",
       "Danny              1\n",
       "Richie             1\n",
       "Georgie            1\n",
       "Torque             1\n",
       "Trigger            1\n",
       "Saydee             1\n",
       "Bodie              1\n",
       "Ziva               1\n",
       "Shooter            1\n",
       "Sailer             1\n",
       "Jarvis             1\n",
       "Leonard            1\n",
       "Tuco               1\n",
       "Tedders            1\n",
       "Rambo              1\n",
       "Tove               1\n",
       "Tilly              1\n",
       "Chesney            1\n",
       "Dietrich           1\n",
       "Jerome             1\n",
       "Terrance           1\n",
       "Tyrus              1\n",
       "Pip                1\n",
       "Monkey             1\n",
       "Monster            1\n",
       "Lillie             1\n",
       "Pancake            1\n",
       "Tommy              1\n",
       "Carter             1\n",
       "Willem             1\n",
       "Ben                1\n",
       "Hermione           1\n",
       "Jett               1\n",
       "Henry              1\n",
       "Bungalo            1\n",
       "Mojo               1\n",
       "Craig              1\n",
       "Buddah             1\n",
       "Ridley             1\n",
       "Mutt               1\n",
       "Apollo             1\n",
       "Stefan             1\n",
       "Beebop             1\n",
       "Rolf               1\n",
       "Cilantro           1\n",
       "Ester              1\n",
       "Lucky              1\n",
       "Striker            1\n",
       "Bayley             1\n",
       "Staniel            1\n",
       "Biden              1\n",
       "Chloe              1\n",
       "Deacon             1\n",
       "Brooks             1\n",
       "Lucia              1\n",
       "Pinot              1\n",
       "Grady              1\n",
       "Pubert             1\n",
       "Mary               1\n",
       "Rodman             1\n",
       "Leonidas           1\n",
       "Aqua               1\n",
       "Sully              1\n",
       "Dunkin             1\n",
       "Walker             1\n",
       "Pepper             1\n",
       "Kirk               1\n",
       "Snoopy             1\n",
       "Hall               1\n",
       "Dawn               1\n",
       "Clybe              1\n",
       "Shadoe             1\n",
       "Berb               1\n",
       "Rey                1\n",
       "Tino               1\n",
       "Suki               1\n",
       "Tonks              1\n",
       "Schnitzel          1\n",
       "Blipson            1\n",
       "Jersey             1\n",
       "Perry              1\n",
       "Maisey             1\n",
       "Ralphé             1\n",
       "Bobby              1\n",
       "Miguel             1\n",
       "Michelangelope     1\n",
       "Huck               1\n",
       "Blitz              1\n",
       "Lili               1\n",
       "Lizzie             1\n",
       "Clarq              1\n",
       "Genevieve          1\n",
       "Carper             1\n",
       "Timber             1\n",
       "Devón              1\n",
       "Leela              1\n",
       "Nida               1\n",
       "Ike                1\n",
       "O                  1\n",
       "Bauer              1\n",
       "Chuck              1\n",
       "Sweet              1\n",
       "Frönq              1\n",
       "Jimbo              1\n",
       "Obi                1\n",
       "Ralphus            1\n",
       "Ozzy               1\n",
       "Margo              1\n",
       "Rizzo              1\n",
       "Sage               1\n",
       "Kevon              1\n",
       "Marlee             1\n",
       "Stark              1\n",
       "Jeffri             1\n",
       "Maxwell            1\n",
       "Shnuggles          1\n",
       "Mollie             1\n",
       "Kayla              1\n",
       "Snicku             1\n",
       "Gustaf             1\n",
       "Schnozz            1\n",
       "Stewie             1\n",
       "Acro               1\n",
       "Tug                1\n",
       "Sojourner          1\n",
       "Cecil              1\n",
       "Siba               1\n",
       "Jiminus            1\n",
       "Sierra             1\n",
       "Bloo               1\n",
       "Tyrone             1\n",
       "Mya                1\n",
       "Herschel           1\n",
       "Simba              1\n",
       "Diogi              1\n",
       "Iggy               1\n",
       "Vinnie             1\n",
       "Mingus             1\n",
       "Maya               1\n",
       "Gunner             1\n",
       "Brockly            1\n",
       "Swagger            1\n",
       "Bilbo              1\n",
       "Dotsy              1\n",
       "Andy               1\n",
       "Creg               1\n",
       "Coleman            1\n",
       "Sunshine           1\n",
       "Marty              1\n",
       "Crawford           1\n",
       "Terrenth           1\n",
       "Sid                1\n",
       "Ulysses            1\n",
       "Gidget             1\n",
       "Mairi              1\n",
       "Geno               1\n",
       "Rinna              1\n",
       "Lacy               1\n",
       "Poppy              1\n",
       "Herb               1\n",
       "Howie              1\n",
       "Grizzie            1\n",
       "Shiloh             1\n",
       "Kathmandu          1\n",
       "Philippe           1\n",
       "Shikha             1\n",
       "Sobe               1\n",
       "Chef               1\n",
       "Buckley            1\n",
       "Rueben             1\n",
       "Thor               1\n",
       "Jockson            1\n",
       "Stephanus          1\n",
       "Sephie             1\n",
       "Glacier            1\n",
       "Nimbus             1\n",
       "Ralphie            1\n",
       "Bloop              1\n",
       "Clyde              1\n",
       "Wesley             1\n",
       "Nugget             1\n",
       "Cannon             1\n",
       "Edd                1\n",
       "Dot                1\n",
       "Tobi               1\n",
       "Ginger             1\n",
       "Bones              1\n",
       "Callie             1\n",
       "Fwed               1\n",
       "Stuart             1\n",
       "Caryl              1\n",
       "Noosh              1\n",
       "Joshwa             1\n",
       "Dylan              1\n",
       "Rilo               1\n",
       "Milky              1\n",
       "Jonah              1\n",
       "Chuq               1\n",
       "Kuyu               1\n",
       "Spencer            1\n",
       "Travis             1\n",
       "Pupcasso           1\n",
       "Patch              1\n",
       "Fizz               1\n",
       "Brian              1\n",
       "Emmie              1\n",
       "Cheesy             1\n",
       "Noah               1\n",
       "Lorelei            1\n",
       "Bobbay             1\n",
       "Wafer              1\n",
       "Sprinkles          1\n",
       "Spanky             1\n",
       "Aubie              1\n",
       "Olaf               1\n",
       "Karl               1\n",
       "Snickers           1\n",
       "Ole                1\n",
       "Jeffrie            1\n",
       "Samsom             1\n",
       "Jareld             1\n",
       "Alexander          1\n",
       "Lolo               1\n",
       "Jessifer           1\n",
       "Traviss            1\n",
       "Shaggy             1\n",
       "Darby              1\n",
       "Antony             1\n",
       "Binky              1\n",
       "Blakely            1\n",
       "Opie               1\n",
       "Gòrdón             1\n",
       "Monty              1\n",
       "Grizzwald          1\n",
       "Geoff              1\n",
       "Durg               1\n",
       "Barney             1\n",
       "Keurig             1\n",
       "Lulu               1\n",
       "Kramer             1\n",
       "Pilot              1\n",
       "Grizz              1\n",
       "Edmund             1\n",
       "Obie               1\n",
       "Raphael            1\n",
       "Nigel              1\n",
       "Mattie             1\n",
       "Farfle             1\n",
       "Arnold             1\n",
       "Zooey              1\n",
       "Dudley             1\n",
       "Augie              1\n",
       "Rose               1\n",
       "Cermet             1\n",
       "Billl              1\n",
       "Robin              1\n",
       "Champ              1\n",
       "Jackie             1\n",
       "Strider            1\n",
       "Hamrick            1\n",
       "Maddie             1\n",
       "Duddles            1\n",
       "Tito               1\n",
       "Timofy             1\n",
       "Laika              1\n",
       "Carll              1\n",
       "Jazz               1\n",
       "Loomis             1\n",
       "Hubertson          1\n",
       "Harry              1\n",
       "Mimosa             1\n",
       "Gin                1\n",
       "Aja                1\n",
       "Brudge             1\n",
       "Akumi              1\n",
       "Steve              1\n",
       "Jamesy             1\n",
       "Rooney             1\n",
       "Bookstore          1\n",
       "Lupe               1\n",
       "Pippin             1\n",
       "Jameson            1\n",
       "Scott              1\n",
       "Bertson            1\n",
       "Humphrey           1\n",
       "Miley              1\n",
       "Mookie             1\n",
       "Jaycob             1\n",
       "Corey              1\n",
       "Eriq               1\n",
       "Mack               1\n",
       "Bobb               1\n",
       "Zeus               1\n",
       "Rumpole            1\n",
       "Pumpkin            1\n",
       "Taz                1\n",
       "Millie             1\n",
       "Venti              1\n",
       "Longfellow         1\n",
       "Stella             1\n",
       "Franq              1\n",
       "Brat               1\n",
       "Eazy               1\n",
       "Darrel             1\n",
       "Brandonald         1\n",
       "Socks              1\n",
       "Anakin             1\n",
       "Kota               1\n",
       "Smiley             1\n",
       "Jangle             1\n",
       "Zuzu               1\n",
       "Amber              1\n",
       "Barclay            1\n",
       "Karll              1\n",
       "Freddery           1\n",
       "Timison            1\n",
       "Ron                1\n",
       "Chevy              1\n",
       "Blue               1\n",
       "Bobble             1\n",
       "Mitch              1\n",
       "Mo                 1\n",
       "Kara               1\n",
       "Beya               1\n",
       "Halo               1\n",
       "Fido               1\n",
       "Angel              1\n",
       "Cedrick            1\n",
       "Ralpher            1\n",
       "Kawhi              1\n",
       "Pete               1\n",
       "Fabio              1\n",
       "DayZ               1\n",
       "Dook               1\n",
       "Dale               1\n",
       "Ricky              1\n",
       "Kody               1\n",
       "Jaspers            1\n",
       "Griswold           1\n",
       "Daniel             1\n",
       "Levi               1\n",
       "Ito                1\n",
       "Roscoe             1\n",
       "Tupawc             1\n",
       "Duchess            1\n",
       "Banjo              1\n",
       "Iroh               1\n",
       "Remy               1\n",
       "Pablo              1\n",
       "Theo               1\n",
       "Jessiga            1\n",
       "Malikai            1\n",
       "Florence           1\n",
       "Rufio              1\n",
       "Ebby               1\n",
       "Finnegus           1\n",
       "Shawwn             1\n",
       "Willie             1\n",
       "Mauve              1\n",
       "Bert               1\n",
       "Chubbs             1\n",
       "Vinscent           1\n",
       "Zara               1\n",
       "Aiden              1\n",
       "Dutch              1\n",
       "Jed                1\n",
       "Sonny              1\n",
       "Toffee             1\n",
       "Lassie             1\n",
       "Bradley            1\n",
       "Tango              1\n",
       "Mona               1\n",
       "Goliath            1\n",
       "Strudel            1\n",
       "Kane               1\n",
       "Wiggles            1\n",
       "Burt               1\n",
       "Beckham            1\n",
       "Major              1\n",
       "Nollie             1\n",
       "Amélie             1\n",
       "Gilbert            1\n",
       "Christoper         1\n",
       "Hazel              1\n",
       "Eevee              1\n",
       "Eve                1\n",
       "Butters            1\n",
       "Willow             1\n",
       "Koko               1\n",
       "Yoda               1\n",
       "Rontu              1\n",
       "Sundance           1\n",
       "Meatball           1\n",
       "Spark              1\n",
       "Napolean           1\n",
       "Skittles           1\n",
       "Baloo              1\n",
       "Tanner             1\n",
       "Julio              1\n",
       "Kendall            1\n",
       "Chaz               1\n",
       "Hero               1\n",
       "Pavlov             1\n",
       "Jay                1\n",
       "Jennifur           1\n",
       "Coopson            1\n",
       "Chadrick           1\n",
       "Pluto              1\n",
       "Tessa              1\n",
       "Alf                1\n",
       "Fillup             1\n",
       "Fynn               1\n",
       "Cal                1\n",
       "Kellogg            1\n",
       "Arlen              1\n",
       "Laela              1\n",
       "Beemo              1\n",
       "Oshie              1\n",
       "Peanut             1\n",
       "Tedrick            1\n",
       "Holly              1\n",
       "Bonaparte          1\n",
       "Link               1\n",
       "Cheryl             1\n",
       "Katie              1\n",
       "Kloey              1\n",
       "Ashleigh           1\n",
       "Boots              1\n",
       "Autumn             1\n",
       "Charleson          1\n",
       "Asher              1\n",
       "Bruno              1\n",
       "Juckson            1\n",
       "Donny              1\n",
       "Harrison           1\n",
       "Tripp              1\n",
       "Nico               1\n",
       "Reptar             1\n",
       "Dixie              1\n",
       "Carbon             1\n",
       "Kaiya              1\n",
       "Gert               1\n",
       "Gustav             1\n",
       "Brandy             1\n",
       "Carly              1\n",
       "Brutus             1\n",
       "Crouton            1\n",
       "Bowie              1\n",
       "Sailor             1\n",
       "Bode               1\n",
       "Crimson            1\n",
       "Comet              1\n",
       "Bubba              1\n",
       "Heinrich           1\n",
       "Winifred           1\n",
       "Crumpet            1\n",
       "Livvie             1\n",
       "Harnold            1\n",
       "Lance              1\n",
       "Timmy              1\n",
       "BeBe               1\n",
       "Al                 1\n",
       "Vince              1\n",
       "Rhino              1\n",
       "Harlso             1\n",
       "Jazzy              1\n",
       "Grey               1\n",
       "Brady              1\n",
       "Meera              1\n",
       "Eugene             1\n",
       "Jarod              1\n",
       "Baron              1\n",
       "Lenox              1\n",
       "Einstein           1\n",
       "Molly              1\n",
       "Andru              1\n",
       "Benny              1\n",
       "Kingsley           1\n",
       "Shakespeare        1\n",
       "William            1\n",
       "Tater              1\n",
       "Quinn              1\n",
       "Superpup           1\n",
       "Tayzie             1\n",
       "Dewey              1\n",
       "Tess               1\n",
       "Skye               1\n",
       "Rodney             1\n",
       "Anna               1\n",
       "Rocco              1\n",
       "Jebberson          1\n",
       "Amy                1\n",
       "Mac                1\n",
       "Emanuel            1\n",
       "Pipsy              1\n",
       "Anthony            1\n",
       "JD                 1\n",
       "Enchilada          1\n",
       "Alexanderson       1\n",
       "Fiji               1\n",
       "Dobby              1\n",
       "Sparky             1\n",
       "Hurley             1\n",
       "Maks               1\n",
       "Kanu               1\n",
       "Ronnie             1\n",
       "Ed                 1\n",
       "Orion              1\n",
       "Sora               1\n",
       "Pawnd              1\n",
       "Evy                1\n",
       "Glenn              1\n",
       "Stormy             1\n",
       "Mabel              1\n",
       "Harvey             1\n",
       "Bradlay            1\n",
       "Scruffers          1\n",
       "Godi               1\n",
       "Fred               1\n",
       "Randall            1\n",
       "Stu                1\n",
       "Lilli              1\n",
       "Jordy              1\n",
       "Blu                1\n",
       "Charl              1\n",
       "Cleopatricia       1\n",
       "Jo                 1\n",
       "Bronte             1\n",
       "Moofasa            1\n",
       "Sprout             1\n",
       "Dex                1\n",
       "Lilah              1\n",
       "Batdog             1\n",
       "Jomathan           1\n",
       "Dwight             1\n",
       "Alejandro          1\n",
       "Adele              1\n",
       "Eleanor            1\n",
       "Kyro               1\n",
       "Marvin             1\n",
       "Cupid              1\n",
       "Karma              1\n",
       "Vixen              1\n",
       "Goose              1\n",
       "Luther             1\n",
       "Damon              1\n",
       "General            1\n",
       "Flurpson           1\n",
       "Snoop              1\n",
       "Logan              1\n",
       "Brandi             1\n",
       "Ralph              1\n",
       "Tebow              1\n",
       "Liam               1\n",
       "Murphy             1\n",
       "Clifford           1\n",
       "Maude              1\n",
       "Dug                1\n",
       "Jeremy             1\n",
       "Mosby              1\n",
       "Boston             1\n",
       "Berkeley           1\n",
       "Newt               1\n",
       "Furzey             1\n",
       "Dido               1\n",
       "Filup              1\n",
       "Joey               1\n",
       "Erik               1\n",
       "Dallas             1\n",
       "Kaia               1\n",
       "Storkson           1\n",
       "Philbert           1\n",
       "Tom                1\n",
       "Hanz               1\n",
       "Blanket            1\n",
       "Reagan             1\n",
       "Emma               1\n",
       "Meyer              1\n",
       "Clarkus            1\n",
       "Arya               1\n",
       "Zeek               1\n",
       "Trip               1\n",
       "Ronduh             1\n",
       "Godzilla           1\n",
       "Claude             1\n",
       "Derby              1\n",
       "Ace                1\n",
       "Shelby             1\n",
       "Tuck               1\n",
       "Mason              1\n",
       "Fletcher           1\n",
       "Naphaniel          1\n",
       "Chesterson         1\n",
       "Tiger              1\n",
       "Kollin             1\n",
       "Jeb                1\n",
       "Ambrose            1\n",
       "Kobe               1\n",
       "Edgar              1\n",
       "Canela             1\n",
       "Rorie              1\n",
       "Todo               1\n",
       "Covach             1\n",
       "Marq               1\n",
       "Kial               1\n",
       "Bruiser            1\n",
       "Rover              1\n",
       "Dante              1\n",
       "Mark               1\n",
       "Lambeau            1\n",
       "Bluebert           1\n",
       "DonDon             1\n",
       "Lipton             1\n",
       "Puff               1\n",
       "Chase              1\n",
       "Remus              1\n",
       "Cora               1\n",
       "Kulet              1\n",
       "Banditt            1\n",
       "Horace             1\n",
       "Mike               1\n",
       "Cuddles            1\n",
       "Rupert             1\n",
       "Aldrick            1\n",
       "Brownie            1\n",
       "Huxley             1\n",
       "Sandra             1\n",
       "Kenzie             1\n",
       "Birf               1\n",
       "Colin              1\n",
       "Alfy               1\n",
       "Ruffles            1\n",
       "Kallie             1\n",
       "Keet               1\n",
       "Ivar               1\n",
       "Oreo               1\n",
       "Arlo               1\n",
       "Ozzie              1\n",
       "Ralphson           1\n",
       "Severus            1\n",
       "Josep              1\n",
       "River              1\n",
       "Zoe                1\n",
       "Lugan              1\n",
       "Emmy               1\n",
       "Divine             1\n",
       "Tassy              1\n",
       "Jim                1\n",
       "Odin               1\n",
       "Willy              1\n",
       "Julius             1\n",
       "Rumble             1\n",
       "Doobert            1\n",
       "Taco               1\n",
       "Sky                1\n",
       "Hector             1\n",
       "Kona               1\n",
       "Layla              1\n",
       "Darla              1\n",
       "Flash              1\n",
       "Tycho              1\n",
       "Wishes             1\n",
       "Gordon             1\n",
       "Norman             1\n",
       "Trevith            1\n",
       "Gerbald            1\n",
       "Petrick            1\n",
       "Ralf               1\n",
       "Name: name, dtype: int64"
      ]
     },
     "execution_count": 74,
     "metadata": {},
     "output_type": "execute_result"
    }
   ],
   "source": [
    "master['name'].value_counts(sort=True)"
   ]
  },
  {
   "cell_type": "code",
   "execution_count": 75,
   "metadata": {},
   "outputs": [
    {
     "data": {
      "text/plain": [
       "677"
      ]
     },
     "execution_count": 75,
     "metadata": {},
     "output_type": "execute_result"
    }
   ],
   "source": [
    "master['name'].isnull().sum()"
   ]
  },
  {
   "cell_type": "code",
   "execution_count": 76,
   "metadata": {},
   "outputs": [
    {
     "data": {
      "text/html": [
       "<div>\n",
       "<style scoped>\n",
       "    .dataframe tbody tr th:only-of-type {\n",
       "        vertical-align: middle;\n",
       "    }\n",
       "\n",
       "    .dataframe tbody tr th {\n",
       "        vertical-align: top;\n",
       "    }\n",
       "\n",
       "    .dataframe thead th {\n",
       "        text-align: right;\n",
       "    }\n",
       "</style>\n",
       "<table border=\"1\" class=\"dataframe\">\n",
       "  <thead>\n",
       "    <tr style=\"text-align: right;\">\n",
       "      <th></th>\n",
       "      <th>rating_numerator</th>\n",
       "      <th>rating_denominator</th>\n",
       "      <th>p1_conf</th>\n",
       "      <th>p2_conf</th>\n",
       "      <th>p3_conf</th>\n",
       "      <th>favorites</th>\n",
       "      <th>retweets</th>\n",
       "    </tr>\n",
       "  </thead>\n",
       "  <tbody>\n",
       "    <tr>\n",
       "      <th>count</th>\n",
       "      <td>2073.000000</td>\n",
       "      <td>2073.000000</td>\n",
       "      <td>2073.000000</td>\n",
       "      <td>2.073000e+03</td>\n",
       "      <td>2.073000e+03</td>\n",
       "      <td>2073.000000</td>\n",
       "      <td>2073.000000</td>\n",
       "    </tr>\n",
       "    <tr>\n",
       "      <th>mean</th>\n",
       "      <td>12.265798</td>\n",
       "      <td>10.511819</td>\n",
       "      <td>0.594532</td>\n",
       "      <td>1.346665e-01</td>\n",
       "      <td>6.034005e-02</td>\n",
       "      <td>8556.718283</td>\n",
       "      <td>2976.089243</td>\n",
       "    </tr>\n",
       "    <tr>\n",
       "      <th>std</th>\n",
       "      <td>40.699924</td>\n",
       "      <td>7.180517</td>\n",
       "      <td>0.271234</td>\n",
       "      <td>1.006830e-01</td>\n",
       "      <td>5.092769e-02</td>\n",
       "      <td>12098.640994</td>\n",
       "      <td>5054.897526</td>\n",
       "    </tr>\n",
       "    <tr>\n",
       "      <th>min</th>\n",
       "      <td>0.000000</td>\n",
       "      <td>2.000000</td>\n",
       "      <td>0.044333</td>\n",
       "      <td>1.011300e-08</td>\n",
       "      <td>1.740170e-10</td>\n",
       "      <td>0.000000</td>\n",
       "      <td>16.000000</td>\n",
       "    </tr>\n",
       "    <tr>\n",
       "      <th>25%</th>\n",
       "      <td>10.000000</td>\n",
       "      <td>10.000000</td>\n",
       "      <td>0.364095</td>\n",
       "      <td>5.390140e-02</td>\n",
       "      <td>1.619920e-02</td>\n",
       "      <td>1674.000000</td>\n",
       "      <td>634.000000</td>\n",
       "    </tr>\n",
       "    <tr>\n",
       "      <th>50%</th>\n",
       "      <td>11.000000</td>\n",
       "      <td>10.000000</td>\n",
       "      <td>0.588230</td>\n",
       "      <td>1.186220e-01</td>\n",
       "      <td>4.947150e-02</td>\n",
       "      <td>3864.000000</td>\n",
       "      <td>1408.000000</td>\n",
       "    </tr>\n",
       "    <tr>\n",
       "      <th>75%</th>\n",
       "      <td>12.000000</td>\n",
       "      <td>10.000000</td>\n",
       "      <td>0.843911</td>\n",
       "      <td>1.955730e-01</td>\n",
       "      <td>9.193000e-02</td>\n",
       "      <td>10937.000000</td>\n",
       "      <td>3443.000000</td>\n",
       "    </tr>\n",
       "    <tr>\n",
       "      <th>max</th>\n",
       "      <td>1776.000000</td>\n",
       "      <td>170.000000</td>\n",
       "      <td>1.000000</td>\n",
       "      <td>4.880140e-01</td>\n",
       "      <td>2.734190e-01</td>\n",
       "      <td>132810.000000</td>\n",
       "      <td>79515.000000</td>\n",
       "    </tr>\n",
       "  </tbody>\n",
       "</table>\n",
       "</div>"
      ],
      "text/plain": [
       "       rating_numerator  rating_denominator      p1_conf       p2_conf  \\\n",
       "count       2073.000000         2073.000000  2073.000000  2.073000e+03   \n",
       "mean          12.265798           10.511819     0.594532  1.346665e-01   \n",
       "std           40.699924            7.180517     0.271234  1.006830e-01   \n",
       "min            0.000000            2.000000     0.044333  1.011300e-08   \n",
       "25%           10.000000           10.000000     0.364095  5.390140e-02   \n",
       "50%           11.000000           10.000000     0.588230  1.186220e-01   \n",
       "75%           12.000000           10.000000     0.843911  1.955730e-01   \n",
       "max         1776.000000          170.000000     1.000000  4.880140e-01   \n",
       "\n",
       "            p3_conf      favorites      retweets  \n",
       "count  2.073000e+03    2073.000000   2073.000000  \n",
       "mean   6.034005e-02    8556.718283   2976.089243  \n",
       "std    5.092769e-02   12098.640994   5054.897526  \n",
       "min    1.740170e-10       0.000000     16.000000  \n",
       "25%    1.619920e-02    1674.000000    634.000000  \n",
       "50%    4.947150e-02    3864.000000   1408.000000  \n",
       "75%    9.193000e-02   10937.000000   3443.000000  \n",
       "max    2.734190e-01  132810.000000  79515.000000  "
      ]
     },
     "execution_count": 76,
     "metadata": {},
     "output_type": "execute_result"
    }
   ],
   "source": [
    "master.describe()"
   ]
  },
  {
   "cell_type": "markdown",
   "metadata": {},
   "source": [
    "##### Quality Issue #7\n",
    "###### Define :\n",
    "Drop rows that contain rating denominator values that not equal to 10."
   ]
  },
  {
   "cell_type": "markdown",
   "metadata": {},
   "source": [
    "###### Code :"
   ]
  },
  {
   "cell_type": "code",
   "execution_count": 77,
   "metadata": {},
   "outputs": [
    {
     "data": {
      "text/html": [
       "<div>\n",
       "<style scoped>\n",
       "    .dataframe tbody tr th:only-of-type {\n",
       "        vertical-align: middle;\n",
       "    }\n",
       "\n",
       "    .dataframe tbody tr th {\n",
       "        vertical-align: top;\n",
       "    }\n",
       "\n",
       "    .dataframe thead th {\n",
       "        text-align: right;\n",
       "    }\n",
       "</style>\n",
       "<table border=\"1\" class=\"dataframe\">\n",
       "  <thead>\n",
       "    <tr style=\"text-align: right;\">\n",
       "      <th></th>\n",
       "      <th>tweet_id</th>\n",
       "      <th>timestamp</th>\n",
       "      <th>source</th>\n",
       "      <th>text</th>\n",
       "      <th>expanded_urls</th>\n",
       "      <th>rating_numerator</th>\n",
       "      <th>rating_denominator</th>\n",
       "      <th>name</th>\n",
       "      <th>doggo</th>\n",
       "      <th>floofer</th>\n",
       "      <th>pupper</th>\n",
       "      <th>puppo</th>\n",
       "      <th>jpg_url</th>\n",
       "      <th>img_num</th>\n",
       "      <th>p1</th>\n",
       "      <th>p1_conf</th>\n",
       "      <th>p1_dog</th>\n",
       "      <th>p2</th>\n",
       "      <th>p2_conf</th>\n",
       "      <th>p2_dog</th>\n",
       "      <th>p3</th>\n",
       "      <th>p3_conf</th>\n",
       "      <th>p3_dog</th>\n",
       "      <th>favorites</th>\n",
       "      <th>retweets</th>\n",
       "      <th>dog_stage</th>\n",
       "    </tr>\n",
       "  </thead>\n",
       "  <tbody>\n",
       "    <tr>\n",
       "      <th>345</th>\n",
       "      <td>820690176645140481</td>\n",
       "      <td>2017-01-15 17:52:40+00:00</td>\n",
       "      <td>&lt;a href=\"http://twitter.com/download/iphone\" r...</td>\n",
       "      <td>The floofs have been released I repeat the flo...</td>\n",
       "      <td>https://twitter.com/dog_rates/status/820690176...</td>\n",
       "      <td>84.0</td>\n",
       "      <td>70.0</td>\n",
       "      <td>NaN</td>\n",
       "      <td>NaN</td>\n",
       "      <td>NaN</td>\n",
       "      <td>NaN</td>\n",
       "      <td>NaN</td>\n",
       "      <td>https://pbs.twimg.com/media/C2OtWr0VQAEnS9r.jpg</td>\n",
       "      <td>2</td>\n",
       "      <td>West_Highland_white_terrier</td>\n",
       "      <td>0.872064</td>\n",
       "      <td>True</td>\n",
       "      <td>kuvasz</td>\n",
       "      <td>0.059526</td>\n",
       "      <td>True</td>\n",
       "      <td>Samoyed</td>\n",
       "      <td>0.037400</td>\n",
       "      <td>True</td>\n",
       "      <td>13518</td>\n",
       "      <td>3716</td>\n",
       "      <td></td>\n",
       "    </tr>\n",
       "    <tr>\n",
       "      <th>415</th>\n",
       "      <td>810984652412424192</td>\n",
       "      <td>2016-12-19 23:06:23+00:00</td>\n",
       "      <td>&lt;a href=\"http://twitter.com/download/iphone\" r...</td>\n",
       "      <td>Meet Sam. She smiles 24/7 &amp;amp; secretly aspir...</td>\n",
       "      <td>https://www.gofundme.com/sams-smile,https://tw...</td>\n",
       "      <td>24.0</td>\n",
       "      <td>7.0</td>\n",
       "      <td>Sam</td>\n",
       "      <td>NaN</td>\n",
       "      <td>NaN</td>\n",
       "      <td>NaN</td>\n",
       "      <td>NaN</td>\n",
       "      <td>https://pbs.twimg.com/media/C0EyPZbXAAAceSc.jpg</td>\n",
       "      <td>1</td>\n",
       "      <td>golden_retriever</td>\n",
       "      <td>0.871342</td>\n",
       "      <td>True</td>\n",
       "      <td>Tibetan_mastiff</td>\n",
       "      <td>0.036708</td>\n",
       "      <td>True</td>\n",
       "      <td>Labrador_retriever</td>\n",
       "      <td>0.025823</td>\n",
       "      <td>True</td>\n",
       "      <td>5927</td>\n",
       "      <td>1655</td>\n",
       "      <td></td>\n",
       "    </tr>\n",
       "    <tr>\n",
       "      <th>734</th>\n",
       "      <td>758467244762497024</td>\n",
       "      <td>2016-07-28 01:00:57+00:00</td>\n",
       "      <td>&lt;a href=\"http://twitter.com/download/iphone\" r...</td>\n",
       "      <td>Why does this never happen at my front door......</td>\n",
       "      <td>https://twitter.com/dog_rates/status/758467244...</td>\n",
       "      <td>165.0</td>\n",
       "      <td>150.0</td>\n",
       "      <td>NaN</td>\n",
       "      <td>NaN</td>\n",
       "      <td>NaN</td>\n",
       "      <td>NaN</td>\n",
       "      <td>NaN</td>\n",
       "      <td>https://pbs.twimg.com/ext_tw_video_thumb/75846...</td>\n",
       "      <td>1</td>\n",
       "      <td>Labrador_retriever</td>\n",
       "      <td>0.436377</td>\n",
       "      <td>True</td>\n",
       "      <td>Chihuahua</td>\n",
       "      <td>0.113956</td>\n",
       "      <td>True</td>\n",
       "      <td>American_Staffordshire_terrier</td>\n",
       "      <td>0.099689</td>\n",
       "      <td>True</td>\n",
       "      <td>5316</td>\n",
       "      <td>2539</td>\n",
       "      <td></td>\n",
       "    </tr>\n",
       "    <tr>\n",
       "      <th>876</th>\n",
       "      <td>740373189193256964</td>\n",
       "      <td>2016-06-08 02:41:38+00:00</td>\n",
       "      <td>&lt;a href=\"http://twitter.com/download/iphone\" r...</td>\n",
       "      <td>After so many requests, this is Bretagne. She ...</td>\n",
       "      <td>https://twitter.com/dog_rates/status/740373189...</td>\n",
       "      <td>9.0</td>\n",
       "      <td>11.0</td>\n",
       "      <td>NaN</td>\n",
       "      <td>NaN</td>\n",
       "      <td>NaN</td>\n",
       "      <td>NaN</td>\n",
       "      <td>NaN</td>\n",
       "      <td>https://pbs.twimg.com/media/CkZVdJ6WYAAXZ5A.jpg</td>\n",
       "      <td>3</td>\n",
       "      <td>golden_retriever</td>\n",
       "      <td>0.807644</td>\n",
       "      <td>True</td>\n",
       "      <td>kuvasz</td>\n",
       "      <td>0.101286</td>\n",
       "      <td>True</td>\n",
       "      <td>Labrador_retriever</td>\n",
       "      <td>0.023785</td>\n",
       "      <td>True</td>\n",
       "      <td>20648</td>\n",
       "      <td>9220</td>\n",
       "      <td></td>\n",
       "    </tr>\n",
       "    <tr>\n",
       "      <th>924</th>\n",
       "      <td>731156023742988288</td>\n",
       "      <td>2016-05-13 16:15:54+00:00</td>\n",
       "      <td>&lt;a href=\"http://twitter.com/download/iphone\" r...</td>\n",
       "      <td>Say hello to this unbelievably well behaved sq...</td>\n",
       "      <td>https://twitter.com/dog_rates/status/731156023...</td>\n",
       "      <td>204.0</td>\n",
       "      <td>170.0</td>\n",
       "      <td>NaN</td>\n",
       "      <td>NaN</td>\n",
       "      <td>NaN</td>\n",
       "      <td>NaN</td>\n",
       "      <td>NaN</td>\n",
       "      <td>https://pbs.twimg.com/media/CiWWhVNUYAAab_r.jpg</td>\n",
       "      <td>1</td>\n",
       "      <td>lakeside</td>\n",
       "      <td>0.501767</td>\n",
       "      <td>False</td>\n",
       "      <td>breakwater</td>\n",
       "      <td>0.051351</td>\n",
       "      <td>False</td>\n",
       "      <td>king_penguin</td>\n",
       "      <td>0.049444</td>\n",
       "      <td>False</td>\n",
       "      <td>4196</td>\n",
       "      <td>1434</td>\n",
       "      <td></td>\n",
       "    </tr>\n",
       "  </tbody>\n",
       "</table>\n",
       "</div>"
      ],
      "text/plain": [
       "               tweet_id                 timestamp  \\\n",
       "345  820690176645140481 2017-01-15 17:52:40+00:00   \n",
       "415  810984652412424192 2016-12-19 23:06:23+00:00   \n",
       "734  758467244762497024 2016-07-28 01:00:57+00:00   \n",
       "876  740373189193256964 2016-06-08 02:41:38+00:00   \n",
       "924  731156023742988288 2016-05-13 16:15:54+00:00   \n",
       "\n",
       "                                                source  \\\n",
       "345  <a href=\"http://twitter.com/download/iphone\" r...   \n",
       "415  <a href=\"http://twitter.com/download/iphone\" r...   \n",
       "734  <a href=\"http://twitter.com/download/iphone\" r...   \n",
       "876  <a href=\"http://twitter.com/download/iphone\" r...   \n",
       "924  <a href=\"http://twitter.com/download/iphone\" r...   \n",
       "\n",
       "                                                  text  \\\n",
       "345  The floofs have been released I repeat the flo...   \n",
       "415  Meet Sam. She smiles 24/7 &amp; secretly aspir...   \n",
       "734  Why does this never happen at my front door......   \n",
       "876  After so many requests, this is Bretagne. She ...   \n",
       "924  Say hello to this unbelievably well behaved sq...   \n",
       "\n",
       "                                         expanded_urls  rating_numerator  \\\n",
       "345  https://twitter.com/dog_rates/status/820690176...              84.0   \n",
       "415  https://www.gofundme.com/sams-smile,https://tw...              24.0   \n",
       "734  https://twitter.com/dog_rates/status/758467244...             165.0   \n",
       "876  https://twitter.com/dog_rates/status/740373189...               9.0   \n",
       "924  https://twitter.com/dog_rates/status/731156023...             204.0   \n",
       "\n",
       "     rating_denominator name doggo floofer pupper puppo  \\\n",
       "345                70.0  NaN   NaN     NaN    NaN   NaN   \n",
       "415                 7.0  Sam   NaN     NaN    NaN   NaN   \n",
       "734               150.0  NaN   NaN     NaN    NaN   NaN   \n",
       "876                11.0  NaN   NaN     NaN    NaN   NaN   \n",
       "924               170.0  NaN   NaN     NaN    NaN   NaN   \n",
       "\n",
       "                                               jpg_url img_num  \\\n",
       "345    https://pbs.twimg.com/media/C2OtWr0VQAEnS9r.jpg       2   \n",
       "415    https://pbs.twimg.com/media/C0EyPZbXAAAceSc.jpg       1   \n",
       "734  https://pbs.twimg.com/ext_tw_video_thumb/75846...       1   \n",
       "876    https://pbs.twimg.com/media/CkZVdJ6WYAAXZ5A.jpg       3   \n",
       "924    https://pbs.twimg.com/media/CiWWhVNUYAAab_r.jpg       1   \n",
       "\n",
       "                              p1   p1_conf  p1_dog               p2   p2_conf  \\\n",
       "345  West_Highland_white_terrier  0.872064    True           kuvasz  0.059526   \n",
       "415             golden_retriever  0.871342    True  Tibetan_mastiff  0.036708   \n",
       "734           Labrador_retriever  0.436377    True        Chihuahua  0.113956   \n",
       "876             golden_retriever  0.807644    True           kuvasz  0.101286   \n",
       "924                     lakeside  0.501767   False       breakwater  0.051351   \n",
       "\n",
       "     p2_dog                              p3   p3_conf  p3_dog  favorites  \\\n",
       "345    True                         Samoyed  0.037400    True      13518   \n",
       "415    True              Labrador_retriever  0.025823    True       5927   \n",
       "734    True  American_Staffordshire_terrier  0.099689    True       5316   \n",
       "876    True              Labrador_retriever  0.023785    True      20648   \n",
       "924   False                    king_penguin  0.049444   False       4196   \n",
       "\n",
       "     retweets dog_stage  \n",
       "345      3716            \n",
       "415      1655            \n",
       "734      2539            \n",
       "876      9220            \n",
       "924      1434            "
      ]
     },
     "execution_count": 77,
     "metadata": {},
     "output_type": "execute_result"
    }
   ],
   "source": [
    "incorrect_values = master.query(\"rating_denominator != 10  \")\n",
    "incorrect_values.head()"
   ]
  },
  {
   "cell_type": "code",
   "execution_count": 78,
   "metadata": {
    "scrolled": true
   },
   "outputs": [
    {
     "data": {
      "text/plain": [
       "Int64Index([ 345,  415,  734,  876,  924,  967, 1001, 1022, 1047, 1065, 1131,\n",
       "            1207, 1379, 1380, 1405, 1512, 1571, 2052],\n",
       "           dtype='int64')"
      ]
     },
     "execution_count": 78,
     "metadata": {},
     "output_type": "execute_result"
    }
   ],
   "source": [
    "incorrect_values.index"
   ]
  },
  {
   "cell_type": "code",
   "execution_count": 79,
   "metadata": {},
   "outputs": [],
   "source": [
    "master.drop([ 345,  415,  734,  876,  924,  967, 1001, 1022, 1047, 1065, 1131,\n",
    "            1207, 1379, 1380, 1405, 1512, 1571, 2052] , axis= 0 , inplace=True)"
   ]
  },
  {
   "cell_type": "markdown",
   "metadata": {},
   "source": [
    "###### Test :"
   ]
  },
  {
   "cell_type": "code",
   "execution_count": 80,
   "metadata": {},
   "outputs": [
    {
     "data": {
      "text/html": [
       "<div>\n",
       "<style scoped>\n",
       "    .dataframe tbody tr th:only-of-type {\n",
       "        vertical-align: middle;\n",
       "    }\n",
       "\n",
       "    .dataframe tbody tr th {\n",
       "        vertical-align: top;\n",
       "    }\n",
       "\n",
       "    .dataframe thead th {\n",
       "        text-align: right;\n",
       "    }\n",
       "</style>\n",
       "<table border=\"1\" class=\"dataframe\">\n",
       "  <thead>\n",
       "    <tr style=\"text-align: right;\">\n",
       "      <th></th>\n",
       "      <th>tweet_id</th>\n",
       "      <th>timestamp</th>\n",
       "      <th>source</th>\n",
       "      <th>text</th>\n",
       "      <th>expanded_urls</th>\n",
       "      <th>rating_numerator</th>\n",
       "      <th>rating_denominator</th>\n",
       "      <th>name</th>\n",
       "      <th>doggo</th>\n",
       "      <th>floofer</th>\n",
       "      <th>pupper</th>\n",
       "      <th>puppo</th>\n",
       "      <th>jpg_url</th>\n",
       "      <th>img_num</th>\n",
       "      <th>p1</th>\n",
       "      <th>p1_conf</th>\n",
       "      <th>p1_dog</th>\n",
       "      <th>p2</th>\n",
       "      <th>p2_conf</th>\n",
       "      <th>p2_dog</th>\n",
       "      <th>p3</th>\n",
       "      <th>p3_conf</th>\n",
       "      <th>p3_dog</th>\n",
       "      <th>favorites</th>\n",
       "      <th>retweets</th>\n",
       "      <th>dog_stage</th>\n",
       "    </tr>\n",
       "  </thead>\n",
       "  <tbody>\n",
       "  </tbody>\n",
       "</table>\n",
       "</div>"
      ],
      "text/plain": [
       "Empty DataFrame\n",
       "Columns: [tweet_id, timestamp, source, text, expanded_urls, rating_numerator, rating_denominator, name, doggo, floofer, pupper, puppo, jpg_url, img_num, p1, p1_conf, p1_dog, p2, p2_conf, p2_dog, p3, p3_conf, p3_dog, favorites, retweets, dog_stage]\n",
       "Index: []"
      ]
     },
     "execution_count": 80,
     "metadata": {},
     "output_type": "execute_result"
    }
   ],
   "source": [
    "master.query(\"rating_denominator != 10\")"
   ]
  },
  {
   "cell_type": "markdown",
   "metadata": {},
   "source": [
    "#### Store Clean Dataframe as CSV File"
   ]
  },
  {
   "cell_type": "code",
   "execution_count": 81,
   "metadata": {},
   "outputs": [],
   "source": [
    "master.to_csv('twitter_archive_master.csv', encoding='utf-8' , index=False)"
   ]
  },
  {
   "cell_type": "markdown",
   "metadata": {},
   "source": [
    "## Analyze The Data & Insights"
   ]
  },
  {
   "cell_type": "code",
   "execution_count": 82,
   "metadata": {
    "scrolled": true
   },
   "outputs": [
    {
     "data": {
      "text/html": [
       "<div>\n",
       "<style scoped>\n",
       "    .dataframe tbody tr th:only-of-type {\n",
       "        vertical-align: middle;\n",
       "    }\n",
       "\n",
       "    .dataframe tbody tr th {\n",
       "        vertical-align: top;\n",
       "    }\n",
       "\n",
       "    .dataframe thead th {\n",
       "        text-align: right;\n",
       "    }\n",
       "</style>\n",
       "<table border=\"1\" class=\"dataframe\">\n",
       "  <thead>\n",
       "    <tr style=\"text-align: right;\">\n",
       "      <th></th>\n",
       "      <th>rating_numerator</th>\n",
       "      <th>rating_denominator</th>\n",
       "      <th>p1_conf</th>\n",
       "      <th>p2_conf</th>\n",
       "      <th>p3_conf</th>\n",
       "      <th>favorites</th>\n",
       "      <th>retweets</th>\n",
       "    </tr>\n",
       "  </thead>\n",
       "  <tbody>\n",
       "    <tr>\n",
       "      <th>count</th>\n",
       "      <td>2055.000000</td>\n",
       "      <td>2055.0</td>\n",
       "      <td>2055.000000</td>\n",
       "      <td>2.055000e+03</td>\n",
       "      <td>2.055000e+03</td>\n",
       "      <td>2055.000000</td>\n",
       "      <td>2055.000000</td>\n",
       "    </tr>\n",
       "    <tr>\n",
       "      <th>mean</th>\n",
       "      <td>11.705596</td>\n",
       "      <td>10.0</td>\n",
       "      <td>0.594253</td>\n",
       "      <td>1.349953e-01</td>\n",
       "      <td>6.028451e-02</td>\n",
       "      <td>8578.100243</td>\n",
       "      <td>2980.346472</td>\n",
       "    </tr>\n",
       "    <tr>\n",
       "      <th>std</th>\n",
       "      <td>40.058908</td>\n",
       "      <td>0.0</td>\n",
       "      <td>0.271356</td>\n",
       "      <td>1.007979e-01</td>\n",
       "      <td>5.081368e-02</td>\n",
       "      <td>12132.959055</td>\n",
       "      <td>5065.327011</td>\n",
       "    </tr>\n",
       "    <tr>\n",
       "      <th>min</th>\n",
       "      <td>0.000000</td>\n",
       "      <td>10.0</td>\n",
       "      <td>0.044333</td>\n",
       "      <td>1.011300e-08</td>\n",
       "      <td>1.740170e-10</td>\n",
       "      <td>0.000000</td>\n",
       "      <td>16.000000</td>\n",
       "    </tr>\n",
       "    <tr>\n",
       "      <th>25%</th>\n",
       "      <td>10.000000</td>\n",
       "      <td>10.0</td>\n",
       "      <td>0.363272</td>\n",
       "      <td>5.409535e-02</td>\n",
       "      <td>1.608055e-02</td>\n",
       "      <td>1663.000000</td>\n",
       "      <td>633.000000</td>\n",
       "    </tr>\n",
       "    <tr>\n",
       "      <th>50%</th>\n",
       "      <td>11.000000</td>\n",
       "      <td>10.0</td>\n",
       "      <td>0.587830</td>\n",
       "      <td>1.192430e-01</td>\n",
       "      <td>4.948690e-02</td>\n",
       "      <td>3865.000000</td>\n",
       "      <td>1407.000000</td>\n",
       "    </tr>\n",
       "    <tr>\n",
       "      <th>75%</th>\n",
       "      <td>12.000000</td>\n",
       "      <td>10.0</td>\n",
       "      <td>0.843799</td>\n",
       "      <td>1.963605e-01</td>\n",
       "      <td>9.203645e-02</td>\n",
       "      <td>10957.000000</td>\n",
       "      <td>3449.500000</td>\n",
       "    </tr>\n",
       "    <tr>\n",
       "      <th>max</th>\n",
       "      <td>1776.000000</td>\n",
       "      <td>10.0</td>\n",
       "      <td>1.000000</td>\n",
       "      <td>4.880140e-01</td>\n",
       "      <td>2.710420e-01</td>\n",
       "      <td>132810.000000</td>\n",
       "      <td>79515.000000</td>\n",
       "    </tr>\n",
       "  </tbody>\n",
       "</table>\n",
       "</div>"
      ],
      "text/plain": [
       "       rating_numerator  rating_denominator      p1_conf       p2_conf  \\\n",
       "count       2055.000000              2055.0  2055.000000  2.055000e+03   \n",
       "mean          11.705596                10.0     0.594253  1.349953e-01   \n",
       "std           40.058908                 0.0     0.271356  1.007979e-01   \n",
       "min            0.000000                10.0     0.044333  1.011300e-08   \n",
       "25%           10.000000                10.0     0.363272  5.409535e-02   \n",
       "50%           11.000000                10.0     0.587830  1.192430e-01   \n",
       "75%           12.000000                10.0     0.843799  1.963605e-01   \n",
       "max         1776.000000                10.0     1.000000  4.880140e-01   \n",
       "\n",
       "            p3_conf      favorites      retweets  \n",
       "count  2.055000e+03    2055.000000   2055.000000  \n",
       "mean   6.028451e-02    8578.100243   2980.346472  \n",
       "std    5.081368e-02   12132.959055   5065.327011  \n",
       "min    1.740170e-10       0.000000     16.000000  \n",
       "25%    1.608055e-02    1663.000000    633.000000  \n",
       "50%    4.948690e-02    3865.000000   1407.000000  \n",
       "75%    9.203645e-02   10957.000000   3449.500000  \n",
       "max    2.710420e-01  132810.000000  79515.000000  "
      ]
     },
     "execution_count": 82,
     "metadata": {},
     "output_type": "execute_result"
    }
   ],
   "source": [
    "master.describe()"
   ]
  },
  {
   "cell_type": "code",
   "execution_count": 83,
   "metadata": {},
   "outputs": [
    {
     "data": {
      "text/html": [
       "<div>\n",
       "<style scoped>\n",
       "    .dataframe tbody tr th:only-of-type {\n",
       "        vertical-align: middle;\n",
       "    }\n",
       "\n",
       "    .dataframe tbody tr th {\n",
       "        vertical-align: top;\n",
       "    }\n",
       "\n",
       "    .dataframe thead th {\n",
       "        text-align: right;\n",
       "    }\n",
       "</style>\n",
       "<table border=\"1\" class=\"dataframe\">\n",
       "  <thead>\n",
       "    <tr style=\"text-align: right;\">\n",
       "      <th></th>\n",
       "      <th>rating_numerator</th>\n",
       "      <th>rating_denominator</th>\n",
       "      <th>p1_conf</th>\n",
       "      <th>p1_dog</th>\n",
       "      <th>p2_conf</th>\n",
       "      <th>p2_dog</th>\n",
       "      <th>p3_conf</th>\n",
       "      <th>p3_dog</th>\n",
       "      <th>favorites</th>\n",
       "      <th>retweets</th>\n",
       "    </tr>\n",
       "  </thead>\n",
       "  <tbody>\n",
       "    <tr>\n",
       "      <th>rating_numerator</th>\n",
       "      <td>1.000000</td>\n",
       "      <td>NaN</td>\n",
       "      <td>-0.009033</td>\n",
       "      <td>-0.028746</td>\n",
       "      <td>-0.013583</td>\n",
       "      <td>-0.033609</td>\n",
       "      <td>-0.004584</td>\n",
       "      <td>-0.029860</td>\n",
       "      <td>0.015664</td>\n",
       "      <td>0.017646</td>\n",
       "    </tr>\n",
       "    <tr>\n",
       "      <th>rating_denominator</th>\n",
       "      <td>NaN</td>\n",
       "      <td>NaN</td>\n",
       "      <td>NaN</td>\n",
       "      <td>NaN</td>\n",
       "      <td>NaN</td>\n",
       "      <td>NaN</td>\n",
       "      <td>NaN</td>\n",
       "      <td>NaN</td>\n",
       "      <td>NaN</td>\n",
       "      <td>NaN</td>\n",
       "    </tr>\n",
       "    <tr>\n",
       "      <th>p1_conf</th>\n",
       "      <td>-0.009033</td>\n",
       "      <td>NaN</td>\n",
       "      <td>1.000000</td>\n",
       "      <td>0.117643</td>\n",
       "      <td>-0.511405</td>\n",
       "      <td>0.132154</td>\n",
       "      <td>-0.710721</td>\n",
       "      <td>0.108325</td>\n",
       "      <td>0.077032</td>\n",
       "      <td>0.046017</td>\n",
       "    </tr>\n",
       "    <tr>\n",
       "      <th>p1_dog</th>\n",
       "      <td>-0.028746</td>\n",
       "      <td>NaN</td>\n",
       "      <td>0.117643</td>\n",
       "      <td>1.000000</td>\n",
       "      <td>0.113013</td>\n",
       "      <td>0.633675</td>\n",
       "      <td>0.049679</td>\n",
       "      <td>0.555300</td>\n",
       "      <td>0.058219</td>\n",
       "      <td>0.008518</td>\n",
       "    </tr>\n",
       "    <tr>\n",
       "      <th>p2_conf</th>\n",
       "      <td>-0.013583</td>\n",
       "      <td>NaN</td>\n",
       "      <td>-0.511405</td>\n",
       "      <td>0.113013</td>\n",
       "      <td>1.000000</td>\n",
       "      <td>0.100892</td>\n",
       "      <td>0.477326</td>\n",
       "      <td>0.068507</td>\n",
       "      <td>-0.023909</td>\n",
       "      <td>-0.009505</td>\n",
       "    </tr>\n",
       "    <tr>\n",
       "      <th>p2_dog</th>\n",
       "      <td>-0.033609</td>\n",
       "      <td>NaN</td>\n",
       "      <td>0.132154</td>\n",
       "      <td>0.633675</td>\n",
       "      <td>0.100892</td>\n",
       "      <td>1.000000</td>\n",
       "      <td>0.041626</td>\n",
       "      <td>0.551123</td>\n",
       "      <td>0.060511</td>\n",
       "      <td>0.017017</td>\n",
       "    </tr>\n",
       "    <tr>\n",
       "      <th>p3_conf</th>\n",
       "      <td>-0.004584</td>\n",
       "      <td>NaN</td>\n",
       "      <td>-0.710721</td>\n",
       "      <td>0.049679</td>\n",
       "      <td>0.477326</td>\n",
       "      <td>0.041626</td>\n",
       "      <td>1.000000</td>\n",
       "      <td>0.043503</td>\n",
       "      <td>-0.054360</td>\n",
       "      <td>-0.036963</td>\n",
       "    </tr>\n",
       "    <tr>\n",
       "      <th>p3_dog</th>\n",
       "      <td>-0.029860</td>\n",
       "      <td>NaN</td>\n",
       "      <td>0.108325</td>\n",
       "      <td>0.555300</td>\n",
       "      <td>0.068507</td>\n",
       "      <td>0.551123</td>\n",
       "      <td>0.043503</td>\n",
       "      <td>1.000000</td>\n",
       "      <td>0.046040</td>\n",
       "      <td>0.008651</td>\n",
       "    </tr>\n",
       "    <tr>\n",
       "      <th>favorites</th>\n",
       "      <td>0.015664</td>\n",
       "      <td>NaN</td>\n",
       "      <td>0.077032</td>\n",
       "      <td>0.058219</td>\n",
       "      <td>-0.023909</td>\n",
       "      <td>0.060511</td>\n",
       "      <td>-0.054360</td>\n",
       "      <td>0.046040</td>\n",
       "      <td>1.000000</td>\n",
       "      <td>0.789940</td>\n",
       "    </tr>\n",
       "    <tr>\n",
       "      <th>retweets</th>\n",
       "      <td>0.017646</td>\n",
       "      <td>NaN</td>\n",
       "      <td>0.046017</td>\n",
       "      <td>0.008518</td>\n",
       "      <td>-0.009505</td>\n",
       "      <td>0.017017</td>\n",
       "      <td>-0.036963</td>\n",
       "      <td>0.008651</td>\n",
       "      <td>0.789940</td>\n",
       "      <td>1.000000</td>\n",
       "    </tr>\n",
       "  </tbody>\n",
       "</table>\n",
       "</div>"
      ],
      "text/plain": [
       "                    rating_numerator  rating_denominator   p1_conf    p1_dog  \\\n",
       "rating_numerator            1.000000                 NaN -0.009033 -0.028746   \n",
       "rating_denominator               NaN                 NaN       NaN       NaN   \n",
       "p1_conf                    -0.009033                 NaN  1.000000  0.117643   \n",
       "p1_dog                     -0.028746                 NaN  0.117643  1.000000   \n",
       "p2_conf                    -0.013583                 NaN -0.511405  0.113013   \n",
       "p2_dog                     -0.033609                 NaN  0.132154  0.633675   \n",
       "p3_conf                    -0.004584                 NaN -0.710721  0.049679   \n",
       "p3_dog                     -0.029860                 NaN  0.108325  0.555300   \n",
       "favorites                   0.015664                 NaN  0.077032  0.058219   \n",
       "retweets                    0.017646                 NaN  0.046017  0.008518   \n",
       "\n",
       "                     p2_conf    p2_dog   p3_conf    p3_dog  favorites  \\\n",
       "rating_numerator   -0.013583 -0.033609 -0.004584 -0.029860   0.015664   \n",
       "rating_denominator       NaN       NaN       NaN       NaN        NaN   \n",
       "p1_conf            -0.511405  0.132154 -0.710721  0.108325   0.077032   \n",
       "p1_dog              0.113013  0.633675  0.049679  0.555300   0.058219   \n",
       "p2_conf             1.000000  0.100892  0.477326  0.068507  -0.023909   \n",
       "p2_dog              0.100892  1.000000  0.041626  0.551123   0.060511   \n",
       "p3_conf             0.477326  0.041626  1.000000  0.043503  -0.054360   \n",
       "p3_dog              0.068507  0.551123  0.043503  1.000000   0.046040   \n",
       "favorites          -0.023909  0.060511 -0.054360  0.046040   1.000000   \n",
       "retweets           -0.009505  0.017017 -0.036963  0.008651   0.789940   \n",
       "\n",
       "                    retweets  \n",
       "rating_numerator    0.017646  \n",
       "rating_denominator       NaN  \n",
       "p1_conf             0.046017  \n",
       "p1_dog              0.008518  \n",
       "p2_conf            -0.009505  \n",
       "p2_dog              0.017017  \n",
       "p3_conf            -0.036963  \n",
       "p3_dog              0.008651  \n",
       "favorites           0.789940  \n",
       "retweets            1.000000  "
      ]
     },
     "execution_count": 83,
     "metadata": {},
     "output_type": "execute_result"
    }
   ],
   "source": [
    "master.corr()"
   ]
  },
  {
   "cell_type": "markdown",
   "metadata": {},
   "source": [
    "#### Insight #1\n",
    "We can see that 39% of the rating_numerator are above the avarage , and there are not relationship between number or retweets or number of favorites with the rating "
   ]
  },
  {
   "cell_type": "code",
   "execution_count": 84,
   "metadata": {},
   "outputs": [
    {
     "data": {
      "text/plain": [
       "11.70559610705596"
      ]
     },
     "execution_count": 84,
     "metadata": {},
     "output_type": "execute_result"
    }
   ],
   "source": [
    "rating_numerator_mean = master[\"rating_numerator\"].mean()\n",
    "rating_numerator_mean"
   ]
  },
  {
   "cell_type": "code",
   "execution_count": 85,
   "metadata": {},
   "outputs": [
    {
     "data": {
      "text/plain": [
       "39.02676399026764"
      ]
     },
     "execution_count": 85,
     "metadata": {},
     "output_type": "execute_result"
    }
   ],
   "source": [
    "rating_numerator_query = master[master['rating_numerator'] > rating_numerator_mean]\n",
    "rating_numerator_above_avarage =(rating_numerator_query['tweet_id'].count() /master['tweet_id'].count() * 100)\n",
    "rating_numerator_above_avarage"
   ]
  },
  {
   "cell_type": "code",
   "execution_count": 86,
   "metadata": {},
   "outputs": [],
   "source": [
    "rating = master['rating_numerator']/master['rating_denominator']"
   ]
  },
  {
   "cell_type": "code",
   "execution_count": 87,
   "metadata": {},
   "outputs": [
    {
     "data": {
      "text/plain": [
       "0.01764576960282421"
      ]
     },
     "execution_count": 87,
     "metadata": {},
     "output_type": "execute_result"
    }
   ],
   "source": [
    " master['retweets'].corr(rating)"
   ]
  },
  {
   "cell_type": "code",
   "execution_count": 88,
   "metadata": {},
   "outputs": [
    {
     "data": {
      "text/plain": [
       "0.015663516175089237"
      ]
     },
     "execution_count": 88,
     "metadata": {},
     "output_type": "execute_result"
    }
   ],
   "source": [
    " master['favorites'].corr(rating)"
   ]
  },
  {
   "cell_type": "markdown",
   "metadata": {},
   "source": [
    "#### Insight #2\n",
    "There is a positive relationship between the number of retweets and the number of favorites"
   ]
  },
  {
   "cell_type": "code",
   "execution_count": 89,
   "metadata": {},
   "outputs": [
    {
     "data": {
      "text/plain": [
       "0.789940471197129"
      ]
     },
     "execution_count": 89,
     "metadata": {},
     "output_type": "execute_result"
    }
   ],
   "source": [
    "correlation = master['retweets'].corr(master['favorites'])\n",
    "correlation"
   ]
  },
  {
   "cell_type": "code",
   "execution_count": 90,
   "metadata": {},
   "outputs": [
    {
     "data": {
      "image/png": "[encoded data removed]",
      "text/plain": [
       "<Figure size 432x288 with 1 Axes>"
      ]
     },
     "metadata": {
      "needs_background": "light"
     },
     "output_type": "display_data"
    }
   ],
   "source": [
    "tf_plot = plt.scatter(master['retweets'], master['favorites'], color=['purple'] ,alpha=0.6, s=8)\n",
    "plt.title('Relationship Between retweets and favorites')\n",
    "plt.xlabel('Number of retweets')\n",
    "plt.ylabel('Number of favorites')\n",
    "plt.show()\n",
    "fig_size = plt.rcParams[\"figure.figsize\"]\n",
    "fig_size[0] = 12\n",
    "fig_size[1] = 6\n",
    "plt.rcParams[\"figure.figsize\"] = fig_size\n"
   ]
  },
  {
   "cell_type": "markdown",
   "metadata": {},
   "source": [
    "#### Insight #3\n",
    "The most common stage in these data frame are pupper , then doggo after that puppo and last comman stage is floofe"
   ]
  },
  {
   "cell_type": "code",
   "execution_count": 91,
   "metadata": {},
   "outputs": [
    {
     "data": {
      "text/plain": [
       "                 1735\n",
       "pupper            210\n",
       "doggo              67\n",
       "puppo              23\n",
       "doggo,pupper       11\n",
       "floofer             7\n",
       "doggo,puppo         1\n",
       "doggo,floofer       1\n",
       "Name: dog_stage, dtype: int64"
      ]
     },
     "execution_count": 91,
     "metadata": {},
     "output_type": "execute_result"
    }
   ],
   "source": [
    "dogs_stage = master['dog_stage'].value_counts()\n",
    "dogs_stage"
   ]
  },
  {
   "cell_type": "code",
   "execution_count": 92,
   "metadata": {},
   "outputs": [
    {
     "data": {
      "image/png": "[encoded data removed]",
      "text/plain": [
       "<Figure size 576x360 with 1 Axes>"
      ]
     },
     "metadata": {
      "needs_background": "light"
     },
     "output_type": "display_data"
    }
   ],
   "source": [
    "dogs_stage.plot(kind='bar' , color=['purple', 'blue', 'green', 'Orange'],\n",
    "                   grid = True, figsize=(8,5) , alpha=0.6 , rot=45) ;\n",
    "plt.title('Number of Each Dog Stage') ; \n",
    "plt.xlabel(\"Dog Describe\") ;\n",
    "plt.ylabel(\"Counts\") ;\n",
    "positions = (0, 1 , 2,3 , 4 , 5, 6 , 7 , 8);\n",
    "labels = ( \"Nan\",\"pupper\", \"doggo\" , \"puppo\" , \"doggo,pupper\",\"floofer\" , \"doggo,puppo \" , \"doggo,floofer\");\n",
    "plt.xticks(positions, labels) ;\n",
    "plt.savefig('insight_3')"
   ]
  },
  {
   "cell_type": "markdown",
   "metadata": {},
   "source": [
    "#### Insight #4\n",
    "The most common dogs names"
   ]
  },
  {
   "cell_type": "code",
   "execution_count": 93,
   "metadata": {},
   "outputs": [
    {
     "data": {
      "text/plain": [
       "Charlie    11\n",
       "Tucker     10\n",
       "Penny      10\n",
       "Oliver     10\n",
       "Lucy       10\n",
       "Cooper     10\n",
       "Winston     8\n",
       "Lola        8\n",
       "Bo          8\n",
       "Sadie       8\n",
       "Name: name, dtype: int64"
      ]
     },
     "execution_count": 93,
     "metadata": {},
     "output_type": "execute_result"
    }
   ],
   "source": [
    "top_10_name = master['name'].value_counts()\n",
    "top_10_name[:10]"
   ]
  },
  {
   "cell_type": "markdown",
   "metadata": {},
   "source": [
    "#### Insight #5\n",
    "Here are the top 10 dog type for each prediction that correctly predicted."
   ]
  },
  {
   "cell_type": "code",
   "execution_count": 94,
   "metadata": {},
   "outputs": [],
   "source": [
    "p1_true = master.query(\"p1_dog == True\")"
   ]
  },
  {
   "cell_type": "code",
   "execution_count": 95,
   "metadata": {},
   "outputs": [
    {
     "data": {
      "text/plain": [
       "golden_retriever      146\n",
       "Labrador_retriever     97\n",
       "Pembroke               88\n",
       "Chihuahua              83\n",
       "pug                    57\n",
       "chow                   44\n",
       "Samoyed                43\n",
       "toy_poodle             39\n",
       "Pomeranian             38\n",
       "cocker_spaniel         30\n",
       "Name: p1, dtype: int64"
      ]
     },
     "execution_count": 95,
     "metadata": {},
     "output_type": "execute_result"
    }
   ],
   "source": [
    "p1_top = p1_true['p1'].value_counts()\n",
    "p1_top[:10]"
   ]
  },
  {
   "cell_type": "code",
   "execution_count": 96,
   "metadata": {},
   "outputs": [],
   "source": [
    "p2_true = master.query(\"p2_dog == True\")"
   ]
  },
  {
   "cell_type": "code",
   "execution_count": 97,
   "metadata": {
    "scrolled": true
   },
   "outputs": [
    {
     "data": {
      "text/plain": [
       "Labrador_retriever          104\n",
       "golden_retriever             90\n",
       "Cardigan                     73\n",
       "Pomeranian                   42\n",
       "Chihuahua                    42\n",
       "French_bulldog               41\n",
       "Chesapeake_Bay_retriever     41\n",
       "toy_poodle                   36\n",
       "miniature_poodle             33\n",
       "Siberian_husky               33\n",
       "Name: p2, dtype: int64"
      ]
     },
     "execution_count": 97,
     "metadata": {},
     "output_type": "execute_result"
    }
   ],
   "source": [
    "p2_top =p2_true['p2'].value_counts()\n",
    "p2_top[:10]"
   ]
  },
  {
   "cell_type": "code",
   "execution_count": 98,
   "metadata": {},
   "outputs": [],
   "source": [
    "p3_true = master.query(\"p3_dog == True\")"
   ]
  },
  {
   "cell_type": "code",
   "execution_count": 99,
   "metadata": {
    "scrolled": true
   },
   "outputs": [
    {
     "data": {
      "text/plain": [
       "Labrador_retriever           77\n",
       "Chihuahua                    58\n",
       "golden_retriever             47\n",
       "Eskimo_dog                   37\n",
       "kelpie                       35\n",
       "kuvasz                       34\n",
       "Staffordshire_bullterrier    32\n",
       "chow                         31\n",
       "cocker_spaniel               31\n",
       "beagle                       30\n",
       "Name: p3, dtype: int64"
      ]
     },
     "execution_count": 99,
     "metadata": {},
     "output_type": "execute_result"
    }
   ],
   "source": [
    "p3_top = p3_true['p3'].value_counts()\n",
    "p3_top[:10]"
   ]
  },
  {
   "cell_type": "code",
   "execution_count": 100,
   "metadata": {},
   "outputs": [
    {
     "data": {
      "text/plain": [
       "golden_retriever                  283.0\n",
       "Labrador_retriever                278.0\n",
       "Chihuahua                         183.0\n",
       "Pembroke                          142.0\n",
       "Cardigan                          115.0\n",
       "Pomeranian                        109.0\n",
       "toy_poodle                        104.0\n",
       "pug                                96.0\n",
       "chow                               95.0\n",
       "French_bulldog                     93.0\n",
       "cocker_spaniel                     93.0\n",
       "Chesapeake_Bay_retriever           91.0\n",
       "Eskimo_dog                         82.0\n",
       "beagle                             76.0\n",
       "kuvasz                             73.0\n",
       "Siberian_husky                     71.0\n",
       "Staffordshire_bullterrier          70.0\n",
       "Samoyed                            68.0\n",
       "malamute                           68.0\n",
       "Pekinese                           63.0\n",
       "kelpie                             62.0\n",
       "miniature_pinscher                 57.0\n",
       "American_Staffordshire_terrier     57.0\n",
       "Great_Pyrenees                     53.0\n",
       "miniature_poodle                   53.0\n",
       "collie                             51.0\n",
       "German_shepherd                    49.0\n",
       "Italian_greyhound                  49.0\n",
       "Shetland_sheepdog                  48.0\n",
       "Boston_bull                        45.0\n",
       "dtype: float64"
      ]
     },
     "execution_count": 100,
     "metadata": {},
     "output_type": "execute_result"
    }
   ],
   "source": [
    "top_true = p1_top + p2_top + p3_top\n",
    "top_30 = top_true.sort_values(ascending=False)[:30]\n",
    "top_30"
   ]
  },
  {
   "cell_type": "code",
   "execution_count": 101,
   "metadata": {},
   "outputs": [
    {
     "data": {
      "image/png": "[encoded data removed]",
      "text/plain": [
       "<Figure size 1440x360 with 1 Axes>"
      ]
     },
     "metadata": {
      "needs_background": "light"
     },
     "output_type": "display_data"
    }
   ],
   "source": [
    "top_30.plot(kind='bar' , color = ['purple', 'blue', 'green', 'Orange'] ,grid = True, figsize=(20,5) ,\n",
    "                   alpha=0.6 , rot=90) ;\n",
    "plt.title('Top 30 most correct dog type predict') ; \n",
    "plt.xlabel(\"Dog type\") ;\n",
    "plt.ylabel(\"Counts\") ;\n",
    "plt.savefig('insight_5')"
   ]
  },
  {
   "cell_type": "code",
   "execution_count": 102,
   "metadata": {},
   "outputs": [
    {
     "data": {
      "text/plain": [
       "standard_schnauzer             3.0\n",
       "komondor                       6.0\n",
       "Japanese_spaniel               6.0\n",
       "wire-haired_fox_terrier        8.0\n",
       "EntleBucher                    8.0\n",
       "briard                         9.0\n",
       "Sussex_spaniel                 9.0\n",
       "giant_schnauzer               10.0\n",
       "silky_terrier                 11.0\n",
       "miniature_schnauzer           11.0\n",
       "Australian_terrier            12.0\n",
       "cairn                         12.0\n",
       "Mexican_hairless              12.0\n",
       "Walker_hound                  13.0\n",
       "Leonberg                      13.0\n",
       "Greater_Swiss_Mountain_dog    13.0\n",
       "Afghan_hound                  13.0\n",
       "Dandie_Dinmont                13.0\n",
       "Bernese_mountain_dog          13.0\n",
       "curly-coated_retriever        14.0\n",
       "Norwich_terrier               15.0\n",
       "groenendael                   16.0\n",
       "Appenzeller                   16.0\n",
       "bluetick                      16.0\n",
       "Blenheim_spaniel              17.0\n",
       "Ibizan_hound                  17.0\n",
       "Border_terrier                17.0\n",
       "black-and-tan_coonhound       18.0\n",
       "Weimaraner                    19.0\n",
       "Yorkshire_terrier             20.0\n",
       "dtype: float64"
      ]
     },
     "execution_count": 102,
     "metadata": {},
     "output_type": "execute_result"
    }
   ],
   "source": [
    "last_30 = top_true.sort_values(ascending=True)[:30]\n",
    "last_30"
   ]
  },
  {
   "cell_type": "code",
   "execution_count": 103,
   "metadata": {},
   "outputs": [
    {
     "data": {
      "image/png": "[encoded data removed]",
      "text/plain": [
       "<Figure size 1440x360 with 1 Axes>"
      ]
     },
     "metadata": {
      "needs_background": "light"
     },
     "output_type": "display_data"
    }
   ],
   "source": [
    "last_30.plot(kind='bar' , color =['purple', 'blue', 'green', 'Orange'] ,grid = True, figsize=(20,5) ,\n",
    "                   alpha=0.6 , rot=90) ;\n",
    "plt.title('last 30 most correct dog type predict') ; \n",
    "plt.xlabel(\"Dog type\") ;\n",
    "plt.ylabel(\"Counts\") ;"
   ]
  },
  {
   "cell_type": "markdown",
   "metadata": {},
   "source": [
    "#### Insight #6\n",
    "The percentage of false prediction for all predictions = 15.66%"
   ]
  },
  {
   "cell_type": "code",
   "execution_count": 104,
   "metadata": {},
   "outputs": [],
   "source": [
    "false_prediction = master.query(\"p1_dog == False and p2_dog == False and p3_dog == False\")"
   ]
  },
  {
   "cell_type": "code",
   "execution_count": 105,
   "metadata": {},
   "outputs": [
    {
     "data": {
      "text/plain": [
       "15.669099756690997"
      ]
     },
     "execution_count": 105,
     "metadata": {},
     "output_type": "execute_result"
    }
   ],
   "source": [
    "false_prediction_per = (false_prediction['tweet_id'].count() / master['tweet_id'].count()) *100\n",
    "false_prediction_per"
   ]
  },
  {
   "cell_type": "code",
   "execution_count": 106,
   "metadata": {},
   "outputs": [
    {
     "data": {
      "text/html": [
       "<div>\n",
       "<style scoped>\n",
       "    .dataframe tbody tr th:only-of-type {\n",
       "        vertical-align: middle;\n",
       "    }\n",
       "\n",
       "    .dataframe tbody tr th {\n",
       "        vertical-align: top;\n",
       "    }\n",
       "\n",
       "    .dataframe thead th {\n",
       "        text-align: right;\n",
       "    }\n",
       "</style>\n",
       "<table border=\"1\" class=\"dataframe\">\n",
       "  <thead>\n",
       "    <tr style=\"text-align: right;\">\n",
       "      <th></th>\n",
       "      <th>tweet_id</th>\n",
       "      <th>timestamp</th>\n",
       "      <th>source</th>\n",
       "      <th>text</th>\n",
       "      <th>expanded_urls</th>\n",
       "      <th>rating_numerator</th>\n",
       "      <th>rating_denominator</th>\n",
       "      <th>name</th>\n",
       "      <th>doggo</th>\n",
       "      <th>floofer</th>\n",
       "      <th>pupper</th>\n",
       "      <th>puppo</th>\n",
       "      <th>jpg_url</th>\n",
       "      <th>img_num</th>\n",
       "      <th>p1</th>\n",
       "      <th>p1_conf</th>\n",
       "      <th>p1_dog</th>\n",
       "      <th>p2</th>\n",
       "      <th>p2_conf</th>\n",
       "      <th>p2_dog</th>\n",
       "      <th>p3</th>\n",
       "      <th>p3_conf</th>\n",
       "      <th>p3_dog</th>\n",
       "      <th>favorites</th>\n",
       "      <th>retweets</th>\n",
       "      <th>dog_stage</th>\n",
       "    </tr>\n",
       "  </thead>\n",
       "  <tbody>\n",
       "    <tr>\n",
       "      <th>1873</th>\n",
       "      <td>669661792646373376</td>\n",
       "      <td>2015-11-25 23:39:47+00:00</td>\n",
       "      <td>&lt;a href=\"http://twitter.com/download/iphone\" r...</td>\n",
       "      <td>This is a brave dog. Excellent free climber. T...</td>\n",
       "      <td>https://twitter.com/dog_rates/status/669661792...</td>\n",
       "      <td>5.0</td>\n",
       "      <td>10.0</td>\n",
       "      <td>NaN</td>\n",
       "      <td>NaN</td>\n",
       "      <td>NaN</td>\n",
       "      <td>NaN</td>\n",
       "      <td>NaN</td>\n",
       "      <td>https://pbs.twimg.com/media/CUsd2TfWwAAmdjb.jpg</td>\n",
       "      <td>1</td>\n",
       "      <td>weasel</td>\n",
       "      <td>0.262802</td>\n",
       "      <td>False</td>\n",
       "      <td>Siamese_cat</td>\n",
       "      <td>0.148263</td>\n",
       "      <td>False</td>\n",
       "      <td>hamster</td>\n",
       "      <td>0.116374</td>\n",
       "      <td>False</td>\n",
       "      <td>860</td>\n",
       "      <td>482</td>\n",
       "      <td></td>\n",
       "    </tr>\n",
       "    <tr>\n",
       "      <th>255</th>\n",
       "      <td>834167344700198914</td>\n",
       "      <td>2017-02-21 22:26:07+00:00</td>\n",
       "      <td>&lt;a href=\"http://twitter.com/download/iphone\" r...</td>\n",
       "      <td>This is Sunshine. She doesn't believe in perso...</td>\n",
       "      <td>https://twitter.com/dog_rates/status/834167344...</td>\n",
       "      <td>11.0</td>\n",
       "      <td>10.0</td>\n",
       "      <td>Sunshine</td>\n",
       "      <td>NaN</td>\n",
       "      <td>NaN</td>\n",
       "      <td>NaN</td>\n",
       "      <td>NaN</td>\n",
       "      <td>https://pbs.twimg.com/media/C5OOxY6WAAAxERz.jpg</td>\n",
       "      <td>1</td>\n",
       "      <td>ox</td>\n",
       "      <td>0.991682</td>\n",
       "      <td>False</td>\n",
       "      <td>bison</td>\n",
       "      <td>0.005335</td>\n",
       "      <td>False</td>\n",
       "      <td>water_buffalo</td>\n",
       "      <td>0.001130</td>\n",
       "      <td>False</td>\n",
       "      <td>17194</td>\n",
       "      <td>4130</td>\n",
       "      <td></td>\n",
       "    </tr>\n",
       "  </tbody>\n",
       "</table>\n",
       "</div>"
      ],
      "text/plain": [
       "                tweet_id                 timestamp  \\\n",
       "1873  669661792646373376 2015-11-25 23:39:47+00:00   \n",
       "255   834167344700198914 2017-02-21 22:26:07+00:00   \n",
       "\n",
       "                                                 source  \\\n",
       "1873  <a href=\"http://twitter.com/download/iphone\" r...   \n",
       "255   <a href=\"http://twitter.com/download/iphone\" r...   \n",
       "\n",
       "                                                   text  \\\n",
       "1873  This is a brave dog. Excellent free climber. T...   \n",
       "255   This is Sunshine. She doesn't believe in perso...   \n",
       "\n",
       "                                          expanded_urls  rating_numerator  \\\n",
       "1873  https://twitter.com/dog_rates/status/669661792...               5.0   \n",
       "255   https://twitter.com/dog_rates/status/834167344...              11.0   \n",
       "\n",
       "      rating_denominator      name doggo floofer pupper puppo  \\\n",
       "1873                10.0       NaN   NaN     NaN    NaN   NaN   \n",
       "255                 10.0  Sunshine   NaN     NaN    NaN   NaN   \n",
       "\n",
       "                                              jpg_url img_num      p1  \\\n",
       "1873  https://pbs.twimg.com/media/CUsd2TfWwAAmdjb.jpg       1  weasel   \n",
       "255   https://pbs.twimg.com/media/C5OOxY6WAAAxERz.jpg       1      ox   \n",
       "\n",
       "       p1_conf  p1_dog           p2   p2_conf  p2_dog             p3  \\\n",
       "1873  0.262802   False  Siamese_cat  0.148263   False        hamster   \n",
       "255   0.991682   False        bison  0.005335   False  water_buffalo   \n",
       "\n",
       "       p3_conf  p3_dog  favorites  retweets dog_stage  \n",
       "1873  0.116374   False        860       482            \n",
       "255   0.001130   False      17194      4130            "
      ]
     },
     "execution_count": 106,
     "metadata": {},
     "output_type": "execute_result"
    }
   ],
   "source": [
    "false_prediction.sample(2)"
   ]
  },
  {
   "cell_type": "markdown",
   "metadata": {},
   "source": [
    "#### Insight #7\n",
    "The percentage of true prediction for :\n",
    "p1 = 73.77%\n",
    "p2 = 74.74%\n",
    "p3 = 72.16%\n",
    "So, we can say the most accurate predictions is the p2."
   ]
  },
  {
   "cell_type": "code",
   "execution_count": 107,
   "metadata": {},
   "outputs": [
    {
     "data": {
      "text/plain": [
       "73.77128953771289"
      ]
     },
     "execution_count": 107,
     "metadata": {},
     "output_type": "execute_result"
    }
   ],
   "source": [
    "p1_value = master['p1_dog'].value_counts()\n",
    "p1_true = (p1_value[True] / master['p1_dog'].count()) * 100\n",
    "p1_true"
   ]
  },
  {
   "cell_type": "code",
   "execution_count": 108,
   "metadata": {},
   "outputs": [],
   "source": [
    "p1_group = master.groupby(['p1_dog'])['p1'].count()"
   ]
  },
  {
   "cell_type": "code",
   "execution_count": 109,
   "metadata": {},
   "outputs": [
    {
     "data": {
      "image/png": "[encoded data removed]",
      "text/plain": [
       "<Figure size 432x360 with 1 Axes>"
      ]
     },
     "metadata": {
      "needs_background": "light"
     },
     "output_type": "display_data"
    }
   ],
   "source": [
    "p1_number = p1_group.plot.bar(color=['purple', 'blue' ] , \n",
    "             grid = True, figsize = (6,5), alpha = 0.6 , rot=0)\n",
    "plt.title(\"First prediction True vs. False \");\n",
    "plt.xlabel(\"Counts \") ;\n",
    "plt.ylabel(\"First prediction\") ;\n",
    "plt.savefig('insight_7_1')"
   ]
  },
  {
   "cell_type": "code",
   "execution_count": 110,
   "metadata": {},
   "outputs": [
    {
     "data": {
      "text/plain": [
       "74.74452554744525"
      ]
     },
     "execution_count": 110,
     "metadata": {},
     "output_type": "execute_result"
    }
   ],
   "source": [
    "p2_value = master['p2_dog'].value_counts()\n",
    "p2_true = (p2_value[True] / master['p2_dog'].count()) * 100\n",
    "p2_true"
   ]
  },
  {
   "cell_type": "code",
   "execution_count": 111,
   "metadata": {},
   "outputs": [],
   "source": [
    "p2_group = master.groupby(['p2_dog'])['p2'].count()"
   ]
  },
  {
   "cell_type": "code",
   "execution_count": 112,
   "metadata": {},
   "outputs": [
    {
     "data": {
      "image/png": "[encoded data removed]",
      "text/plain": [
       "<Figure size 432x360 with 1 Axes>"
      ]
     },
     "metadata": {
      "needs_background": "light"
     },
     "output_type": "display_data"
    }
   ],
   "source": [
    "p2_number = p2_group.plot.bar(color=['purple', 'blue'] , \n",
    "             grid = True, figsize = (6,5), alpha = 0.6 , rot=0)\n",
    "plt.title(\"Second prediction True vs. False \");\n",
    "plt.xlabel(\"Counts \") ;\n",
    "plt.ylabel(\"Second prediction\") ;\n",
    "plt.savefig('insight_7_2')"
   ]
  },
  {
   "cell_type": "code",
   "execution_count": 113,
   "metadata": {},
   "outputs": [
    {
     "data": {
      "text/plain": [
       "72.1654501216545"
      ]
     },
     "execution_count": 113,
     "metadata": {},
     "output_type": "execute_result"
    }
   ],
   "source": [
    "p3_value = master['p3_dog'].value_counts()\n",
    "p3_true = (p3_value[True] / master['p3_dog'].count()) * 100\n",
    "p3_true"
   ]
  },
  {
   "cell_type": "code",
   "execution_count": 114,
   "metadata": {},
   "outputs": [],
   "source": [
    "p3_group = master.groupby(['p3_dog'])['p3'].count()"
   ]
  },
  {
   "cell_type": "code",
   "execution_count": 115,
   "metadata": {},
   "outputs": [
    {
     "data": {
      "image/png": "[encoded data removed]",
      "text/plain": [
       "<Figure size 432x360 with 1 Axes>"
      ]
     },
     "metadata": {
      "needs_background": "light"
     },
     "output_type": "display_data"
    }
   ],
   "source": [
    "p3_number = p3_group.plot.bar(color=['purple', 'blue'] , \n",
    "             grid = True, figsize = (6,5), alpha = 0.6 , rot=0)\n",
    "plt.title(\"Third prediction True vs. False \");\n",
    "plt.xlabel(\"Counts \") ;\n",
    "plt.ylabel(\"Third prediction\") ;\n",
    "plt.savefig('insight_7_3')"
   ]
  },
  {
   "cell_type": "code",
   "execution_count": 116,
   "metadata": {},
   "outputs": [
    {
     "data": {
      "text/plain": [
       "0"
      ]
     },
     "execution_count": 116,
     "metadata": {},
     "output_type": "execute_result"
    }
   ],
   "source": [
    "from subprocess import call\n",
    "call(['python', '-m', 'nbconvert', 'wrangle_act.ipynb'])"
   ]
  },
  {
   "cell_type": "code",
   "execution_count": null,
   "metadata": {},
   "outputs": [],
   "source": []
  }
 ],
 "metadata": {
  "kernelspec": {
   "display_name": "Python 3",
   "language": "python",
   "name": "python3"
  },
  "language_info": {
   "codemirror_mode": {
    "name": "ipython",
    "version": 3
   },
   "file_extension": ".py",
   "mimetype": "text/x-python",
   "name": "python",
   "nbconvert_exporter": "python",
   "pygments_lexer": "ipython3",
   "version": "3.7.6"
  }
 },
 "nbformat": 4,
 "nbformat_minor": 4
}
